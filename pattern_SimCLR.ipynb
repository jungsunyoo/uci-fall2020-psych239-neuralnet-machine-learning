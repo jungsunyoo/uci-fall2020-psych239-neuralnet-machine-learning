{
  "nbformat": 4,
  "nbformat_minor": 0,
  "metadata": {
    "colab": {
      "name": "pattern_SimCLR.ipynb",
      "provenance": [],
      "collapsed_sections": [],
      "authorship_tag": "ABX9TyNHvUQXPzq0MJ/V0AgZK3Th",
      "include_colab_link": true
    },
    "kernelspec": {
      "name": "python3",
      "display_name": "Python 3"
    },
    "accelerator": "GPU"
  },
  "cells": [
    {
      "cell_type": "markdown",
      "metadata": {
        "id": "view-in-github",
        "colab_type": "text"
      },
      "source": [
        "<a href=\"https://colab.research.google.com/github/yoojungsun0/Psych239/blob/master/pattern_SimCLR.ipynb\" target=\"_parent\"><img src=\"https://colab.research.google.com/assets/colab-badge.svg\" alt=\"Open In Colab\"/></a>"
      ]
    },
    {
      "cell_type": "code",
      "metadata": {
        "colab": {
          "base_uri": "https://localhost:8080/"
        },
        "id": "A9CzNhIZsnOl",
        "outputId": "9033d31c-aa42-4a80-c964-3442e0aee73b"
      },
      "source": [
        "# !git clone https://github.com/yoojungsun0/Psych239.git\n",
        "!pip install thop"
      ],
      "execution_count": 1,
      "outputs": [
        {
          "output_type": "stream",
          "text": [
            "Requirement already satisfied: thop in /usr/local/lib/python3.6/dist-packages (0.0.31.post2005241907)\n",
            "Requirement already satisfied: torch>=1.0.0 in /usr/local/lib/python3.6/dist-packages (from thop) (1.7.0+cu101)\n",
            "Requirement already satisfied: dataclasses in /usr/local/lib/python3.6/dist-packages (from torch>=1.0.0->thop) (0.8)\n",
            "Requirement already satisfied: future in /usr/local/lib/python3.6/dist-packages (from torch>=1.0.0->thop) (0.16.0)\n",
            "Requirement already satisfied: numpy in /usr/local/lib/python3.6/dist-packages (from torch>=1.0.0->thop) (1.18.5)\n",
            "Requirement already satisfied: typing-extensions in /usr/local/lib/python3.6/dist-packages (from torch>=1.0.0->thop) (3.7.4.3)\n"
          ],
          "name": "stdout"
        }
      ]
    },
    {
      "cell_type": "code",
      "metadata": {
        "id": "8ikfzIt5adK8",
        "colab": {
          "base_uri": "https://localhost:8080/"
        },
        "outputId": "7e97131b-298c-437c-a04f-0c9e2e58c495"
      },
      "source": [
        "import argparse\n",
        "import os\n",
        "\n",
        "import pandas as pd\n",
        "import torch\n",
        "import torch.optim as optim\n",
        "from thop import profile, clever_format\n",
        "from torch.utils.data import DataLoader\n",
        "from tqdm import tqdm\n",
        "\n",
        "# import utils\n",
        "\n",
        "\n",
        "from google.colab import drive\n",
        "drive.mount('/content/gdrive/')\n",
        "\n",
        "import sys\n",
        "%cd /content/gdrive/MyDrive/'Colab Notebooks'/SimCLR\n",
        "from model import Model\n",
        "# from model_separation import Model\n",
        "import utils\n",
        "import linear\n",
        "# !ls"
      ],
      "execution_count": 2,
      "outputs": [
        {
          "output_type": "stream",
          "text": [
            "Drive already mounted at /content/gdrive/; to attempt to forcibly remount, call drive.mount(\"/content/gdrive/\", force_remount=True).\n",
            "/content/gdrive/MyDrive/Colab Notebooks/SimCLR\n"
          ],
          "name": "stdout"
        }
      ]
    },
    {
      "cell_type": "code",
      "metadata": {
        "id": "_ReeC9qwvpsL"
      },
      "source": [
        "# train for one epoch to learn unique features\n",
        "def train(net, data_loader, train_optimizer):\n",
        "    net.train()\n",
        "    total_loss, total_num, train_bar = 0.0, 0, tqdm(data_loader)\n",
        "    for pos_1, pos_2, target in train_bar:\n",
        "        pos_1, pos_2 = pos_1.cuda(non_blocking=True), pos_2.cuda(non_blocking=True)\n",
        "        feature_1, out_1 = net(pos_1)\n",
        "        feature_2, out_2 = net(pos_2)\n",
        "        # [2*B, D]\n",
        "        out = torch.cat([out_1, out_2], dim=0)\n",
        "        # [2*B, 2*B]\n",
        "        sim_matrix = torch.exp(torch.mm(out, out.t().contiguous()) / temperature)\n",
        "        mask = (torch.ones_like(sim_matrix) - torch.eye(2 * batch_size, device=sim_matrix.device)).bool()\n",
        "        # [2*B, 2*B-1]\n",
        "        sim_matrix = sim_matrix.masked_select(mask).view(2 * batch_size, -1)\n",
        "\n",
        "        # compute loss\n",
        "        pos_sim = torch.exp(torch.sum(out_1 * out_2, dim=-1) / temperature)\n",
        "        # [2*B]\n",
        "        pos_sim = torch.cat([pos_sim, pos_sim], dim=0)\n",
        "        loss = (- torch.log(pos_sim / sim_matrix.sum(dim=-1))).mean()\n",
        "        train_optimizer.zero_grad()\n",
        "        loss.backward()\n",
        "        train_optimizer.step()\n",
        "\n",
        "        total_num += batch_size\n",
        "        total_loss += loss.item() * batch_size\n",
        "        train_bar.set_description('Train Epoch: [{}/{}] Loss: {:.4f}'.format(epoch, epochs, total_loss / total_num))\n",
        "\n",
        "    return total_loss / total_num\n",
        "\n",
        "def train_model2(net, data_loader, train_optimizer, gamma):\n",
        "    net.train()\n",
        "    total_loss, total_num, train_bar = 0.0, 0, tqdm(data_loader)\n",
        "    for pos_1, pos_2, target in train_bar:\n",
        "        pos_1, pos_2 = pos_1.cuda(non_blocking=True), pos_2.cuda(non_blocking=True)\n",
        "        feature_1, out_1 = net(pos_1)\n",
        "        feature_2, out_2 = net(pos_2)\n",
        "        # [2*B, D]\n",
        "        out = torch.cat([out_1, out_2], dim=0)\n",
        "        # [2*B, 2*B]\n",
        "        sim_matrix = torch.exp(torch.mm(out, out.t().contiguous()) / temperature)\n",
        "        mask = (torch.ones_like(sim_matrix) - torch.eye(2 * batch_size, device=sim_matrix.device)).bool()\n",
        "        # [2*B, 2*B-1]\n",
        "        sim_matrix = sim_matrix.masked_select(mask).view(2 * batch_size, -1)\n",
        "\n",
        "        # compute loss\n",
        "        pos_sim = torch.exp(torch.sum(out_1 * out_2, dim=-1) / temperature)\n",
        "        # [2*B]\n",
        "        pos_sim = torch.cat([pos_sim, pos_sim], dim=0)\n",
        "        loss1 = (- torch.log(pos_sim / sim_matrix.sum(dim=-1))).mean()\n",
        "\n",
        "        # pos_dis = distance between out_1 and out_2\n",
        "        pos_dis = out_1 - out_2\n",
        "        pos_dis = torch.square(pos_dis)\n",
        "        pos_dis = torch.sum(pos_dis)\n",
        "        pos_dis = torch.sqrt(pos_dis)\n",
        "        pos_dis = pos_dis.sum(dim=-1)\n",
        "        loss2 = pos_dis\n",
        "        # loss2 = - torch.log(pos_dis)\n",
        "\n",
        "\n",
        "        loss = loss1 + (loss2 * gamma)\n",
        "\n",
        "\n",
        "\n",
        "        train_optimizer.zero_grad()\n",
        "        loss.backward()\n",
        "        train_optimizer.step()\n",
        "\n",
        "        total_num += batch_size\n",
        "        total_loss += loss.item() * batch_size\n",
        "        train_bar.set_description('Train Epoch: [{}/{}] Loss: {:.4f}'.format(epoch, epochs, total_loss / total_num))\n",
        "\n",
        "    return total_loss / total_num\n",
        "\n",
        "def train_model3(net, data_loader, train_optimizer, gamma):\n",
        "    net.train()\n",
        "    total_loss, total_num, train_bar = 0.0, 0, tqdm(data_loader)\n",
        "    for pos_1, pos_2, target in train_bar:\n",
        "        pos_1, pos_2 = pos_1.cuda(non_blocking=True), pos_2.cuda(non_blocking=True)\n",
        "        feature_11, feature_12, out_11, out_12 = net(pos_1)\n",
        "        feature_21, feature_22, out_21, out_22 = net(pos_2)\n",
        "        # [2*B, D]\n",
        "        out = torch.cat([out_11, out_21], dim=0)\n",
        "        # [2*B, 2*B]\n",
        "        sim_matrix = torch.exp(torch.mm(out, out.t().contiguous()) / temperature)\n",
        "        mask = (torch.ones_like(sim_matrix) - torch.eye(2 * batch_size, device=sim_matrix.device)).bool()\n",
        "        # [2*B, 2*B-1]\n",
        "        sim_matrix = sim_matrix.masked_select(mask).view(2 * batch_size, -1)\n",
        "\n",
        "        # compute loss\n",
        "        pos_sim = torch.exp(torch.sum(out_11 * out_21, dim=-1) / temperature)\n",
        "        # [2*B]\n",
        "        pos_sim = torch.cat([pos_sim, pos_sim], dim=0)\n",
        "        loss1 = (- torch.log(pos_sim / sim_matrix.sum(dim=-1))).mean()\n",
        "\n",
        "        # loss for learning pattern separation\n",
        "        # pos_dis = distance between out_1 and out_2\n",
        "        pos_dis = out_12 - out_22\n",
        "        pos_dis = torch.square(pos_dis)\n",
        "        pos_dis = torch.sum(pos_dis)\n",
        "        pos_dis = torch.sqrt(pos_dis)\n",
        "        pos_dis = pos_dis.sum(dim=-1)\n",
        "        loss2 = pos_dis\n",
        "        # loss2 = - torch.log(pos_dis)\n",
        "\n",
        "\n",
        "        loss = loss1 + (loss2 * gamma)\n",
        "\n",
        "        train_optimizer.zero_grad()\n",
        "        loss.backward()\n",
        "        train_optimizer.step()\n",
        "\n",
        "        total_num += batch_size\n",
        "        total_loss += loss.item() * batch_size\n",
        "        train_bar.set_description('Train Epoch: [{}/{}] Loss: {:.4f}'.format(epoch, epochs, total_loss / total_num))\n",
        "\n",
        "    return total_loss / total_num\n",
        "\n",
        "# test for one epoch, use weighted knn to find the most similar images' label to assign the test image\n",
        "def test_model2(net, memory_data_loader, test_data_loader):\n",
        "    net.eval()\n",
        "    total_top1, total_top5, total_num, feature_bank = 0.0, 0.0, 0, []\n",
        "    with torch.no_grad():\n",
        "        # generate feature bank\n",
        "        for data, _, target in tqdm(memory_data_loader, desc='Feature extracting'):\n",
        "            feature, out = net(data.cuda(non_blocking=True))\n",
        "            feature_bank.append(feature)\n",
        "        # [D, N]\n",
        "        feature_bank = torch.cat(feature_bank, dim=0).t().contiguous()\n",
        "        # [N]\n",
        "        feature_labels = torch.tensor(memory_data_loader.dataset.targets, device=feature_bank.device)\n",
        "        # loop test data to predict the label by weighted knn search\n",
        "        test_bar = tqdm(test_data_loader)\n",
        "        for data, _, target in test_bar:\n",
        "            data, target = data.cuda(non_blocking=True), target.cuda(non_blocking=True)\n",
        "            feature, out = net(data)\n",
        "\n",
        "            total_num += data.size(0)\n",
        "            # compute cos similarity between each feature vector and feature bank ---> [B, N]\n",
        "            sim_matrix = torch.mm(feature, feature_bank) # matrix multiplication\n",
        "            # [B, K]\n",
        "            sim_weight, sim_indices = sim_matrix.topk(k=k, dim=-1)\n",
        "            # [B, K]\n",
        "            sim_labels = torch.gather(feature_labels.expand(data.size(0), -1), dim=-1, index=sim_indices)\n",
        "            sim_weight = (sim_weight / temperature).exp()\n",
        "\n",
        "            # counts for each class\n",
        "            one_hot_label = torch.zeros(data.size(0) * k, c, device=sim_labels.device)\n",
        "            # [B*K, C]\n",
        "            one_hot_label = one_hot_label.scatter(dim=-1, index=sim_labels.view(-1, 1), value=1.0)\n",
        "            # weighted score ---> [B, C]\n",
        "            pred_scores = torch.sum(one_hot_label.view(data.size(0), -1, c) * sim_weight.unsqueeze(dim=-1), dim=1)\n",
        "\n",
        "            pred_labels = pred_scores.argsort(dim=-1, descending=True)\n",
        "            total_top1 += torch.sum((pred_labels[:, :1] == target.unsqueeze(dim=-1)).any(dim=-1).float()).item()\n",
        "            total_top5 += torch.sum((pred_labels[:, :5] == target.unsqueeze(dim=-1)).any(dim=-1).float()).item()\n",
        "            test_bar.set_description('Test Epoch: [{}/{}] Acc@1:{:.2f}% Acc@5:{:.2f}%'\n",
        "                                     .format(epoch, epochs, total_top1 / total_num * 100, total_top5 / total_num * 100))\n",
        "\n",
        "    return total_top1 / total_num * 100, total_top5 / total_num * 100\n",
        "\n",
        "# test for one epoch, use weighted knn to find the most similar images' label to assign the test image\n",
        "def test_model3(net, memory_data_loader, test_data_loader):\n",
        "    net.eval()\n",
        "    total_top1, total_top5, total_num, feature_bank = 0.0, 0.0, 0, []\n",
        "    with torch.no_grad():\n",
        "        # generate feature bank\n",
        "        for data, _, target in tqdm(memory_data_loader, desc='Feature extracting'):\n",
        "            feature, out, _, _ = net(data.cuda(non_blocking=True))\n",
        "            feature_bank.append(feature)\n",
        "        # [D, N]\n",
        "        feature_bank = torch.cat(feature_bank, dim=0).t().contiguous()\n",
        "        # [N]\n",
        "        feature_labels = torch.tensor(memory_data_loader.dataset.targets, device=feature_bank.device)\n",
        "        # loop test data to predict the label by weighted knn search\n",
        "        test_bar = tqdm(test_data_loader)\n",
        "        for data, _, target in test_bar:\n",
        "            data, target = data.cuda(non_blocking=True), target.cuda(non_blocking=True)\n",
        "            feature, out, _, _ = net(data)\n",
        "\n",
        "            total_num += data.size(0)\n",
        "            # compute cos similarity between each feature vector and feature bank ---> [B, N]\n",
        "            sim_matrix = torch.mm(feature, feature_bank) # matrix multiplication\n",
        "            # [B, K]\n",
        "            sim_weight, sim_indices = sim_matrix.topk(k=k, dim=-1)\n",
        "            # [B, K]\n",
        "            sim_labels = torch.gather(feature_labels.expand(data.size(0), -1), dim=-1, index=sim_indices)\n",
        "            sim_weight = (sim_weight / temperature).exp()\n",
        "\n",
        "            # counts for each class\n",
        "            one_hot_label = torch.zeros(data.size(0) * k, c, device=sim_labels.device)\n",
        "            # [B*K, C]\n",
        "            one_hot_label = one_hot_label.scatter(dim=-1, index=sim_labels.view(-1, 1), value=1.0)\n",
        "            # weighted score ---> [B, C]\n",
        "            pred_scores = torch.sum(one_hot_label.view(data.size(0), -1, c) * sim_weight.unsqueeze(dim=-1), dim=1)\n",
        "\n",
        "            pred_labels = pred_scores.argsort(dim=-1, descending=True)\n",
        "            total_top1 += torch.sum((pred_labels[:, :1] == target.unsqueeze(dim=-1)).any(dim=-1).float()).item()\n",
        "            total_top5 += torch.sum((pred_labels[:, :5] == target.unsqueeze(dim=-1)).any(dim=-1).float()).item()\n",
        "            test_bar.set_description('Test Epoch: [{}/{}] Acc@1:{:.2f}% Acc@5:{:.2f}%'\n",
        "                                     .format(epoch, epochs, total_top1 / total_num * 100, total_top5 / total_num * 100))\n",
        "\n",
        "    return total_top1 / total_num * 100, total_top5 / total_num * 100\n"
      ],
      "execution_count": 3,
      "outputs": []
    },
    {
      "cell_type": "code",
      "metadata": {
        "id": "fV1cWOGov3uo"
      },
      "source": [
        "# parameters \n",
        "\n",
        "feature_dim = 128\n",
        "temperature = 0.5\n",
        "k = 200\n",
        "# batch_size = 512\n",
        "# epochs = 500\n",
        "batch_size = 256\n",
        "epochs = 100\n",
        "\n",
        "# yjs added\n",
        "gamma = 0.01 #0.2"
      ],
      "execution_count": 4,
      "outputs": []
    },
    {
      "cell_type": "code",
      "metadata": {
        "colab": {
          "base_uri": "https://localhost:8080/"
        },
        "id": "0ocZCFibw5Zd",
        "outputId": "b31f7a0a-3dbd-4b73-80c9-53d7af78b927"
      },
      "source": [
        "# data prepare\n",
        "train_data = utils.CIFAR10Pair(root='data', train=True, transform=utils.train_transform, download=True)\n",
        "train_loader = DataLoader(train_data, batch_size=batch_size, shuffle=True, num_workers=16, pin_memory=True,\n",
        "                          drop_last=True)\n",
        "memory_data = utils.CIFAR10Pair(root='data', train=True, transform=utils.test_transform, download=True)\n",
        "memory_loader = DataLoader(memory_data, batch_size=batch_size, shuffle=False, num_workers=16, pin_memory=True)\n",
        "test_data = utils.CIFAR10Pair(root='data', train=False, transform=utils.test_transform, download=True)\n",
        "test_loader = DataLoader(test_data, batch_size=batch_size, shuffle=False, num_workers=16, pin_memory=True)\n",
        "\n",
        "# model setup and optimizer config\n",
        "# model = Model(feature_dim).cuda()\n",
        "model = Model(feature_dim).cuda()\n",
        "flops, params = profile(model, inputs=(torch.randn(1, 3, 32, 32).cuda(),))\n",
        "flops, params = clever_format([flops, params])\n",
        "print('# Model Params: {} FLOPs: {}'.format(params, flops))\n",
        "optimizer = optim.Adam(model.parameters(), lr=1e-3, weight_decay=1e-6)\n",
        "c = len(memory_data.classes)\n",
        "\n",
        "# training loop\n",
        "results = {'train_loss': [], 'test_acc@1': [], 'test_acc@5': []}\n",
        "save_name_pre = '{}_{}_{}_{}_{}'.format(feature_dim, temperature, k, batch_size, epochs)\n",
        "if not os.path.exists('results'):\n",
        "    os.mkdir('results')\n",
        "best_acc = 0.0\n",
        "for epoch in range(1, epochs + 1):\n",
        "    # train_loss = train(model, train_loader, optimizer)\n",
        "    train_loss = train_model2(model, train_loader, optimizer, gamma)\n",
        "    results['train_loss'].append(train_loss)\n",
        "    test_acc_1, test_acc_5 = test_model2(model, memory_loader, test_loader)\n",
        "    results['test_acc@1'].append(test_acc_1)\n",
        "    results['test_acc@5'].append(test_acc_5)\n",
        "    # save statistics\n",
        "    data_frame = pd.DataFrame(data=results, index=range(1, epoch + 1))\n",
        "    data_frame.to_csv('results/{}_statistics.csv'.format(save_name_pre), index_label='epoch')\n",
        "    \n",
        "    if test_acc_1 > best_acc:\n",
        "        best_acc = test_acc_1\n",
        "        torch.save(model.state_dict(), 'results/{}_model.pth'.format(save_name_pre))\n",
        "\n",
        "    print('Best accuracy: {}'.format(best_acc))    \n",
        "        \n",
        "while True:\n",
        "  pass"
      ],
      "execution_count": null,
      "outputs": [
        {
          "output_type": "stream",
          "text": [
            "Files already downloaded and verified\n",
            "Files already downloaded and verified\n",
            "Files already downloaded and verified\n"
          ],
          "name": "stdout"
        },
        {
          "output_type": "stream",
          "text": [
            "\r  0%|          | 0/195 [00:00<?, ?it/s]"
          ],
          "name": "stderr"
        },
        {
          "output_type": "stream",
          "text": [
            "[INFO] Register count_convNd() for <class 'torch.nn.modules.conv.Conv2d'>.\n",
            "[INFO] Register count_bn() for <class 'torch.nn.modules.batchnorm.BatchNorm2d'>.\n",
            "[INFO] Register zero_ops() for <class 'torch.nn.modules.activation.ReLU'>.\n",
            "\u001b[91m[WARN] Cannot find rule for <class 'torch.nn.modules.container.Sequential'>. Treat it as zero Macs and zero Params.\u001b[00m\n",
            "\u001b[91m[WARN] Cannot find rule for <class 'torchvision.models.resnet.Bottleneck'>. Treat it as zero Macs and zero Params.\u001b[00m\n",
            "[INFO] Register count_adap_avgpool() for <class 'torch.nn.modules.pooling.AdaptiveAvgPool2d'>.\n",
            "[INFO] Register count_linear() for <class 'torch.nn.modules.linear.Linear'>.\n",
            "[INFO] Register count_bn() for <class 'torch.nn.modules.batchnorm.BatchNorm1d'>.\n",
            "\u001b[91m[WARN] Cannot find rule for <class 'model.Model'>. Treat it as zero Macs and zero Params.\u001b[00m\n",
            "# Model Params: 24.62M FLOPs: 1.31G\n"
          ],
          "name": "stdout"
        },
        {
          "output_type": "stream",
          "text": [
            "Train Epoch: [1/100] Loss: 5.9591: 100%|██████████| 195/195 [06:11<00:00,  1.90s/it]\n",
            "Feature extracting: 100%|██████████| 196/196 [00:47<00:00,  4.17it/s]\n",
            "Test Epoch: [1/100] Acc@1:34.93% Acc@5:85.25%: 100%|██████████| 40/40 [00:12<00:00,  3.33it/s]\n",
            "  0%|          | 0/195 [00:00<?, ?it/s]"
          ],
          "name": "stderr"
        },
        {
          "output_type": "stream",
          "text": [
            "Best accuracy: 34.93\n"
          ],
          "name": "stdout"
        },
        {
          "output_type": "stream",
          "text": [
            "Train Epoch: [2/100] Loss: 5.5936: 100%|██████████| 195/195 [06:12<00:00,  1.91s/it]\n",
            "Feature extracting: 100%|██████████| 196/196 [00:47<00:00,  4.16it/s]\n",
            "Test Epoch: [2/100] Acc@1:38.92% Acc@5:88.95%: 100%|██████████| 40/40 [00:12<00:00,  3.32it/s]\n",
            "  0%|          | 0/195 [00:00<?, ?it/s]"
          ],
          "name": "stderr"
        },
        {
          "output_type": "stream",
          "text": [
            "Best accuracy: 38.92\n"
          ],
          "name": "stdout"
        },
        {
          "output_type": "stream",
          "text": [
            "Train Epoch: [3/100] Loss: 5.4012: 100%|██████████| 195/195 [06:13<00:00,  1.91s/it]\n",
            "Feature extracting: 100%|██████████| 196/196 [00:47<00:00,  4.14it/s]\n",
            "Test Epoch: [3/100] Acc@1:42.04% Acc@5:90.92%: 100%|██████████| 40/40 [00:12<00:00,  3.31it/s]\n",
            "  0%|          | 0/195 [00:00<?, ?it/s]"
          ],
          "name": "stderr"
        },
        {
          "output_type": "stream",
          "text": [
            "Best accuracy: 42.04\n"
          ],
          "name": "stdout"
        },
        {
          "output_type": "stream",
          "text": [
            "Train Epoch: [4/100] Loss: 5.2985: 100%|██████████| 195/195 [06:13<00:00,  1.91s/it]\n",
            "Feature extracting: 100%|██████████| 196/196 [00:47<00:00,  4.15it/s]\n",
            "Test Epoch: [4/100] Acc@1:45.55% Acc@5:92.15%: 100%|██████████| 40/40 [00:12<00:00,  3.31it/s]\n",
            "  0%|          | 0/195 [00:00<?, ?it/s]"
          ],
          "name": "stderr"
        },
        {
          "output_type": "stream",
          "text": [
            "Best accuracy: 45.550000000000004\n"
          ],
          "name": "stdout"
        },
        {
          "output_type": "stream",
          "text": [
            "Train Epoch: [5/100] Loss: 5.2325: 100%|██████████| 195/195 [06:13<00:00,  1.91s/it]\n",
            "Feature extracting: 100%|██████████| 196/196 [00:47<00:00,  4.17it/s]\n",
            "Test Epoch: [5/100] Acc@1:47.73% Acc@5:92.92%: 100%|██████████| 40/40 [00:12<00:00,  3.30it/s]\n",
            "  0%|          | 0/195 [00:00<?, ?it/s]"
          ],
          "name": "stderr"
        },
        {
          "output_type": "stream",
          "text": [
            "Best accuracy: 47.73\n"
          ],
          "name": "stdout"
        },
        {
          "output_type": "stream",
          "text": [
            "Train Epoch: [6/100] Loss: 5.1764: 100%|██████████| 195/195 [06:12<00:00,  1.91s/it]\n",
            "Feature extracting: 100%|██████████| 196/196 [00:46<00:00,  4.18it/s]\n",
            "Test Epoch: [6/100] Acc@1:49.21% Acc@5:93.99%: 100%|██████████| 40/40 [00:12<00:00,  3.29it/s]\n",
            "  0%|          | 0/195 [00:00<?, ?it/s]"
          ],
          "name": "stderr"
        },
        {
          "output_type": "stream",
          "text": [
            "Best accuracy: 49.21\n"
          ],
          "name": "stdout"
        },
        {
          "output_type": "stream",
          "text": [
            "Train Epoch: [7/100] Loss: 5.1490: 100%|██████████| 195/195 [06:13<00:00,  1.91s/it]\n",
            "Feature extracting: 100%|██████████| 196/196 [00:47<00:00,  4.14it/s]\n",
            "Test Epoch: [7/100] Acc@1:53.28% Acc@5:95.11%: 100%|██████████| 40/40 [00:12<00:00,  3.32it/s]\n",
            "  0%|          | 0/195 [00:00<?, ?it/s]"
          ],
          "name": "stderr"
        },
        {
          "output_type": "stream",
          "text": [
            "Best accuracy: 53.28000000000001\n"
          ],
          "name": "stdout"
        },
        {
          "output_type": "stream",
          "text": [
            "Train Epoch: [8/100] Loss: 5.1134: 100%|██████████| 195/195 [06:14<00:00,  1.92s/it]\n",
            "Feature extracting: 100%|██████████| 196/196 [00:47<00:00,  4.14it/s]\n",
            "Test Epoch: [8/100] Acc@1:54.12% Acc@5:95.54%: 100%|██████████| 40/40 [00:12<00:00,  3.29it/s]\n",
            "  0%|          | 0/195 [00:00<?, ?it/s]"
          ],
          "name": "stderr"
        },
        {
          "output_type": "stream",
          "text": [
            "Best accuracy: 54.120000000000005\n"
          ],
          "name": "stdout"
        },
        {
          "output_type": "stream",
          "text": [
            "Train Epoch: [9/100] Loss: 5.0861: 100%|██████████| 195/195 [06:13<00:00,  1.92s/it]\n",
            "Feature extracting: 100%|██████████| 196/196 [00:47<00:00,  4.14it/s]\n",
            "Test Epoch: [9/100] Acc@1:56.95% Acc@5:96.26%: 100%|██████████| 40/40 [00:12<00:00,  3.31it/s]\n",
            "  0%|          | 0/195 [00:00<?, ?it/s]"
          ],
          "name": "stderr"
        },
        {
          "output_type": "stream",
          "text": [
            "Best accuracy: 56.95\n"
          ],
          "name": "stdout"
        },
        {
          "output_type": "stream",
          "text": [
            "Train Epoch: [10/100] Loss: 5.0667: 100%|██████████| 195/195 [06:13<00:00,  1.91s/it]\n",
            "Feature extracting: 100%|██████████| 196/196 [00:47<00:00,  4.15it/s]\n",
            "Test Epoch: [10/100] Acc@1:56.80% Acc@5:96.31%: 100%|██████████| 40/40 [00:12<00:00,  3.31it/s]\n",
            "  0%|          | 0/195 [00:00<?, ?it/s]"
          ],
          "name": "stderr"
        },
        {
          "output_type": "stream",
          "text": [
            "Best accuracy: 56.95\n"
          ],
          "name": "stdout"
        },
        {
          "output_type": "stream",
          "text": [
            "Train Epoch: [11/100] Loss: 5.0462: 100%|██████████| 195/195 [06:12<00:00,  1.91s/it]\n",
            "Feature extracting: 100%|██████████| 196/196 [00:47<00:00,  4.14it/s]\n",
            "Test Epoch: [11/100] Acc@1:58.76% Acc@5:96.21%: 100%|██████████| 40/40 [00:12<00:00,  3.32it/s]\n",
            "  0%|          | 0/195 [00:00<?, ?it/s]"
          ],
          "name": "stderr"
        },
        {
          "output_type": "stream",
          "text": [
            "Best accuracy: 58.76\n"
          ],
          "name": "stdout"
        },
        {
          "output_type": "stream",
          "text": [
            "Train Epoch: [12/100] Loss: 5.0300: 100%|██████████| 195/195 [06:14<00:00,  1.92s/it]\n",
            "Feature extracting: 100%|██████████| 196/196 [00:47<00:00,  4.14it/s]\n",
            "Test Epoch: [12/100] Acc@1:58.87% Acc@5:96.43%: 100%|██████████| 40/40 [00:12<00:00,  3.31it/s]\n",
            "  0%|          | 0/195 [00:00<?, ?it/s]"
          ],
          "name": "stderr"
        },
        {
          "output_type": "stream",
          "text": [
            "Best accuracy: 58.87\n"
          ],
          "name": "stdout"
        },
        {
          "output_type": "stream",
          "text": [
            "Train Epoch: [13/100] Loss: 5.0170: 100%|██████████| 195/195 [06:13<00:00,  1.92s/it]\n",
            "Feature extracting: 100%|██████████| 196/196 [00:47<00:00,  4.15it/s]\n",
            "Test Epoch: [13/100] Acc@1:60.29% Acc@5:96.64%: 100%|██████████| 40/40 [00:11<00:00,  3.38it/s]\n",
            "  0%|          | 0/195 [00:00<?, ?it/s]"
          ],
          "name": "stderr"
        },
        {
          "output_type": "stream",
          "text": [
            "Best accuracy: 60.29\n"
          ],
          "name": "stdout"
        },
        {
          "output_type": "stream",
          "text": [
            "Train Epoch: [14/100] Loss: 5.0050: 100%|██████████| 195/195 [06:12<00:00,  1.91s/it]\n",
            "Feature extracting: 100%|██████████| 196/196 [00:47<00:00,  4.14it/s]\n",
            "Test Epoch: [14/100] Acc@1:62.28% Acc@5:97.01%: 100%|██████████| 40/40 [00:12<00:00,  3.28it/s]\n",
            "  0%|          | 0/195 [00:00<?, ?it/s]"
          ],
          "name": "stderr"
        },
        {
          "output_type": "stream",
          "text": [
            "Best accuracy: 62.28\n"
          ],
          "name": "stdout"
        },
        {
          "output_type": "stream",
          "text": [
            "Train Epoch: [15/100] Loss: 4.9975: 100%|██████████| 195/195 [06:13<00:00,  1.91s/it]\n",
            "Feature extracting: 100%|██████████| 196/196 [00:47<00:00,  4.15it/s]\n",
            "Test Epoch: [15/100] Acc@1:63.14% Acc@5:97.36%: 100%|██████████| 40/40 [00:11<00:00,  3.35it/s]\n",
            "  0%|          | 0/195 [00:00<?, ?it/s]"
          ],
          "name": "stderr"
        },
        {
          "output_type": "stream",
          "text": [
            "Best accuracy: 63.13999999999999\n"
          ],
          "name": "stdout"
        },
        {
          "output_type": "stream",
          "text": [
            "Train Epoch: [16/100] Loss: 4.9885: 100%|██████████| 195/195 [06:12<00:00,  1.91s/it]\n",
            "Feature extracting: 100%|██████████| 196/196 [00:47<00:00,  4.15it/s]\n",
            "Test Epoch: [16/100] Acc@1:63.56% Acc@5:97.15%: 100%|██████████| 40/40 [00:11<00:00,  3.35it/s]\n",
            "  0%|          | 0/195 [00:00<?, ?it/s]"
          ],
          "name": "stderr"
        },
        {
          "output_type": "stream",
          "text": [
            "Best accuracy: 63.56\n"
          ],
          "name": "stdout"
        },
        {
          "output_type": "stream",
          "text": [
            "Train Epoch: [17/100] Loss: 4.9767: 100%|██████████| 195/195 [06:12<00:00,  1.91s/it]\n",
            "Feature extracting: 100%|██████████| 196/196 [00:47<00:00,  4.17it/s]\n",
            "Test Epoch: [17/100] Acc@1:63.65% Acc@5:97.28%: 100%|██████████| 40/40 [00:11<00:00,  3.36it/s]\n",
            "  0%|          | 0/195 [00:00<?, ?it/s]"
          ],
          "name": "stderr"
        },
        {
          "output_type": "stream",
          "text": [
            "Best accuracy: 63.65\n"
          ],
          "name": "stdout"
        },
        {
          "output_type": "stream",
          "text": [
            "Train Epoch: [18/100] Loss: 4.9748: 100%|██████████| 195/195 [06:12<00:00,  1.91s/it]\n",
            "Feature extracting: 100%|██████████| 196/196 [00:46<00:00,  4.17it/s]\n",
            "Test Epoch: [18/100] Acc@1:63.93% Acc@5:97.36%: 100%|██████████| 40/40 [00:12<00:00,  3.31it/s]\n",
            "  0%|          | 0/195 [00:00<?, ?it/s]"
          ],
          "name": "stderr"
        },
        {
          "output_type": "stream",
          "text": [
            "Best accuracy: 63.93\n"
          ],
          "name": "stdout"
        },
        {
          "output_type": "stream",
          "text": [
            "Train Epoch: [19/100] Loss: 4.9627: 100%|██████████| 195/195 [06:12<00:00,  1.91s/it]\n",
            "Feature extracting: 100%|██████████| 196/196 [00:47<00:00,  4.15it/s]\n",
            "Test Epoch: [19/100] Acc@1:64.25% Acc@5:97.42%: 100%|██████████| 40/40 [00:12<00:00,  3.31it/s]\n",
            "  0%|          | 0/195 [00:00<?, ?it/s]"
          ],
          "name": "stderr"
        },
        {
          "output_type": "stream",
          "text": [
            "Best accuracy: 64.25\n"
          ],
          "name": "stdout"
        },
        {
          "output_type": "stream",
          "text": [
            "Train Epoch: [20/100] Loss: 4.9596: 100%|██████████| 195/195 [06:12<00:00,  1.91s/it]\n",
            "Feature extracting: 100%|██████████| 196/196 [00:47<00:00,  4.14it/s]\n",
            "Test Epoch: [20/100] Acc@1:65.45% Acc@5:97.63%: 100%|██████████| 40/40 [00:12<00:00,  3.33it/s]\n",
            "  0%|          | 0/195 [00:00<?, ?it/s]"
          ],
          "name": "stderr"
        },
        {
          "output_type": "stream",
          "text": [
            "Best accuracy: 65.45\n"
          ],
          "name": "stdout"
        },
        {
          "output_type": "stream",
          "text": [
            "Train Epoch: [21/100] Loss: 4.9547: 100%|██████████| 195/195 [06:13<00:00,  1.92s/it]\n",
            "Feature extracting: 100%|██████████| 196/196 [00:47<00:00,  4.15it/s]\n",
            "Test Epoch: [21/100] Acc@1:65.78% Acc@5:97.55%: 100%|██████████| 40/40 [00:12<00:00,  3.31it/s]\n",
            "  0%|          | 0/195 [00:00<?, ?it/s]"
          ],
          "name": "stderr"
        },
        {
          "output_type": "stream",
          "text": [
            "Best accuracy: 65.78\n"
          ],
          "name": "stdout"
        },
        {
          "output_type": "stream",
          "text": [
            "Train Epoch: [22/100] Loss: 4.9457: 100%|██████████| 195/195 [06:12<00:00,  1.91s/it]\n",
            "Feature extracting: 100%|██████████| 196/196 [00:47<00:00,  4.15it/s]\n",
            "Test Epoch: [22/100] Acc@1:65.57% Acc@5:97.46%: 100%|██████████| 40/40 [00:12<00:00,  3.30it/s]\n",
            "  0%|          | 0/195 [00:00<?, ?it/s]"
          ],
          "name": "stderr"
        },
        {
          "output_type": "stream",
          "text": [
            "Best accuracy: 65.78\n"
          ],
          "name": "stdout"
        },
        {
          "output_type": "stream",
          "text": [
            "Train Epoch: [23/100] Loss: 4.9370: 100%|██████████| 195/195 [06:12<00:00,  1.91s/it]\n",
            "Feature extracting: 100%|██████████| 196/196 [00:47<00:00,  4.14it/s]\n",
            "Test Epoch: [23/100] Acc@1:66.51% Acc@5:97.79%: 100%|██████████| 40/40 [00:12<00:00,  3.27it/s]\n",
            "  0%|          | 0/195 [00:00<?, ?it/s]"
          ],
          "name": "stderr"
        },
        {
          "output_type": "stream",
          "text": [
            "Best accuracy: 66.51\n"
          ],
          "name": "stdout"
        },
        {
          "output_type": "stream",
          "text": [
            "Train Epoch: [24/100] Loss: 4.9364: 100%|██████████| 195/195 [06:13<00:00,  1.91s/it]\n",
            "Feature extracting: 100%|██████████| 196/196 [00:47<00:00,  4.14it/s]\n",
            "Test Epoch: [24/100] Acc@1:66.43% Acc@5:97.75%: 100%|██████████| 40/40 [00:12<00:00,  3.26it/s]\n",
            "  0%|          | 0/195 [00:00<?, ?it/s]"
          ],
          "name": "stderr"
        },
        {
          "output_type": "stream",
          "text": [
            "Best accuracy: 66.51\n"
          ],
          "name": "stdout"
        },
        {
          "output_type": "stream",
          "text": [
            "Train Epoch: [25/100] Loss: 4.9323: 100%|██████████| 195/195 [06:13<00:00,  1.91s/it]\n",
            "Feature extracting: 100%|██████████| 196/196 [00:47<00:00,  4.15it/s]\n",
            "Test Epoch: [25/100] Acc@1:67.48% Acc@5:97.81%: 100%|██████████| 40/40 [00:12<00:00,  3.32it/s]\n",
            "  0%|          | 0/195 [00:00<?, ?it/s]"
          ],
          "name": "stderr"
        },
        {
          "output_type": "stream",
          "text": [
            "Best accuracy: 67.47999999999999\n"
          ],
          "name": "stdout"
        },
        {
          "output_type": "stream",
          "text": [
            "Train Epoch: [26/100] Loss: 4.9283: 100%|██████████| 195/195 [06:13<00:00,  1.92s/it]\n",
            "Feature extracting: 100%|██████████| 196/196 [00:47<00:00,  4.14it/s]\n",
            "Test Epoch: [26/100] Acc@1:68.05% Acc@5:97.80%: 100%|██████████| 40/40 [00:12<00:00,  3.27it/s]\n",
            "  0%|          | 0/195 [00:00<?, ?it/s]"
          ],
          "name": "stderr"
        },
        {
          "output_type": "stream",
          "text": [
            "Best accuracy: 68.05\n"
          ],
          "name": "stdout"
        },
        {
          "output_type": "stream",
          "text": [
            "Train Epoch: [27/100] Loss: 4.9221: 100%|██████████| 195/195 [06:12<00:00,  1.91s/it]\n",
            "Feature extracting: 100%|██████████| 196/196 [00:47<00:00,  4.15it/s]\n",
            "Test Epoch: [27/100] Acc@1:67.94% Acc@5:97.98%: 100%|██████████| 40/40 [00:12<00:00,  3.27it/s]\n",
            "  0%|          | 0/195 [00:00<?, ?it/s]"
          ],
          "name": "stderr"
        },
        {
          "output_type": "stream",
          "text": [
            "Best accuracy: 68.05\n"
          ],
          "name": "stdout"
        },
        {
          "output_type": "stream",
          "text": [
            "Train Epoch: [28/100] Loss: 4.9216: 100%|██████████| 195/195 [06:12<00:00,  1.91s/it]\n",
            "Feature extracting: 100%|██████████| 196/196 [00:47<00:00,  4.15it/s]\n",
            "Test Epoch: [28/100] Acc@1:68.87% Acc@5:97.91%: 100%|██████████| 40/40 [00:12<00:00,  3.33it/s]\n",
            "  0%|          | 0/195 [00:00<?, ?it/s]"
          ],
          "name": "stderr"
        },
        {
          "output_type": "stream",
          "text": [
            "Best accuracy: 68.87\n"
          ],
          "name": "stdout"
        },
        {
          "output_type": "stream",
          "text": [
            "Train Epoch: [29/100] Loss: 4.9136: 100%|██████████| 195/195 [06:12<00:00,  1.91s/it]\n",
            "Feature extracting: 100%|██████████| 196/196 [00:47<00:00,  4.15it/s]\n",
            "Test Epoch: [29/100] Acc@1:67.99% Acc@5:97.87%: 100%|██████████| 40/40 [00:12<00:00,  3.30it/s]\n",
            "  0%|          | 0/195 [00:00<?, ?it/s]"
          ],
          "name": "stderr"
        },
        {
          "output_type": "stream",
          "text": [
            "Best accuracy: 68.87\n"
          ],
          "name": "stdout"
        },
        {
          "output_type": "stream",
          "text": [
            "Train Epoch: [30/100] Loss: 4.9100: 100%|██████████| 195/195 [06:12<00:00,  1.91s/it]\n",
            "Feature extracting: 100%|██████████| 196/196 [00:47<00:00,  4.15it/s]\n",
            "Test Epoch: [30/100] Acc@1:68.77% Acc@5:98.05%: 100%|██████████| 40/40 [00:12<00:00,  3.29it/s]\n",
            "  0%|          | 0/195 [00:00<?, ?it/s]"
          ],
          "name": "stderr"
        },
        {
          "output_type": "stream",
          "text": [
            "Best accuracy: 68.87\n"
          ],
          "name": "stdout"
        },
        {
          "output_type": "stream",
          "text": [
            "Train Epoch: [31/100] Loss: 4.9058: 100%|██████████| 195/195 [06:12<00:00,  1.91s/it]\n",
            "Feature extracting: 100%|██████████| 196/196 [00:47<00:00,  4.14it/s]\n",
            "Test Epoch: [31/100] Acc@1:68.90% Acc@5:97.94%: 100%|██████████| 40/40 [00:12<00:00,  3.31it/s]\n",
            "  0%|          | 0/195 [00:00<?, ?it/s]"
          ],
          "name": "stderr"
        },
        {
          "output_type": "stream",
          "text": [
            "Best accuracy: 68.89999999999999\n"
          ],
          "name": "stdout"
        },
        {
          "output_type": "stream",
          "text": [
            "Train Epoch: [32/100] Loss: 4.9025: 100%|██████████| 195/195 [06:12<00:00,  1.91s/it]\n",
            "Feature extracting: 100%|██████████| 196/196 [00:47<00:00,  4.16it/s]\n",
            "Test Epoch: [32/100] Acc@1:69.12% Acc@5:98.21%: 100%|██████████| 40/40 [00:12<00:00,  3.33it/s]\n",
            "  0%|          | 0/195 [00:00<?, ?it/s]"
          ],
          "name": "stderr"
        },
        {
          "output_type": "stream",
          "text": [
            "Best accuracy: 69.12\n"
          ],
          "name": "stdout"
        },
        {
          "output_type": "stream",
          "text": [
            "Train Epoch: [33/100] Loss: 4.8997: 100%|██████████| 195/195 [06:12<00:00,  1.91s/it]\n",
            "Feature extracting: 100%|██████████| 196/196 [00:46<00:00,  4.18it/s]\n",
            "Test Epoch: [33/100] Acc@1:69.03% Acc@5:98.03%: 100%|██████████| 40/40 [00:12<00:00,  3.30it/s]\n",
            "  0%|          | 0/195 [00:00<?, ?it/s]"
          ],
          "name": "stderr"
        },
        {
          "output_type": "stream",
          "text": [
            "Best accuracy: 69.12\n"
          ],
          "name": "stdout"
        },
        {
          "output_type": "stream",
          "text": [
            "Train Epoch: [34/100] Loss: 4.8971: 100%|██████████| 195/195 [06:12<00:00,  1.91s/it]\n",
            "Feature extracting: 100%|██████████| 196/196 [00:47<00:00,  4.16it/s]\n",
            "Test Epoch: [34/100] Acc@1:68.89% Acc@5:97.96%: 100%|██████████| 40/40 [00:12<00:00,  3.32it/s]\n",
            "  0%|          | 0/195 [00:00<?, ?it/s]"
          ],
          "name": "stderr"
        },
        {
          "output_type": "stream",
          "text": [
            "Best accuracy: 69.12\n"
          ],
          "name": "stdout"
        },
        {
          "output_type": "stream",
          "text": [
            "Train Epoch: [35/100] Loss: 4.8963: 100%|██████████| 195/195 [06:13<00:00,  1.91s/it]\n",
            "Feature extracting: 100%|██████████| 196/196 [00:47<00:00,  4.15it/s]\n",
            "Test Epoch: [35/100] Acc@1:69.56% Acc@5:98.14%: 100%|██████████| 40/40 [00:12<00:00,  3.27it/s]\n",
            "  0%|          | 0/195 [00:00<?, ?it/s]"
          ],
          "name": "stderr"
        },
        {
          "output_type": "stream",
          "text": [
            "Best accuracy: 69.56\n"
          ],
          "name": "stdout"
        },
        {
          "output_type": "stream",
          "text": [
            "Train Epoch: [36/100] Loss: 4.8899: 100%|██████████| 195/195 [06:12<00:00,  1.91s/it]\n",
            "Feature extracting: 100%|██████████| 196/196 [00:46<00:00,  4.17it/s]\n",
            "Test Epoch: [36/100] Acc@1:69.67% Acc@5:98.18%: 100%|██████████| 40/40 [00:12<00:00,  3.32it/s]\n",
            "  0%|          | 0/195 [00:00<?, ?it/s]"
          ],
          "name": "stderr"
        },
        {
          "output_type": "stream",
          "text": [
            "Best accuracy: 69.67\n"
          ],
          "name": "stdout"
        },
        {
          "output_type": "stream",
          "text": [
            "Train Epoch: [37/100] Loss: 4.8908: 100%|██████████| 195/195 [06:12<00:00,  1.91s/it]\n",
            "Feature extracting: 100%|██████████| 196/196 [00:47<00:00,  4.17it/s]\n",
            "Test Epoch: [37/100] Acc@1:70.14% Acc@5:98.20%: 100%|██████████| 40/40 [00:12<00:00,  3.32it/s]\n",
            "  0%|          | 0/195 [00:00<?, ?it/s]"
          ],
          "name": "stderr"
        },
        {
          "output_type": "stream",
          "text": [
            "Best accuracy: 70.14\n"
          ],
          "name": "stdout"
        },
        {
          "output_type": "stream",
          "text": [
            "Train Epoch: [38/100] Loss: 4.8871: 100%|██████████| 195/195 [06:12<00:00,  1.91s/it]\n",
            "Feature extracting: 100%|██████████| 196/196 [00:47<00:00,  4.17it/s]\n",
            "Test Epoch: [38/100] Acc@1:70.54% Acc@5:98.23%: 100%|██████████| 40/40 [00:12<00:00,  3.32it/s]\n",
            "  0%|          | 0/195 [00:00<?, ?it/s]"
          ],
          "name": "stderr"
        },
        {
          "output_type": "stream",
          "text": [
            "Best accuracy: 70.54\n"
          ],
          "name": "stdout"
        },
        {
          "output_type": "stream",
          "text": [
            "Train Epoch: [39/100] Loss: 4.8848: 100%|██████████| 195/195 [06:11<00:00,  1.91s/it]\n",
            "Feature extracting: 100%|██████████| 196/196 [00:47<00:00,  4.17it/s]\n",
            "Test Epoch: [39/100] Acc@1:70.47% Acc@5:98.08%: 100%|██████████| 40/40 [00:12<00:00,  3.32it/s]\n",
            "  0%|          | 0/195 [00:00<?, ?it/s]"
          ],
          "name": "stderr"
        },
        {
          "output_type": "stream",
          "text": [
            "Best accuracy: 70.54\n"
          ],
          "name": "stdout"
        },
        {
          "output_type": "stream",
          "text": [
            "Train Epoch: [40/100] Loss: 4.8806: 100%|██████████| 195/195 [06:11<00:00,  1.91s/it]\n",
            "Feature extracting: 100%|██████████| 196/196 [00:46<00:00,  4.17it/s]\n",
            "Test Epoch: [40/100] Acc@1:70.55% Acc@5:98.28%: 100%|██████████| 40/40 [00:11<00:00,  3.37it/s]\n",
            "  0%|          | 0/195 [00:00<?, ?it/s]"
          ],
          "name": "stderr"
        },
        {
          "output_type": "stream",
          "text": [
            "Best accuracy: 70.55\n"
          ],
          "name": "stdout"
        },
        {
          "output_type": "stream",
          "text": [
            "Train Epoch: [41/100] Loss: 4.8733: 100%|██████████| 195/195 [06:12<00:00,  1.91s/it]\n",
            "Feature extracting: 100%|██████████| 196/196 [00:46<00:00,  4.17it/s]\n",
            "Test Epoch: [41/100] Acc@1:70.89% Acc@5:98.21%: 100%|██████████| 40/40 [00:12<00:00,  3.32it/s]\n",
            "  0%|          | 0/195 [00:00<?, ?it/s]"
          ],
          "name": "stderr"
        },
        {
          "output_type": "stream",
          "text": [
            "Best accuracy: 70.89\n"
          ],
          "name": "stdout"
        },
        {
          "output_type": "stream",
          "text": [
            "Train Epoch: [42/100] Loss: 4.8748: 100%|██████████| 195/195 [06:11<00:00,  1.91s/it]\n",
            "Feature extracting: 100%|██████████| 196/196 [00:46<00:00,  4.18it/s]\n",
            "Test Epoch: [42/100] Acc@1:71.21% Acc@5:98.19%: 100%|██████████| 40/40 [00:11<00:00,  3.34it/s]\n",
            "  0%|          | 0/195 [00:00<?, ?it/s]"
          ],
          "name": "stderr"
        },
        {
          "output_type": "stream",
          "text": [
            "Best accuracy: 71.21\n"
          ],
          "name": "stdout"
        },
        {
          "output_type": "stream",
          "text": [
            "Train Epoch: [43/100] Loss: 4.8738: 100%|██████████| 195/195 [06:11<00:00,  1.91s/it]\n",
            "Feature extracting: 100%|██████████| 196/196 [00:46<00:00,  4.17it/s]\n",
            "Test Epoch: [43/100] Acc@1:71.61% Acc@5:98.16%: 100%|██████████| 40/40 [00:12<00:00,  3.32it/s]\n",
            "  0%|          | 0/195 [00:00<?, ?it/s]"
          ],
          "name": "stderr"
        },
        {
          "output_type": "stream",
          "text": [
            "Best accuracy: 71.61\n"
          ],
          "name": "stdout"
        },
        {
          "output_type": "stream",
          "text": [
            "Train Epoch: [44/100] Loss: 4.8713: 100%|██████████| 195/195 [06:12<00:00,  1.91s/it]\n",
            "Feature extracting: 100%|██████████| 196/196 [00:46<00:00,  4.19it/s]\n",
            "Test Epoch: [44/100] Acc@1:71.71% Acc@5:98.37%: 100%|██████████| 40/40 [00:12<00:00,  3.31it/s]\n",
            "  0%|          | 0/195 [00:00<?, ?it/s]"
          ],
          "name": "stderr"
        },
        {
          "output_type": "stream",
          "text": [
            "Best accuracy: 71.71\n"
          ],
          "name": "stdout"
        },
        {
          "output_type": "stream",
          "text": [
            "Train Epoch: [45/100] Loss: 4.8690: 100%|██████████| 195/195 [06:12<00:00,  1.91s/it]\n",
            "Feature extracting: 100%|██████████| 196/196 [00:46<00:00,  4.18it/s]\n",
            "Test Epoch: [45/100] Acc@1:71.67% Acc@5:98.22%: 100%|██████████| 40/40 [00:11<00:00,  3.37it/s]\n",
            "  0%|          | 0/195 [00:00<?, ?it/s]"
          ],
          "name": "stderr"
        },
        {
          "output_type": "stream",
          "text": [
            "Best accuracy: 71.71\n"
          ],
          "name": "stdout"
        },
        {
          "output_type": "stream",
          "text": [
            "Train Epoch: [46/100] Loss: 4.8673: 100%|██████████| 195/195 [06:12<00:00,  1.91s/it]\n",
            "Feature extracting: 100%|██████████| 196/196 [00:47<00:00,  4.15it/s]\n",
            "Test Epoch: [46/100] Acc@1:72.22% Acc@5:98.36%: 100%|██████████| 40/40 [00:11<00:00,  3.35it/s]\n",
            "  0%|          | 0/195 [00:00<?, ?it/s]"
          ],
          "name": "stderr"
        },
        {
          "output_type": "stream",
          "text": [
            "Best accuracy: 72.22\n"
          ],
          "name": "stdout"
        },
        {
          "output_type": "stream",
          "text": [
            "Train Epoch: [47/100] Loss: 4.8674: 100%|██████████| 195/195 [06:12<00:00,  1.91s/it]\n",
            "Feature extracting: 100%|██████████| 196/196 [00:47<00:00,  4.15it/s]\n",
            "Test Epoch: [47/100] Acc@1:72.13% Acc@5:98.37%: 100%|██████████| 40/40 [00:11<00:00,  3.38it/s]\n",
            "  0%|          | 0/195 [00:00<?, ?it/s]"
          ],
          "name": "stderr"
        },
        {
          "output_type": "stream",
          "text": [
            "Best accuracy: 72.22\n"
          ],
          "name": "stdout"
        },
        {
          "output_type": "stream",
          "text": [
            "Train Epoch: [48/100] Loss: 4.8667: 100%|██████████| 195/195 [06:11<00:00,  1.91s/it]\n",
            "Feature extracting: 100%|██████████| 196/196 [00:47<00:00,  4.17it/s]\n",
            "Test Epoch: [48/100] Acc@1:72.57% Acc@5:98.40%: 100%|██████████| 40/40 [00:11<00:00,  3.38it/s]\n",
            "  0%|          | 0/195 [00:00<?, ?it/s]"
          ],
          "name": "stderr"
        },
        {
          "output_type": "stream",
          "text": [
            "Best accuracy: 72.57000000000001\n"
          ],
          "name": "stdout"
        },
        {
          "output_type": "stream",
          "text": [
            "Train Epoch: [49/100] Loss: 4.8598: 100%|██████████| 195/195 [06:13<00:00,  1.91s/it]\n",
            "Feature extracting: 100%|██████████| 196/196 [00:46<00:00,  4.17it/s]\n",
            "Test Epoch: [49/100] Acc@1:72.34% Acc@5:98.30%: 100%|██████████| 40/40 [00:12<00:00,  3.31it/s]\n",
            "  0%|          | 0/195 [00:00<?, ?it/s]"
          ],
          "name": "stderr"
        },
        {
          "output_type": "stream",
          "text": [
            "Best accuracy: 72.57000000000001\n"
          ],
          "name": "stdout"
        },
        {
          "output_type": "stream",
          "text": [
            "Train Epoch: [50/100] Loss: 4.8618: 100%|██████████| 195/195 [06:12<00:00,  1.91s/it]\n",
            "Feature extracting: 100%|██████████| 196/196 [00:47<00:00,  4.17it/s]\n",
            "Test Epoch: [50/100] Acc@1:72.27% Acc@5:98.50%: 100%|██████████| 40/40 [00:12<00:00,  3.30it/s]\n",
            "  0%|          | 0/195 [00:00<?, ?it/s]"
          ],
          "name": "stderr"
        },
        {
          "output_type": "stream",
          "text": [
            "Best accuracy: 72.57000000000001\n"
          ],
          "name": "stdout"
        },
        {
          "output_type": "stream",
          "text": [
            "Train Epoch: [51/100] Loss: 4.8571: 100%|██████████| 195/195 [06:13<00:00,  1.91s/it]\n",
            "Feature extracting: 100%|██████████| 196/196 [00:47<00:00,  4.15it/s]\n",
            "Test Epoch: [51/100] Acc@1:72.78% Acc@5:98.27%: 100%|██████████| 40/40 [00:12<00:00,  3.31it/s]\n",
            "  0%|          | 0/195 [00:00<?, ?it/s]"
          ],
          "name": "stderr"
        },
        {
          "output_type": "stream",
          "text": [
            "Best accuracy: 72.78\n"
          ],
          "name": "stdout"
        },
        {
          "output_type": "stream",
          "text": [
            "Train Epoch: [52/100] Loss: 4.8511: 100%|██████████| 195/195 [06:11<00:00,  1.91s/it]\n",
            "Feature extracting: 100%|██████████| 196/196 [00:46<00:00,  4.18it/s]\n",
            "Test Epoch: [52/100] Acc@1:72.91% Acc@5:98.49%: 100%|██████████| 40/40 [00:11<00:00,  3.34it/s]\n",
            "  0%|          | 0/195 [00:00<?, ?it/s]"
          ],
          "name": "stderr"
        },
        {
          "output_type": "stream",
          "text": [
            "Best accuracy: 72.91\n"
          ],
          "name": "stdout"
        },
        {
          "output_type": "stream",
          "text": [
            "Train Epoch: [53/100] Loss: 4.8545: 100%|██████████| 195/195 [06:12<00:00,  1.91s/it]\n",
            "Feature extracting: 100%|██████████| 196/196 [00:47<00:00,  4.16it/s]\n",
            "Test Epoch: [53/100] Acc@1:72.94% Acc@5:98.51%: 100%|██████████| 40/40 [00:12<00:00,  3.32it/s]\n",
            "  0%|          | 0/195 [00:00<?, ?it/s]"
          ],
          "name": "stderr"
        },
        {
          "output_type": "stream",
          "text": [
            "Best accuracy: 72.94\n"
          ],
          "name": "stdout"
        },
        {
          "output_type": "stream",
          "text": [
            "Train Epoch: [54/100] Loss: 4.8459: 100%|██████████| 195/195 [06:13<00:00,  1.91s/it]\n",
            "Feature extracting: 100%|██████████| 196/196 [00:46<00:00,  4.19it/s]\n",
            "Test Epoch: [54/100] Acc@1:72.87% Acc@5:98.42%: 100%|██████████| 40/40 [00:12<00:00,  3.29it/s]\n",
            "  0%|          | 0/195 [00:00<?, ?it/s]"
          ],
          "name": "stderr"
        },
        {
          "output_type": "stream",
          "text": [
            "Best accuracy: 72.94\n"
          ],
          "name": "stdout"
        },
        {
          "output_type": "stream",
          "text": [
            "Train Epoch: [55/100] Loss: 4.8492: 100%|██████████| 195/195 [06:12<00:00,  1.91s/it]\n",
            "Feature extracting: 100%|██████████| 196/196 [00:46<00:00,  4.18it/s]\n",
            "Test Epoch: [55/100] Acc@1:73.06% Acc@5:98.45%: 100%|██████████| 40/40 [00:11<00:00,  3.35it/s]\n",
            "  0%|          | 0/195 [00:00<?, ?it/s]"
          ],
          "name": "stderr"
        },
        {
          "output_type": "stream",
          "text": [
            "Best accuracy: 73.06\n"
          ],
          "name": "stdout"
        },
        {
          "output_type": "stream",
          "text": [
            "Train Epoch: [56/100] Loss: 4.8486: 100%|██████████| 195/195 [06:12<00:00,  1.91s/it]\n",
            "Feature extracting: 100%|██████████| 196/196 [00:47<00:00,  4.16it/s]\n",
            "Test Epoch: [56/100] Acc@1:73.48% Acc@5:98.43%: 100%|██████████| 40/40 [00:11<00:00,  3.35it/s]\n",
            "  0%|          | 0/195 [00:00<?, ?it/s]"
          ],
          "name": "stderr"
        },
        {
          "output_type": "stream",
          "text": [
            "Best accuracy: 73.48\n"
          ],
          "name": "stdout"
        },
        {
          "output_type": "stream",
          "text": [
            "Train Epoch: [57/100] Loss: 4.8432: 100%|██████████| 195/195 [06:12<00:00,  1.91s/it]\n",
            "Feature extracting: 100%|██████████| 196/196 [00:47<00:00,  4.15it/s]\n",
            "Test Epoch: [57/100] Acc@1:73.21% Acc@5:98.46%: 100%|██████████| 40/40 [00:12<00:00,  3.28it/s]\n",
            "  0%|          | 0/195 [00:00<?, ?it/s]"
          ],
          "name": "stderr"
        },
        {
          "output_type": "stream",
          "text": [
            "Best accuracy: 73.48\n"
          ],
          "name": "stdout"
        },
        {
          "output_type": "stream",
          "text": [
            "Train Epoch: [58/100] Loss: 4.8459: 100%|██████████| 195/195 [06:12<00:00,  1.91s/it]\n",
            "Feature extracting: 100%|██████████| 196/196 [00:47<00:00,  4.16it/s]\n",
            "Test Epoch: [58/100] Acc@1:73.24% Acc@5:98.49%: 100%|██████████| 40/40 [00:12<00:00,  3.30it/s]\n",
            "  0%|          | 0/195 [00:00<?, ?it/s]"
          ],
          "name": "stderr"
        },
        {
          "output_type": "stream",
          "text": [
            "Best accuracy: 73.48\n"
          ],
          "name": "stdout"
        },
        {
          "output_type": "stream",
          "text": [
            "Train Epoch: [59/100] Loss: 4.8446: 100%|██████████| 195/195 [06:12<00:00,  1.91s/it]\n",
            "Feature extracting: 100%|██████████| 196/196 [00:46<00:00,  4.18it/s]\n",
            "Test Epoch: [59/100] Acc@1:73.14% Acc@5:98.58%: 100%|██████████| 40/40 [00:12<00:00,  3.29it/s]\n",
            "  0%|          | 0/195 [00:00<?, ?it/s]"
          ],
          "name": "stderr"
        },
        {
          "output_type": "stream",
          "text": [
            "Best accuracy: 73.48\n"
          ],
          "name": "stdout"
        },
        {
          "output_type": "stream",
          "text": [
            "Train Epoch: [60/100] Loss: 4.8411: 100%|██████████| 195/195 [06:12<00:00,  1.91s/it]\n",
            "Feature extracting: 100%|██████████| 196/196 [00:46<00:00,  4.19it/s]\n",
            "Test Epoch: [60/100] Acc@1:73.78% Acc@5:98.59%: 100%|██████████| 40/40 [00:11<00:00,  3.34it/s]\n",
            "  0%|          | 0/195 [00:00<?, ?it/s]"
          ],
          "name": "stderr"
        },
        {
          "output_type": "stream",
          "text": [
            "Best accuracy: 73.78\n"
          ],
          "name": "stdout"
        },
        {
          "output_type": "stream",
          "text": [
            "Train Epoch: [61/100] Loss: 4.8410: 100%|██████████| 195/195 [06:12<00:00,  1.91s/it]\n",
            "Feature extracting: 100%|██████████| 196/196 [00:46<00:00,  4.19it/s]\n",
            "Test Epoch: [61/100] Acc@1:73.73% Acc@5:98.51%: 100%|██████████| 40/40 [00:12<00:00,  3.30it/s]\n",
            "  0%|          | 0/195 [00:00<?, ?it/s]"
          ],
          "name": "stderr"
        },
        {
          "output_type": "stream",
          "text": [
            "Best accuracy: 73.78\n"
          ],
          "name": "stdout"
        },
        {
          "output_type": "stream",
          "text": [
            "Train Epoch: [62/100] Loss: 4.8384: 100%|██████████| 195/195 [06:11<00:00,  1.91s/it]\n",
            "Feature extracting: 100%|██████████| 196/196 [00:46<00:00,  4.18it/s]\n",
            "Test Epoch: [62/100] Acc@1:73.81% Acc@5:98.60%: 100%|██████████| 40/40 [00:11<00:00,  3.35it/s]\n",
            "  0%|          | 0/195 [00:00<?, ?it/s]"
          ],
          "name": "stderr"
        },
        {
          "output_type": "stream",
          "text": [
            "Best accuracy: 73.81\n"
          ],
          "name": "stdout"
        },
        {
          "output_type": "stream",
          "text": [
            "Train Epoch: [63/100] Loss: 4.8334: 100%|██████████| 195/195 [06:12<00:00,  1.91s/it]\n",
            "Feature extracting: 100%|██████████| 196/196 [00:46<00:00,  4.20it/s]\n",
            "Test Epoch: [63/100] Acc@1:74.00% Acc@5:98.76%: 100%|██████████| 40/40 [00:11<00:00,  3.35it/s]\n",
            "  0%|          | 0/195 [00:00<?, ?it/s]"
          ],
          "name": "stderr"
        },
        {
          "output_type": "stream",
          "text": [
            "Best accuracy: 74.0\n"
          ],
          "name": "stdout"
        },
        {
          "output_type": "stream",
          "text": [
            "Train Epoch: [64/100] Loss: 4.8361: 100%|██████████| 195/195 [06:12<00:00,  1.91s/it]\n",
            "Feature extracting: 100%|██████████| 196/196 [00:46<00:00,  4.19it/s]\n",
            "Test Epoch: [64/100] Acc@1:74.15% Acc@5:98.66%: 100%|██████████| 40/40 [00:12<00:00,  3.31it/s]\n",
            "  0%|          | 0/195 [00:00<?, ?it/s]"
          ],
          "name": "stderr"
        },
        {
          "output_type": "stream",
          "text": [
            "Best accuracy: 74.15\n"
          ],
          "name": "stdout"
        },
        {
          "output_type": "stream",
          "text": [
            "Train Epoch: [65/100] Loss: 4.8340: 100%|██████████| 195/195 [06:12<00:00,  1.91s/it]\n",
            "Feature extracting: 100%|██████████| 196/196 [00:46<00:00,  4.20it/s]\n",
            "Test Epoch: [65/100] Acc@1:74.48% Acc@5:98.63%: 100%|██████████| 40/40 [00:12<00:00,  3.26it/s]\n",
            "  0%|          | 0/195 [00:00<?, ?it/s]"
          ],
          "name": "stderr"
        },
        {
          "output_type": "stream",
          "text": [
            "Best accuracy: 74.48\n"
          ],
          "name": "stdout"
        },
        {
          "output_type": "stream",
          "text": [
            "Train Epoch: [66/100] Loss: 4.8325: 100%|██████████| 195/195 [06:12<00:00,  1.91s/it]\n",
            "Feature extracting: 100%|██████████| 196/196 [00:46<00:00,  4.20it/s]\n",
            "Test Epoch: [66/100] Acc@1:74.36% Acc@5:98.70%: 100%|██████████| 40/40 [00:12<00:00,  3.33it/s]\n",
            "  0%|          | 0/195 [00:00<?, ?it/s]"
          ],
          "name": "stderr"
        },
        {
          "output_type": "stream",
          "text": [
            "Best accuracy: 74.48\n"
          ],
          "name": "stdout"
        },
        {
          "output_type": "stream",
          "text": [
            "Train Epoch: [67/100] Loss: 4.8294: 100%|██████████| 195/195 [06:11<00:00,  1.91s/it]\n",
            "Feature extracting: 100%|██████████| 196/196 [00:46<00:00,  4.21it/s]\n",
            "Test Epoch: [67/100] Acc@1:74.20% Acc@5:98.70%: 100%|██████████| 40/40 [00:12<00:00,  3.25it/s]\n",
            "  0%|          | 0/195 [00:00<?, ?it/s]"
          ],
          "name": "stderr"
        },
        {
          "output_type": "stream",
          "text": [
            "Best accuracy: 74.48\n"
          ],
          "name": "stdout"
        },
        {
          "output_type": "stream",
          "text": [
            "Train Epoch: [68/100] Loss: 4.8276: 100%|██████████| 195/195 [06:11<00:00,  1.91s/it]\n",
            "Feature extracting: 100%|██████████| 196/196 [00:46<00:00,  4.18it/s]\n",
            "Test Epoch: [68/100] Acc@1:74.40% Acc@5:98.53%: 100%|██████████| 40/40 [00:11<00:00,  3.36it/s]\n",
            "  0%|          | 0/195 [00:00<?, ?it/s]"
          ],
          "name": "stderr"
        },
        {
          "output_type": "stream",
          "text": [
            "Best accuracy: 74.48\n"
          ],
          "name": "stdout"
        },
        {
          "output_type": "stream",
          "text": [
            "Train Epoch: [69/100] Loss: 4.8299: 100%|██████████| 195/195 [06:11<00:00,  1.90s/it]\n",
            "Feature extracting: 100%|██████████| 196/196 [00:46<00:00,  4.20it/s]\n",
            "Test Epoch: [69/100] Acc@1:74.57% Acc@5:98.56%: 100%|██████████| 40/40 [00:12<00:00,  3.31it/s]\n",
            "  0%|          | 0/195 [00:00<?, ?it/s]"
          ],
          "name": "stderr"
        },
        {
          "output_type": "stream",
          "text": [
            "Best accuracy: 74.57000000000001\n"
          ],
          "name": "stdout"
        },
        {
          "output_type": "stream",
          "text": [
            "Train Epoch: [70/100] Loss: 4.8240: 100%|██████████| 195/195 [06:11<00:00,  1.91s/it]\n",
            "Feature extracting: 100%|██████████| 196/196 [00:46<00:00,  4.20it/s]\n",
            "Test Epoch: [70/100] Acc@1:74.72% Acc@5:98.80%: 100%|██████████| 40/40 [00:12<00:00,  3.32it/s]\n",
            "  0%|          | 0/195 [00:00<?, ?it/s]"
          ],
          "name": "stderr"
        },
        {
          "output_type": "stream",
          "text": [
            "Best accuracy: 74.72\n"
          ],
          "name": "stdout"
        },
        {
          "output_type": "stream",
          "text": [
            "Train Epoch: [71/100] Loss: 4.8253: 100%|██████████| 195/195 [06:11<00:00,  1.91s/it]\n",
            "Feature extracting: 100%|██████████| 196/196 [00:46<00:00,  4.20it/s]\n",
            "Test Epoch: [71/100] Acc@1:74.85% Acc@5:98.58%: 100%|██████████| 40/40 [00:12<00:00,  3.33it/s]\n",
            "  0%|          | 0/195 [00:00<?, ?it/s]"
          ],
          "name": "stderr"
        },
        {
          "output_type": "stream",
          "text": [
            "Best accuracy: 74.85000000000001\n"
          ],
          "name": "stdout"
        },
        {
          "output_type": "stream",
          "text": [
            "Train Epoch: [72/100] Loss: 4.8273: 100%|██████████| 195/195 [06:12<00:00,  1.91s/it]\n",
            "Feature extracting: 100%|██████████| 196/196 [00:46<00:00,  4.21it/s]\n",
            "Test Epoch: [72/100] Acc@1:75.13% Acc@5:98.68%: 100%|██████████| 40/40 [00:12<00:00,  3.28it/s]\n",
            "  0%|          | 0/195 [00:00<?, ?it/s]"
          ],
          "name": "stderr"
        },
        {
          "output_type": "stream",
          "text": [
            "Best accuracy: 75.13\n"
          ],
          "name": "stdout"
        },
        {
          "output_type": "stream",
          "text": [
            "Train Epoch: [73/100] Loss: 4.8230: 100%|██████████| 195/195 [06:11<00:00,  1.91s/it]\n",
            "Feature extracting: 100%|██████████| 196/196 [00:46<00:00,  4.22it/s]\n",
            "Test Epoch: [73/100] Acc@1:75.28% Acc@5:98.66%: 100%|██████████| 40/40 [00:11<00:00,  3.36it/s]\n",
            "  0%|          | 0/195 [00:00<?, ?it/s]"
          ],
          "name": "stderr"
        },
        {
          "output_type": "stream",
          "text": [
            "Best accuracy: 75.28\n"
          ],
          "name": "stdout"
        },
        {
          "output_type": "stream",
          "text": [
            "Train Epoch: [74/100] Loss: 4.8288:  11%|█         | 21/195 [00:49<05:29,  1.90s/it]"
          ],
          "name": "stderr"
        }
      ]
    },
    {
      "cell_type": "code",
      "metadata": {
        "id": "n2_QpYAK5y_-"
      },
      "source": [
        "while True:\n",
        "  pass"
      ],
      "execution_count": null,
      "outputs": []
    },
    {
      "cell_type": "code",
      "metadata": {
        "id": "SdRJKl6coRes"
      },
      "source": [
        ""
      ],
      "execution_count": null,
      "outputs": []
    }
  ]
}