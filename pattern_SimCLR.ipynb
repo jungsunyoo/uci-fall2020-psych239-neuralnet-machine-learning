{
  "nbformat": 4,
  "nbformat_minor": 0,
  "metadata": {
    "colab": {
      "name": "pattern_SimCLR.ipynb",
      "provenance": [],
      "collapsed_sections": [],
      "machine_shape": "hm",
      "include_colab_link": true
    },
    "kernelspec": {
      "name": "python3",
      "display_name": "Python 3"
    },
    "accelerator": "GPU"
  },
  "cells": [
    {
      "cell_type": "markdown",
      "metadata": {
        "id": "view-in-github",
        "colab_type": "text"
      },
      "source": [
        "<a href=\"https://colab.research.google.com/github/yoojungsun0/Psych239/blob/master/pattern_SimCLR.ipynb\" target=\"_parent\"><img src=\"https://colab.research.google.com/assets/colab-badge.svg\" alt=\"Open In Colab\"/></a>"
      ]
    },
    {
      "cell_type": "code",
      "metadata": {
        "colab": {
          "base_uri": "https://localhost:8080/"
        },
        "id": "A9CzNhIZsnOl",
        "outputId": "8f31cb7e-9986-401e-e963-3fb04101d4a7"
      },
      "source": [
        "# !git clone https://github.com/yoojungsun0/Psych239.git\n",
        "!pip install thop"
      ],
      "execution_count": null,
      "outputs": [
        {
          "output_type": "stream",
          "text": [
            "Requirement already satisfied: thop in /usr/local/lib/python3.6/dist-packages (0.0.31.post2005241907)\n",
            "Requirement already satisfied: torch>=1.0.0 in /usr/local/lib/python3.6/dist-packages (from thop) (1.7.0+cu101)\n",
            "Requirement already satisfied: dataclasses in /usr/local/lib/python3.6/dist-packages (from torch>=1.0.0->thop) (0.8)\n",
            "Requirement already satisfied: typing-extensions in /usr/local/lib/python3.6/dist-packages (from torch>=1.0.0->thop) (3.7.4.3)\n",
            "Requirement already satisfied: numpy in /usr/local/lib/python3.6/dist-packages (from torch>=1.0.0->thop) (1.18.5)\n",
            "Requirement already satisfied: future in /usr/local/lib/python3.6/dist-packages (from torch>=1.0.0->thop) (0.16.0)\n"
          ],
          "name": "stdout"
        }
      ]
    },
    {
      "cell_type": "code",
      "metadata": {
        "id": "8ikfzIt5adK8",
        "colab": {
          "base_uri": "https://localhost:8080/"
        },
        "outputId": "44078cc3-8367-4a7d-b67f-fd3e4fd971dd"
      },
      "source": [
        "import argparse\n",
        "import os\n",
        "\n",
        "import pandas as pd\n",
        "import torch\n",
        "import torch.optim as optim\n",
        "from thop import profile, clever_format\n",
        "from torch.utils.data import DataLoader\n",
        "from tqdm import tqdm\n",
        "\n",
        "# import utils\n",
        "\n",
        "\n",
        "from google.colab import drive\n",
        "drive.mount('/content/gdrive/')\n",
        "\n",
        "import sys\n",
        "%cd /content/gdrive/MyDrive/'Colab Notebooks'/SimCLR\n",
        "# from model import Model\n",
        "from model_separation import Model\n",
        "import utils\n",
        "import linear\n",
        "# !ls"
      ],
      "execution_count": null,
      "outputs": [
        {
          "output_type": "stream",
          "text": [
            "Drive already mounted at /content/gdrive/; to attempt to forcibly remount, call drive.mount(\"/content/gdrive/\", force_remount=True).\n",
            "/content/gdrive/MyDrive/Colab Notebooks/SimCLR\n"
          ],
          "name": "stdout"
        }
      ]
    },
    {
      "cell_type": "code",
      "metadata": {
        "id": "_ReeC9qwvpsL"
      },
      "source": [
        "# train for one epoch to learn unique features\n",
        "def train(net, data_loader, train_optimizer):\n",
        "    net.train()\n",
        "    total_loss, total_num, train_bar = 0.0, 0, tqdm(data_loader)\n",
        "    for pos_1, pos_2, target in train_bar:\n",
        "        pos_1, pos_2 = pos_1.cuda(non_blocking=True), pos_2.cuda(non_blocking=True)\n",
        "        feature_1, out_1 = net(pos_1)\n",
        "        feature_2, out_2 = net(pos_2)\n",
        "        # [2*B, D]\n",
        "        out = torch.cat([out_1, out_2], dim=0)\n",
        "        # [2*B, 2*B]\n",
        "        sim_matrix = torch.exp(torch.mm(out, out.t().contiguous()) / temperature)\n",
        "        mask = (torch.ones_like(sim_matrix) - torch.eye(2 * batch_size, device=sim_matrix.device)).bool()\n",
        "        # [2*B, 2*B-1]\n",
        "        sim_matrix = sim_matrix.masked_select(mask).view(2 * batch_size, -1)\n",
        "\n",
        "        # compute loss\n",
        "        pos_sim = torch.exp(torch.sum(out_1 * out_2, dim=-1) / temperature)\n",
        "        # [2*B]\n",
        "        pos_sim = torch.cat([pos_sim, pos_sim], dim=0)\n",
        "        loss = (- torch.log(pos_sim / sim_matrix.sum(dim=-1))).mean()\n",
        "        train_optimizer.zero_grad()\n",
        "        loss.backward()\n",
        "        train_optimizer.step()\n",
        "\n",
        "        total_num += batch_size\n",
        "        total_loss += loss.item() * batch_size\n",
        "        train_bar.set_description('Train Epoch: [{}/{}] Loss: {:.4f}'.format(epoch, epochs, total_loss / total_num))\n",
        "\n",
        "    return total_loss / total_num\n",
        "\n",
        "def train_model2(net, data_loader, train_optimizer, gamma):\n",
        "    net.train()\n",
        "    total_loss, total_num, train_bar = 0.0, 0, tqdm(data_loader)\n",
        "    for pos_1, pos_2, target in train_bar:\n",
        "        pos_1, pos_2 = pos_1.cuda(non_blocking=True), pos_2.cuda(non_blocking=True)\n",
        "        feature_1, out_1 = net(pos_1)\n",
        "        feature_2, out_2 = net(pos_2)\n",
        "        # [2*B, D]\n",
        "        out = torch.cat([out_1, out_2], dim=0)\n",
        "        # [2*B, 2*B]\n",
        "        sim_matrix = torch.exp(torch.mm(out, out.t().contiguous()) / temperature)\n",
        "        mask = (torch.ones_like(sim_matrix) - torch.eye(2 * batch_size, device=sim_matrix.device)).bool()\n",
        "        # [2*B, 2*B-1]\n",
        "        sim_matrix = sim_matrix.masked_select(mask).view(2 * batch_size, -1)\n",
        "\n",
        "        # compute loss\n",
        "        pos_sim = torch.exp(torch.sum(out_1 * out_2, dim=-1) / temperature)\n",
        "        # [2*B]\n",
        "        pos_sim = torch.cat([pos_sim, pos_sim], dim=0)\n",
        "        loss1 = (- torch.log(pos_sim / sim_matrix.sum(dim=-1))).mean()\n",
        "\n",
        "        # pos_dis = distance between out_1 and out_2\n",
        "        pos_dis = out_1 - out_2\n",
        "        pos_dis = torch.square(pos_dis)\n",
        "        pos_dis = torch.sum(pos_dis)\n",
        "        pos_dis = torch.sqrt(pos_dis)\n",
        "        pos_dis = pos_dis.sum(dim=-1)\n",
        "        loss2 = pos_dis\n",
        "        # loss2 = - torch.log(pos_dis)\n",
        "\n",
        "\n",
        "        loss = loss1 + (loss2 * gamma)\n",
        "\n",
        "\n",
        "\n",
        "        train_optimizer.zero_grad()\n",
        "        loss.backward()\n",
        "        train_optimizer.step()\n",
        "\n",
        "        total_num += batch_size\n",
        "        total_loss += loss.item() * batch_size\n",
        "        train_bar.set_description('Train Epoch: [{}/{}] Loss: {:.4f}'.format(epoch, epochs, total_loss / total_num))\n",
        "\n",
        "    return total_loss / total_num\n",
        "\n",
        "def train_model3(net, data_loader, train_optimizer, gamma):\n",
        "    net.train()\n",
        "    total_loss, total_num, train_bar = 0.0, 0, tqdm(data_loader)\n",
        "    for pos_1, pos_2, target in train_bar:\n",
        "        pos_1, pos_2 = pos_1.cuda(non_blocking=True), pos_2.cuda(non_blocking=True)\n",
        "        feature_11, feature_12, out_11, out_12 = net(pos_1)\n",
        "        feature_21, feature_22, out_21, out_22 = net(pos_2)\n",
        "        # [2*B, D]\n",
        "        out = torch.cat([out_11, out_21], dim=0)\n",
        "        # [2*B, 2*B]\n",
        "        sim_matrix = torch.exp(torch.mm(out, out.t().contiguous()) / temperature)\n",
        "        mask = (torch.ones_like(sim_matrix) - torch.eye(2 * batch_size, device=sim_matrix.device)).bool()\n",
        "        # [2*B, 2*B-1]\n",
        "        sim_matrix = sim_matrix.masked_select(mask).view(2 * batch_size, -1)\n",
        "\n",
        "        # compute loss\n",
        "        pos_sim = torch.exp(torch.sum(out_11 * out_21, dim=-1) / temperature)\n",
        "        # [2*B]\n",
        "        pos_sim = torch.cat([pos_sim, pos_sim], dim=0)\n",
        "        loss1 = (- torch.log(pos_sim / sim_matrix.sum(dim=-1))).mean()\n",
        "\n",
        "        # loss for learning pattern separation\n",
        "        # pos_dis = distance between out_1 and out_2\n",
        "        pos_dis = out_12 - out_22\n",
        "        pos_dis = torch.square(pos_dis)\n",
        "        pos_dis = torch.sum(pos_dis)\n",
        "        pos_dis = torch.sqrt(pos_dis)\n",
        "        pos_dis = pos_dis.sum(dim=-1)\n",
        "        loss2 = pos_dis\n",
        "        # loss2 = - torch.log(pos_dis)\n",
        "\n",
        "\n",
        "        loss = loss1 + (loss2 * gamma)\n",
        "\n",
        "        train_optimizer.zero_grad()\n",
        "        loss.backward()\n",
        "        train_optimizer.step()\n",
        "\n",
        "        total_num += batch_size\n",
        "        total_loss += loss.item() * batch_size\n",
        "        train_bar.set_description('Train Epoch: [{}/{}] Loss: {:.4f}'.format(epoch, epochs, total_loss / total_num))\n",
        "\n",
        "    return total_loss / total_num\n",
        "\n",
        "# test for one epoch, use weighted knn to find the most similar images' label to assign the test image\n",
        "def test_model2(net, memory_data_loader, test_data_loader):\n",
        "    net.eval()\n",
        "    total_top1, total_top5, total_num, feature_bank = 0.0, 0.0, 0, []\n",
        "    with torch.no_grad():\n",
        "        # generate feature bank\n",
        "        for data, _, target in tqdm(memory_data_loader, desc='Feature extracting'):\n",
        "            feature, out = net(data.cuda(non_blocking=True))\n",
        "            feature_bank.append(feature)\n",
        "        # [D, N]\n",
        "        feature_bank = torch.cat(feature_bank, dim=0).t().contiguous()\n",
        "        # [N]\n",
        "        feature_labels = torch.tensor(memory_data_loader.dataset.targets, device=feature_bank.device)\n",
        "        # loop test data to predict the label by weighted knn search\n",
        "        test_bar = tqdm(test_data_loader)\n",
        "        for data, _, target in test_bar:\n",
        "            data, target = data.cuda(non_blocking=True), target.cuda(non_blocking=True)\n",
        "            feature, out = net(data)\n",
        "\n",
        "            total_num += data.size(0)\n",
        "            # compute cos similarity between each feature vector and feature bank ---> [B, N]\n",
        "            sim_matrix = torch.mm(feature, feature_bank) # matrix multiplication\n",
        "            # [B, K]\n",
        "            sim_weight, sim_indices = sim_matrix.topk(k=k, dim=-1)\n",
        "            # [B, K]\n",
        "            sim_labels = torch.gather(feature_labels.expand(data.size(0), -1), dim=-1, index=sim_indices)\n",
        "            sim_weight = (sim_weight / temperature).exp()\n",
        "\n",
        "            # counts for each class\n",
        "            one_hot_label = torch.zeros(data.size(0) * k, c, device=sim_labels.device)\n",
        "            # [B*K, C]\n",
        "            one_hot_label = one_hot_label.scatter(dim=-1, index=sim_labels.view(-1, 1), value=1.0)\n",
        "            # weighted score ---> [B, C]\n",
        "            pred_scores = torch.sum(one_hot_label.view(data.size(0), -1, c) * sim_weight.unsqueeze(dim=-1), dim=1)\n",
        "\n",
        "            pred_labels = pred_scores.argsort(dim=-1, descending=True)\n",
        "            total_top1 += torch.sum((pred_labels[:, :1] == target.unsqueeze(dim=-1)).any(dim=-1).float()).item()\n",
        "            total_top5 += torch.sum((pred_labels[:, :5] == target.unsqueeze(dim=-1)).any(dim=-1).float()).item()\n",
        "            test_bar.set_description('Test Epoch: [{}/{}] Acc@1:{:.2f}% Acc@5:{:.2f}%'\n",
        "                                     .format(epoch, epochs, total_top1 / total_num * 100, total_top5 / total_num * 100))\n",
        "\n",
        "    return total_top1 / total_num * 100, total_top5 / total_num * 100\n",
        "\n",
        "# test for one epoch, use weighted knn to find the most similar images' label to assign the test image\n",
        "def test_model3(net, memory_data_loader, test_data_loader):\n",
        "    net.eval()\n",
        "    total_top1, total_top5, total_num, feature_bank = 0.0, 0.0, 0, []\n",
        "    with torch.no_grad():\n",
        "        # generate feature bank\n",
        "        for data, _, target in tqdm(memory_data_loader, desc='Feature extracting'):\n",
        "            feature, out, _, _ = net(data.cuda(non_blocking=True))\n",
        "            feature_bank.append(feature)\n",
        "        # [D, N]\n",
        "        feature_bank = torch.cat(feature_bank, dim=0).t().contiguous()\n",
        "        # [N]\n",
        "        feature_labels = torch.tensor(memory_data_loader.dataset.targets, device=feature_bank.device)\n",
        "        # loop test data to predict the label by weighted knn search\n",
        "        test_bar = tqdm(test_data_loader)\n",
        "        for data, _, target in test_bar:\n",
        "            data, target = data.cuda(non_blocking=True), target.cuda(non_blocking=True)\n",
        "            feature, out, _, _ = net(data)\n",
        "\n",
        "            total_num += data.size(0)\n",
        "            # compute cos similarity between each feature vector and feature bank ---> [B, N]\n",
        "            sim_matrix = torch.mm(feature, feature_bank) # matrix multiplication\n",
        "            # [B, K]\n",
        "            sim_weight, sim_indices = sim_matrix.topk(k=k, dim=-1)\n",
        "            # [B, K]\n",
        "            sim_labels = torch.gather(feature_labels.expand(data.size(0), -1), dim=-1, index=sim_indices)\n",
        "            sim_weight = (sim_weight / temperature).exp()\n",
        "\n",
        "            # counts for each class\n",
        "            one_hot_label = torch.zeros(data.size(0) * k, c, device=sim_labels.device)\n",
        "            # [B*K, C]\n",
        "            one_hot_label = one_hot_label.scatter(dim=-1, index=sim_labels.view(-1, 1), value=1.0)\n",
        "            # weighted score ---> [B, C]\n",
        "            pred_scores = torch.sum(one_hot_label.view(data.size(0), -1, c) * sim_weight.unsqueeze(dim=-1), dim=1)\n",
        "\n",
        "            pred_labels = pred_scores.argsort(dim=-1, descending=True)\n",
        "            total_top1 += torch.sum((pred_labels[:, :1] == target.unsqueeze(dim=-1)).any(dim=-1).float()).item()\n",
        "            total_top5 += torch.sum((pred_labels[:, :5] == target.unsqueeze(dim=-1)).any(dim=-1).float()).item()\n",
        "            test_bar.set_description('Test Epoch: [{}/{}] Acc@1:{:.2f}% Acc@5:{:.2f}%'\n",
        "                                     .format(epoch, epochs, total_top1 / total_num * 100, total_top5 / total_num * 100))\n",
        "\n",
        "    return total_top1 / total_num * 100, total_top5 / total_num * 100\n"
      ],
      "execution_count": null,
      "outputs": []
    },
    {
      "cell_type": "code",
      "metadata": {
        "id": "fV1cWOGov3uo"
      },
      "source": [
        "# parameters \n",
        "\n",
        "feature_dim = 128\n",
        "temperature = 0.5\n",
        "k = 200\n",
        "# batch_size = 512\n",
        "# epochs = 500\n",
        "batch_size = 256\n",
        "epochs = 100\n",
        "\n",
        "# yjs added\n",
        "gamma = 0.01 #0.2"
      ],
      "execution_count": null,
      "outputs": []
    },
    {
      "cell_type": "code",
      "metadata": {
        "id": "rYWD-gzAl_Ct"
      },
      "source": [
        "# # For resuming training\n",
        "# # model = Model(pretrained_path='results/128_0.5_200_256_100_model.pth').cuda()\n",
        "# from torch import load\n",
        "# # model = load('results/128_0.5_200_256_100_model.pth')\n",
        "# model_path = 'results/128_0.5_200_256_100_model.pth'\n",
        "# stopped_at = 28\n",
        "\n",
        "\n"
      ],
      "execution_count": null,
      "outputs": []
    },
    {
      "cell_type": "code",
      "metadata": {
        "colab": {
          "base_uri": "https://localhost:8080/",
          "height": 1000
        },
        "id": "0ocZCFibw5Zd",
        "outputId": "68e6098b-80a9-4ede-c658-04fdcd133066"
      },
      "source": [
        "# data prepare\n",
        "train_data = utils.CIFAR10Pair(root='data', train=True, transform=utils.train_transform, download=True)\n",
        "train_loader = DataLoader(train_data, batch_size=batch_size, shuffle=True, num_workers=16, pin_memory=True,\n",
        "                          drop_last=True)\n",
        "memory_data = utils.CIFAR10Pair(root='data', train=True, transform=utils.test_transform, download=True)\n",
        "memory_loader = DataLoader(memory_data, batch_size=batch_size, shuffle=False, num_workers=16, pin_memory=True)\n",
        "test_data = utils.CIFAR10Pair(root='data', train=False, transform=utils.test_transform, download=True)\n",
        "test_loader = DataLoader(test_data, batch_size=batch_size, shuffle=False, num_workers=16, pin_memory=True)\n",
        "\n",
        "# model setup and optimizer config\n",
        "\n",
        "model = Model(feature_dim).cuda()\n",
        "# model.load_state_dict(load(model_path), strict=False)\n",
        "flops, params = profile(model, inputs=(torch.randn(1, 3, 32, 32).cuda(),))\n",
        "flops, params = clever_format([flops, params])\n",
        "print('# Model Params: {} FLOPs: {}'.format(params, flops))\n",
        "optimizer = optim.Adam(model.parameters(), lr=1e-3, weight_decay=1e-6)\n",
        "c = len(memory_data.classes)\n",
        "\n",
        "# training loop\n",
        "results = {'train_loss': [], 'test_acc@1': [], 'test_acc@5': []}\n",
        "save_name_pre = '{}_{}_{}_{}_{}'.format(feature_dim, temperature, k, batch_size, epochs)\n",
        "if not os.path.exists('results'):\n",
        "    os.mkdir('results')\n",
        "best_acc = 0.0\n",
        "for epoch in range(1, epochs + 1):\n",
        "    # train_loss = train(model, train_loader, optimizer)\n",
        "    # train_loss = train_model2(model, train_loader, optimizer, gamma)\n",
        "    train_loss = train_model3(model, train_loader, optimizer, gamma)\n",
        "    results['train_loss'].append(train_loss)\n",
        "    # test_acc_1, test_acc_5 = test_model2(model, memory_loader, test_loader)\n",
        "    # test_acc_1, test_acc_5 = test_model2(model, memory_loader, test_loader)\n",
        "    test_acc_1, test_acc_5 = test_model3(model, memory_loader, test_loader)\n",
        "    results['test_acc@1'].append(test_acc_1)\n",
        "    results['test_acc@5'].append(test_acc_5)\n",
        "    # save statistics\n",
        "    \n",
        "    \n",
        "    data_frame = pd.DataFrame(data=results, index=range(1, epoch + 1))\n",
        "    \n",
        "    \n",
        "    data_frame.to_csv('results/{}_statistics.csv'.format(save_name_pre), index_label='epoch')\n",
        "    \n",
        "    if test_acc_1 > best_acc:\n",
        "        best_acc = test_acc_1\n",
        "        torch.save(model.state_dict(), 'results/{}_model.pth'.format(save_name_pre))\n",
        "\n",
        "    print('Best accuracy: {}'.format(best_acc))    \n",
        "        \n",
        "# while True:\n",
        "#   pass"
      ],
      "execution_count": 7,
      "outputs": [
        {
          "output_type": "stream",
          "text": [
            "Files already downloaded and verified\n",
            "Files already downloaded and verified\n",
            "Files already downloaded and verified\n"
          ],
          "name": "stdout"
        },
        {
          "output_type": "stream",
          "text": [
            "\r  0%|          | 0/195 [00:00<?, ?it/s]"
          ],
          "name": "stderr"
        },
        {
          "output_type": "stream",
          "text": [
            "[INFO] Register count_convNd() for <class 'torch.nn.modules.conv.Conv2d'>.\n",
            "[INFO] Register count_bn() for <class 'torch.nn.modules.batchnorm.BatchNorm2d'>.\n",
            "[INFO] Register zero_ops() for <class 'torch.nn.modules.activation.ReLU'>.\n",
            "\u001b[91m[WARN] Cannot find rule for <class 'torch.nn.modules.container.Sequential'>. Treat it as zero Macs and zero Params.\u001b[00m\n",
            "\u001b[91m[WARN] Cannot find rule for <class 'torchvision.models.resnet.Bottleneck'>. Treat it as zero Macs and zero Params.\u001b[00m\n",
            "[INFO] Register count_adap_avgpool() for <class 'torch.nn.modules.pooling.AdaptiveAvgPool2d'>.\n",
            "[INFO] Register count_linear() for <class 'torch.nn.modules.linear.Linear'>.\n",
            "[INFO] Register count_bn() for <class 'torch.nn.modules.batchnorm.BatchNorm1d'>.\n",
            "\u001b[91m[WARN] Cannot find rule for <class 'model_separation.Model'>. Treat it as zero Macs and zero Params.\u001b[00m\n",
            "# Model Params: 25.73M FLOPs: 1.31G\n"
          ],
          "name": "stdout"
        },
        {
          "output_type": "stream",
          "text": [
            "Train Epoch: [1/100] Loss: 5.5667: 100%|██████████| 195/195 [01:43<00:00,  1.89it/s]\n",
            "Feature extracting: 100%|██████████| 196/196 [00:15<00:00, 12.84it/s]\n",
            "Test Epoch: [1/100] Acc@1:41.10% Acc@5:89.55%: 100%|██████████| 40/40 [00:04<00:00,  8.40it/s]\n",
            "  0%|          | 0/195 [00:00<?, ?it/s]"
          ],
          "name": "stderr"
        },
        {
          "output_type": "stream",
          "text": [
            "Best accuracy: 41.099999999999994\n"
          ],
          "name": "stdout"
        },
        {
          "output_type": "stream",
          "text": [
            "Train Epoch: [2/100] Loss: 5.2897: 100%|██████████| 195/195 [01:43<00:00,  1.89it/s]\n",
            "Feature extracting: 100%|██████████| 196/196 [00:15<00:00, 12.71it/s]\n",
            "Test Epoch: [2/100] Acc@1:44.48% Acc@5:91.68%: 100%|██████████| 40/40 [00:04<00:00,  8.26it/s]\n",
            "  0%|          | 0/195 [00:00<?, ?it/s]"
          ],
          "name": "stderr"
        },
        {
          "output_type": "stream",
          "text": [
            "Best accuracy: 44.48\n"
          ],
          "name": "stdout"
        },
        {
          "output_type": "stream",
          "text": [
            "Train Epoch: [3/100] Loss: 5.1935: 100%|██████████| 195/195 [01:43<00:00,  1.88it/s]\n",
            "Feature extracting: 100%|██████████| 196/196 [00:15<00:00, 12.71it/s]\n",
            "Test Epoch: [3/100] Acc@1:47.41% Acc@5:92.48%: 100%|██████████| 40/40 [00:04<00:00,  8.31it/s]\n",
            "  0%|          | 0/195 [00:00<?, ?it/s]"
          ],
          "name": "stderr"
        },
        {
          "output_type": "stream",
          "text": [
            "Best accuracy: 47.410000000000004\n"
          ],
          "name": "stdout"
        },
        {
          "output_type": "stream",
          "text": [
            "Train Epoch: [4/100] Loss: 5.1221: 100%|██████████| 195/195 [01:43<00:00,  1.89it/s]\n",
            "Feature extracting: 100%|██████████| 196/196 [00:15<00:00, 12.85it/s]\n",
            "Test Epoch: [4/100] Acc@1:49.98% Acc@5:93.51%: 100%|██████████| 40/40 [00:04<00:00,  8.28it/s]\n",
            "  0%|          | 0/195 [00:00<?, ?it/s]"
          ],
          "name": "stderr"
        },
        {
          "output_type": "stream",
          "text": [
            "Best accuracy: 49.980000000000004\n"
          ],
          "name": "stdout"
        },
        {
          "output_type": "stream",
          "text": [
            "Train Epoch: [5/100] Loss: 5.0688: 100%|██████████| 195/195 [01:42<00:00,  1.89it/s]\n",
            "Feature extracting: 100%|██████████| 196/196 [00:15<00:00, 12.78it/s]\n",
            "Test Epoch: [5/100] Acc@1:52.06% Acc@5:94.65%: 100%|██████████| 40/40 [00:04<00:00,  8.46it/s]\n",
            "  0%|          | 0/195 [00:00<?, ?it/s]"
          ],
          "name": "stderr"
        },
        {
          "output_type": "stream",
          "text": [
            "Best accuracy: 52.059999999999995\n"
          ],
          "name": "stdout"
        },
        {
          "output_type": "stream",
          "text": [
            "Train Epoch: [6/100] Loss: 5.0263: 100%|██████████| 195/195 [01:43<00:00,  1.89it/s]\n",
            "Feature extracting: 100%|██████████| 196/196 [00:15<00:00, 12.91it/s]\n",
            "Test Epoch: [6/100] Acc@1:53.25% Acc@5:94.58%: 100%|██████████| 40/40 [00:04<00:00,  8.65it/s]\n",
            "  0%|          | 0/195 [00:00<?, ?it/s]"
          ],
          "name": "stderr"
        },
        {
          "output_type": "stream",
          "text": [
            "Best accuracy: 53.25\n"
          ],
          "name": "stdout"
        },
        {
          "output_type": "stream",
          "text": [
            "Train Epoch: [7/100] Loss: 4.9982: 100%|██████████| 195/195 [01:42<00:00,  1.90it/s]\n",
            "Feature extracting: 100%|██████████| 196/196 [00:15<00:00, 13.00it/s]\n",
            "Test Epoch: [7/100] Acc@1:54.39% Acc@5:94.87%: 100%|██████████| 40/40 [00:04<00:00,  8.48it/s]\n",
            "  0%|          | 0/195 [00:00<?, ?it/s]"
          ],
          "name": "stderr"
        },
        {
          "output_type": "stream",
          "text": [
            "Best accuracy: 54.39000000000001\n"
          ],
          "name": "stdout"
        },
        {
          "output_type": "stream",
          "text": [
            "Train Epoch: [8/100] Loss: 4.9756: 100%|██████████| 195/195 [01:42<00:00,  1.89it/s]\n",
            "Feature extracting: 100%|██████████| 196/196 [00:15<00:00, 12.80it/s]\n",
            "Test Epoch: [8/100] Acc@1:56.25% Acc@5:95.70%: 100%|██████████| 40/40 [00:04<00:00,  8.04it/s]\n",
            "  0%|          | 0/195 [00:00<?, ?it/s]"
          ],
          "name": "stderr"
        },
        {
          "output_type": "stream",
          "text": [
            "Best accuracy: 56.25\n"
          ],
          "name": "stdout"
        },
        {
          "output_type": "stream",
          "text": [
            "Train Epoch: [9/100] Loss: 4.9518: 100%|██████████| 195/195 [01:43<00:00,  1.89it/s]\n",
            "Feature extracting: 100%|██████████| 196/196 [00:15<00:00, 12.87it/s]\n",
            "Test Epoch: [9/100] Acc@1:56.89% Acc@5:96.01%: 100%|██████████| 40/40 [00:04<00:00,  8.50it/s]\n",
            "  0%|          | 0/195 [00:00<?, ?it/s]"
          ],
          "name": "stderr"
        },
        {
          "output_type": "stream",
          "text": [
            "Best accuracy: 56.88999999999999\n"
          ],
          "name": "stdout"
        },
        {
          "output_type": "stream",
          "text": [
            "Train Epoch: [10/100] Loss: 4.9351: 100%|██████████| 195/195 [01:43<00:00,  1.89it/s]\n",
            "Feature extracting: 100%|██████████| 196/196 [00:15<00:00, 12.92it/s]\n",
            "Test Epoch: [10/100] Acc@1:58.56% Acc@5:96.36%: 100%|██████████| 40/40 [00:04<00:00,  8.27it/s]\n",
            "  0%|          | 0/195 [00:00<?, ?it/s]"
          ],
          "name": "stderr"
        },
        {
          "output_type": "stream",
          "text": [
            "Best accuracy: 58.56\n"
          ],
          "name": "stdout"
        },
        {
          "output_type": "stream",
          "text": [
            "Train Epoch: [11/100] Loss: 4.9223: 100%|██████████| 195/195 [01:42<00:00,  1.90it/s]\n",
            "Feature extracting: 100%|██████████| 196/196 [00:15<00:00, 12.90it/s]\n",
            "Test Epoch: [11/100] Acc@1:59.65% Acc@5:96.39%: 100%|██████████| 40/40 [00:04<00:00,  8.27it/s]\n",
            "  0%|          | 0/195 [00:00<?, ?it/s]"
          ],
          "name": "stderr"
        },
        {
          "output_type": "stream",
          "text": [
            "Best accuracy: 59.650000000000006\n"
          ],
          "name": "stdout"
        },
        {
          "output_type": "stream",
          "text": [
            "Train Epoch: [12/100] Loss: 4.9118: 100%|██████████| 195/195 [01:42<00:00,  1.90it/s]\n",
            "Feature extracting: 100%|██████████| 196/196 [00:15<00:00, 12.77it/s]\n",
            "Test Epoch: [12/100] Acc@1:60.76% Acc@5:96.92%: 100%|██████████| 40/40 [00:04<00:00,  8.44it/s]\n",
            "  0%|          | 0/195 [00:00<?, ?it/s]"
          ],
          "name": "stderr"
        },
        {
          "output_type": "stream",
          "text": [
            "Best accuracy: 60.760000000000005\n"
          ],
          "name": "stdout"
        },
        {
          "output_type": "stream",
          "text": [
            "Train Epoch: [13/100] Loss: 4.8928: 100%|██████████| 195/195 [01:42<00:00,  1.90it/s]\n",
            "Feature extracting: 100%|██████████| 196/196 [00:15<00:00, 13.01it/s]\n",
            "Test Epoch: [13/100] Acc@1:61.83% Acc@5:97.05%: 100%|██████████| 40/40 [00:04<00:00,  8.50it/s]\n",
            "  0%|          | 0/195 [00:00<?, ?it/s]"
          ],
          "name": "stderr"
        },
        {
          "output_type": "stream",
          "text": [
            "Best accuracy: 61.83\n"
          ],
          "name": "stdout"
        },
        {
          "output_type": "stream",
          "text": [
            "Train Epoch: [14/100] Loss: 4.8893: 100%|██████████| 195/195 [01:43<00:00,  1.89it/s]\n",
            "Feature extracting: 100%|██████████| 196/196 [00:15<00:00, 12.72it/s]\n",
            "Test Epoch: [14/100] Acc@1:62.07% Acc@5:96.95%: 100%|██████████| 40/40 [00:04<00:00,  8.29it/s]\n",
            "  0%|          | 0/195 [00:00<?, ?it/s]"
          ],
          "name": "stderr"
        },
        {
          "output_type": "stream",
          "text": [
            "Best accuracy: 62.07\n"
          ],
          "name": "stdout"
        },
        {
          "output_type": "stream",
          "text": [
            "Train Epoch: [15/100] Loss: 4.8859: 100%|██████████| 195/195 [01:43<00:00,  1.88it/s]\n",
            "Feature extracting: 100%|██████████| 196/196 [00:15<00:00, 12.85it/s]\n",
            "Test Epoch: [15/100] Acc@1:63.61% Acc@5:97.05%: 100%|██████████| 40/40 [00:04<00:00,  8.28it/s]\n",
            "  0%|          | 0/195 [00:00<?, ?it/s]"
          ],
          "name": "stderr"
        },
        {
          "output_type": "stream",
          "text": [
            "Best accuracy: 63.61\n"
          ],
          "name": "stdout"
        },
        {
          "output_type": "stream",
          "text": [
            "Train Epoch: [16/100] Loss: 4.8748: 100%|██████████| 195/195 [01:43<00:00,  1.89it/s]\n",
            "Feature extracting: 100%|██████████| 196/196 [00:15<00:00, 12.78it/s]\n",
            "Test Epoch: [16/100] Acc@1:64.32% Acc@5:97.44%: 100%|██████████| 40/40 [00:04<00:00,  8.15it/s]\n",
            "  0%|          | 0/195 [00:00<?, ?it/s]"
          ],
          "name": "stderr"
        },
        {
          "output_type": "stream",
          "text": [
            "Best accuracy: 64.32\n"
          ],
          "name": "stdout"
        },
        {
          "output_type": "stream",
          "text": [
            "Train Epoch: [17/100] Loss: 4.8661: 100%|██████████| 195/195 [01:43<00:00,  1.88it/s]\n",
            "Feature extracting: 100%|██████████| 196/196 [00:15<00:00, 12.83it/s]\n",
            "Test Epoch: [17/100] Acc@1:63.76% Acc@5:97.31%: 100%|██████████| 40/40 [00:04<00:00,  8.29it/s]\n",
            "  0%|          | 0/195 [00:00<?, ?it/s]"
          ],
          "name": "stderr"
        },
        {
          "output_type": "stream",
          "text": [
            "Best accuracy: 64.32\n"
          ],
          "name": "stdout"
        },
        {
          "output_type": "stream",
          "text": [
            "Train Epoch: [18/100] Loss: 4.8573: 100%|██████████| 195/195 [01:43<00:00,  1.89it/s]\n",
            "Feature extracting: 100%|██████████| 196/196 [00:15<00:00, 12.74it/s]\n",
            "Test Epoch: [18/100] Acc@1:65.53% Acc@5:97.56%: 100%|██████████| 40/40 [00:04<00:00,  8.08it/s]\n",
            "  0%|          | 0/195 [00:00<?, ?it/s]"
          ],
          "name": "stderr"
        },
        {
          "output_type": "stream",
          "text": [
            "Best accuracy: 65.53\n"
          ],
          "name": "stdout"
        },
        {
          "output_type": "stream",
          "text": [
            "Train Epoch: [19/100] Loss: 4.8535: 100%|██████████| 195/195 [01:43<00:00,  1.89it/s]\n",
            "Feature extracting: 100%|██████████| 196/196 [00:15<00:00, 12.73it/s]\n",
            "Test Epoch: [19/100] Acc@1:65.23% Acc@5:97.35%: 100%|██████████| 40/40 [00:04<00:00,  8.27it/s]\n",
            "  0%|          | 0/195 [00:00<?, ?it/s]"
          ],
          "name": "stderr"
        },
        {
          "output_type": "stream",
          "text": [
            "Best accuracy: 65.53\n"
          ],
          "name": "stdout"
        },
        {
          "output_type": "stream",
          "text": [
            "Train Epoch: [20/100] Loss: 4.8488: 100%|██████████| 195/195 [01:42<00:00,  1.90it/s]\n",
            "Feature extracting: 100%|██████████| 196/196 [00:15<00:00, 12.80it/s]\n",
            "Test Epoch: [20/100] Acc@1:66.83% Acc@5:97.40%: 100%|██████████| 40/40 [00:04<00:00,  8.25it/s]\n",
            "  0%|          | 0/195 [00:00<?, ?it/s]"
          ],
          "name": "stderr"
        },
        {
          "output_type": "stream",
          "text": [
            "Best accuracy: 66.83\n"
          ],
          "name": "stdout"
        },
        {
          "output_type": "stream",
          "text": [
            "Train Epoch: [21/100] Loss: 4.8411: 100%|██████████| 195/195 [01:42<00:00,  1.90it/s]\n",
            "Feature extracting: 100%|██████████| 196/196 [00:15<00:00, 12.89it/s]\n",
            "Test Epoch: [21/100] Acc@1:66.56% Acc@5:97.72%: 100%|██████████| 40/40 [00:04<00:00,  8.19it/s]\n",
            "  0%|          | 0/195 [00:00<?, ?it/s]"
          ],
          "name": "stderr"
        },
        {
          "output_type": "stream",
          "text": [
            "Best accuracy: 66.83\n"
          ],
          "name": "stdout"
        },
        {
          "output_type": "stream",
          "text": [
            "Train Epoch: [22/100] Loss: 4.8370: 100%|██████████| 195/195 [01:42<00:00,  1.90it/s]\n",
            "Feature extracting: 100%|██████████| 196/196 [00:15<00:00, 12.87it/s]\n",
            "Test Epoch: [22/100] Acc@1:67.02% Acc@5:97.59%: 100%|██████████| 40/40 [00:04<00:00,  8.43it/s]\n",
            "  0%|          | 0/195 [00:00<?, ?it/s]"
          ],
          "name": "stderr"
        },
        {
          "output_type": "stream",
          "text": [
            "Best accuracy: 67.02\n"
          ],
          "name": "stdout"
        },
        {
          "output_type": "stream",
          "text": [
            "Train Epoch: [23/100] Loss: 4.8322: 100%|██████████| 195/195 [01:42<00:00,  1.89it/s]\n",
            "Feature extracting: 100%|██████████| 196/196 [00:15<00:00, 12.78it/s]\n",
            "Test Epoch: [23/100] Acc@1:67.16% Acc@5:97.69%: 100%|██████████| 40/40 [00:04<00:00,  8.04it/s]\n",
            "  0%|          | 0/195 [00:00<?, ?it/s]"
          ],
          "name": "stderr"
        },
        {
          "output_type": "stream",
          "text": [
            "Best accuracy: 67.16\n"
          ],
          "name": "stdout"
        },
        {
          "output_type": "stream",
          "text": [
            "Train Epoch: [24/100] Loss: 4.8297: 100%|██████████| 195/195 [01:43<00:00,  1.89it/s]\n",
            "Feature extracting: 100%|██████████| 196/196 [00:15<00:00, 12.82it/s]\n",
            "Test Epoch: [24/100] Acc@1:67.91% Acc@5:97.75%: 100%|██████████| 40/40 [00:04<00:00,  8.61it/s]\n",
            "  0%|          | 0/195 [00:00<?, ?it/s]"
          ],
          "name": "stderr"
        },
        {
          "output_type": "stream",
          "text": [
            "Best accuracy: 67.91\n"
          ],
          "name": "stdout"
        },
        {
          "output_type": "stream",
          "text": [
            "Train Epoch: [25/100] Loss: 4.8246: 100%|██████████| 195/195 [01:43<00:00,  1.89it/s]\n",
            "Feature extracting: 100%|██████████| 196/196 [00:15<00:00, 12.86it/s]\n",
            "Test Epoch: [25/100] Acc@1:68.04% Acc@5:97.95%: 100%|██████████| 40/40 [00:04<00:00,  8.27it/s]\n",
            "  0%|          | 0/195 [00:00<?, ?it/s]"
          ],
          "name": "stderr"
        },
        {
          "output_type": "stream",
          "text": [
            "Best accuracy: 68.04\n"
          ],
          "name": "stdout"
        },
        {
          "output_type": "stream",
          "text": [
            "Train Epoch: [26/100] Loss: 4.8208: 100%|██████████| 195/195 [01:42<00:00,  1.90it/s]\n",
            "Feature extracting: 100%|██████████| 196/196 [00:15<00:00, 12.74it/s]\n",
            "Test Epoch: [26/100] Acc@1:68.23% Acc@5:97.90%: 100%|██████████| 40/40 [00:04<00:00,  8.55it/s]\n",
            "  0%|          | 0/195 [00:00<?, ?it/s]"
          ],
          "name": "stderr"
        },
        {
          "output_type": "stream",
          "text": [
            "Best accuracy: 68.23\n"
          ],
          "name": "stdout"
        },
        {
          "output_type": "stream",
          "text": [
            "Train Epoch: [27/100] Loss: 4.8157: 100%|██████████| 195/195 [01:42<00:00,  1.90it/s]\n",
            "Feature extracting: 100%|██████████| 196/196 [00:15<00:00, 12.90it/s]\n",
            "Test Epoch: [27/100] Acc@1:69.22% Acc@5:97.95%: 100%|██████████| 40/40 [00:04<00:00,  8.32it/s]\n",
            "  0%|          | 0/195 [00:00<?, ?it/s]"
          ],
          "name": "stderr"
        },
        {
          "output_type": "stream",
          "text": [
            "Best accuracy: 69.22\n"
          ],
          "name": "stdout"
        },
        {
          "output_type": "stream",
          "text": [
            "Train Epoch: [28/100] Loss: 4.8136: 100%|██████████| 195/195 [01:42<00:00,  1.90it/s]\n",
            "Feature extracting: 100%|██████████| 196/196 [00:15<00:00, 12.94it/s]\n",
            "Test Epoch: [28/100] Acc@1:68.60% Acc@5:97.81%: 100%|██████████| 40/40 [00:04<00:00,  8.20it/s]\n",
            "  0%|          | 0/195 [00:00<?, ?it/s]"
          ],
          "name": "stderr"
        },
        {
          "output_type": "stream",
          "text": [
            "Best accuracy: 69.22\n"
          ],
          "name": "stdout"
        },
        {
          "output_type": "stream",
          "text": [
            "Train Epoch: [29/100] Loss: 4.8119: 100%|██████████| 195/195 [01:42<00:00,  1.91it/s]\n",
            "Feature extracting: 100%|██████████| 196/196 [00:15<00:00, 12.85it/s]\n",
            "Test Epoch: [29/100] Acc@1:69.46% Acc@5:98.02%: 100%|██████████| 40/40 [00:04<00:00,  8.39it/s]\n",
            "  0%|          | 0/195 [00:00<?, ?it/s]"
          ],
          "name": "stderr"
        },
        {
          "output_type": "stream",
          "text": [
            "Best accuracy: 69.46\n"
          ],
          "name": "stdout"
        },
        {
          "output_type": "stream",
          "text": [
            "Train Epoch: [30/100] Loss: 4.8076: 100%|██████████| 195/195 [01:42<00:00,  1.91it/s]\n",
            "Feature extracting: 100%|██████████| 196/196 [00:15<00:00, 12.98it/s]\n",
            "Test Epoch: [30/100] Acc@1:69.41% Acc@5:97.87%: 100%|██████████| 40/40 [00:04<00:00,  8.27it/s]\n",
            "  0%|          | 0/195 [00:00<?, ?it/s]"
          ],
          "name": "stderr"
        },
        {
          "output_type": "stream",
          "text": [
            "Best accuracy: 69.46\n"
          ],
          "name": "stdout"
        },
        {
          "output_type": "stream",
          "text": [
            "Train Epoch: [31/100] Loss: 4.8041: 100%|██████████| 195/195 [01:42<00:00,  1.90it/s]\n",
            "Feature extracting: 100%|██████████| 196/196 [00:15<00:00, 12.87it/s]\n",
            "Test Epoch: [31/100] Acc@1:69.67% Acc@5:97.95%: 100%|██████████| 40/40 [00:04<00:00,  8.25it/s]\n",
            "  0%|          | 0/195 [00:00<?, ?it/s]"
          ],
          "name": "stderr"
        },
        {
          "output_type": "stream",
          "text": [
            "Best accuracy: 69.67\n"
          ],
          "name": "stdout"
        },
        {
          "output_type": "stream",
          "text": [
            "Train Epoch: [32/100] Loss: 4.7987: 100%|██████████| 195/195 [01:42<00:00,  1.90it/s]\n",
            "Feature extracting: 100%|██████████| 196/196 [00:15<00:00, 12.91it/s]\n",
            "Test Epoch: [32/100] Acc@1:69.37% Acc@5:98.03%: 100%|██████████| 40/40 [00:04<00:00,  8.64it/s]\n",
            "  0%|          | 0/195 [00:00<?, ?it/s]"
          ],
          "name": "stderr"
        },
        {
          "output_type": "stream",
          "text": [
            "Best accuracy: 69.67\n"
          ],
          "name": "stdout"
        },
        {
          "output_type": "stream",
          "text": [
            "Train Epoch: [33/100] Loss: 4.7989: 100%|██████████| 195/195 [01:42<00:00,  1.91it/s]\n",
            "Feature extracting: 100%|██████████| 196/196 [00:15<00:00, 12.94it/s]\n",
            "Test Epoch: [33/100] Acc@1:69.75% Acc@5:98.12%: 100%|██████████| 40/40 [00:04<00:00,  8.48it/s]\n",
            "  0%|          | 0/195 [00:00<?, ?it/s]"
          ],
          "name": "stderr"
        },
        {
          "output_type": "stream",
          "text": [
            "Best accuracy: 69.75\n"
          ],
          "name": "stdout"
        },
        {
          "output_type": "stream",
          "text": [
            "Train Epoch: [34/100] Loss: 4.7950: 100%|██████████| 195/195 [01:42<00:00,  1.91it/s]\n",
            "Feature extracting: 100%|██████████| 196/196 [00:15<00:00, 12.98it/s]\n",
            "Test Epoch: [34/100] Acc@1:70.52% Acc@5:98.08%: 100%|██████████| 40/40 [00:04<00:00,  8.67it/s]\n",
            "  0%|          | 0/195 [00:00<?, ?it/s]"
          ],
          "name": "stderr"
        },
        {
          "output_type": "stream",
          "text": [
            "Best accuracy: 70.52000000000001\n"
          ],
          "name": "stdout"
        },
        {
          "output_type": "stream",
          "text": [
            "Train Epoch: [35/100] Loss: 4.7930: 100%|██████████| 195/195 [01:42<00:00,  1.90it/s]\n",
            "Feature extracting: 100%|██████████| 196/196 [00:15<00:00, 12.76it/s]\n",
            "Test Epoch: [35/100] Acc@1:71.05% Acc@5:97.96%: 100%|██████████| 40/40 [00:04<00:00,  8.54it/s]\n",
            "  0%|          | 0/195 [00:00<?, ?it/s]"
          ],
          "name": "stderr"
        },
        {
          "output_type": "stream",
          "text": [
            "Best accuracy: 71.05\n"
          ],
          "name": "stdout"
        },
        {
          "output_type": "stream",
          "text": [
            "Train Epoch: [36/100] Loss: 4.7921: 100%|██████████| 195/195 [01:42<00:00,  1.91it/s]\n",
            "Feature extracting: 100%|██████████| 196/196 [00:15<00:00, 13.02it/s]\n",
            "Test Epoch: [36/100] Acc@1:70.97% Acc@5:98.25%: 100%|██████████| 40/40 [00:04<00:00,  8.42it/s]\n",
            "  0%|          | 0/195 [00:00<?, ?it/s]"
          ],
          "name": "stderr"
        },
        {
          "output_type": "stream",
          "text": [
            "Best accuracy: 71.05\n"
          ],
          "name": "stdout"
        },
        {
          "output_type": "stream",
          "text": [
            "Train Epoch: [37/100] Loss: 4.7872: 100%|██████████| 195/195 [01:42<00:00,  1.91it/s]\n",
            "Feature extracting: 100%|██████████| 196/196 [00:15<00:00, 12.93it/s]\n",
            "Test Epoch: [37/100] Acc@1:70.84% Acc@5:98.17%: 100%|██████████| 40/40 [00:04<00:00,  8.17it/s]\n",
            "  0%|          | 0/195 [00:00<?, ?it/s]"
          ],
          "name": "stderr"
        },
        {
          "output_type": "stream",
          "text": [
            "Best accuracy: 71.05\n"
          ],
          "name": "stdout"
        },
        {
          "output_type": "stream",
          "text": [
            "Train Epoch: [38/100] Loss: 4.7825: 100%|██████████| 195/195 [01:42<00:00,  1.91it/s]\n",
            "Feature extracting: 100%|██████████| 196/196 [00:15<00:00, 12.88it/s]\n",
            "Test Epoch: [38/100] Acc@1:70.63% Acc@5:98.14%: 100%|██████████| 40/40 [00:04<00:00,  8.17it/s]\n",
            "  0%|          | 0/195 [00:00<?, ?it/s]"
          ],
          "name": "stderr"
        },
        {
          "output_type": "stream",
          "text": [
            "Best accuracy: 71.05\n"
          ],
          "name": "stdout"
        },
        {
          "output_type": "stream",
          "text": [
            "Train Epoch: [39/100] Loss: 4.7859: 100%|██████████| 195/195 [01:42<00:00,  1.91it/s]\n",
            "Feature extracting: 100%|██████████| 196/196 [00:15<00:00, 12.84it/s]\n",
            "Test Epoch: [39/100] Acc@1:71.21% Acc@5:98.41%: 100%|██████████| 40/40 [00:04<00:00,  8.34it/s]\n",
            "  0%|          | 0/195 [00:00<?, ?it/s]"
          ],
          "name": "stderr"
        },
        {
          "output_type": "stream",
          "text": [
            "Best accuracy: 71.21\n"
          ],
          "name": "stdout"
        },
        {
          "output_type": "stream",
          "text": [
            "Train Epoch: [40/100] Loss: 4.7800: 100%|██████████| 195/195 [01:42<00:00,  1.90it/s]\n",
            "Feature extracting: 100%|██████████| 196/196 [00:15<00:00, 12.76it/s]\n",
            "Test Epoch: [40/100] Acc@1:70.82% Acc@5:98.24%: 100%|██████████| 40/40 [00:04<00:00,  8.53it/s]\n",
            "  0%|          | 0/195 [00:00<?, ?it/s]"
          ],
          "name": "stderr"
        },
        {
          "output_type": "stream",
          "text": [
            "Best accuracy: 71.21\n"
          ],
          "name": "stdout"
        },
        {
          "output_type": "stream",
          "text": [
            "Train Epoch: [41/100] Loss: 4.7784: 100%|██████████| 195/195 [01:42<00:00,  1.91it/s]\n",
            "Feature extracting: 100%|██████████| 196/196 [00:15<00:00, 13.00it/s]\n",
            "Test Epoch: [41/100] Acc@1:71.11% Acc@5:98.29%: 100%|██████████| 40/40 [00:04<00:00,  8.42it/s]\n",
            "  0%|          | 0/195 [00:00<?, ?it/s]"
          ],
          "name": "stderr"
        },
        {
          "output_type": "stream",
          "text": [
            "Best accuracy: 71.21\n"
          ],
          "name": "stdout"
        },
        {
          "output_type": "stream",
          "text": [
            "Train Epoch: [42/100] Loss: 4.7755: 100%|██████████| 195/195 [01:42<00:00,  1.90it/s]\n",
            "Feature extracting: 100%|██████████| 196/196 [00:15<00:00, 12.86it/s]\n",
            "Test Epoch: [42/100] Acc@1:72.13% Acc@5:98.38%: 100%|██████████| 40/40 [00:04<00:00,  8.35it/s]\n",
            "  0%|          | 0/195 [00:00<?, ?it/s]"
          ],
          "name": "stderr"
        },
        {
          "output_type": "stream",
          "text": [
            "Best accuracy: 72.13000000000001\n"
          ],
          "name": "stdout"
        },
        {
          "output_type": "stream",
          "text": [
            "Train Epoch: [43/100] Loss: 4.7738: 100%|██████████| 195/195 [01:42<00:00,  1.90it/s]\n",
            "Feature extracting: 100%|██████████| 196/196 [00:15<00:00, 12.75it/s]\n",
            "Test Epoch: [43/100] Acc@1:71.81% Acc@5:98.24%: 100%|██████████| 40/40 [00:04<00:00,  8.46it/s]\n",
            "  0%|          | 0/195 [00:00<?, ?it/s]"
          ],
          "name": "stderr"
        },
        {
          "output_type": "stream",
          "text": [
            "Best accuracy: 72.13000000000001\n"
          ],
          "name": "stdout"
        },
        {
          "output_type": "stream",
          "text": [
            "Train Epoch: [44/100] Loss: 4.7705: 100%|██████████| 195/195 [01:42<00:00,  1.90it/s]\n",
            "Feature extracting: 100%|██████████| 196/196 [00:15<00:00, 12.86it/s]\n",
            "Test Epoch: [44/100] Acc@1:72.47% Acc@5:98.42%: 100%|██████████| 40/40 [00:04<00:00,  8.33it/s]\n",
            "  0%|          | 0/195 [00:00<?, ?it/s]"
          ],
          "name": "stderr"
        },
        {
          "output_type": "stream",
          "text": [
            "Best accuracy: 72.47\n"
          ],
          "name": "stdout"
        },
        {
          "output_type": "stream",
          "text": [
            "Train Epoch: [45/100] Loss: 4.7715: 100%|██████████| 195/195 [01:42<00:00,  1.90it/s]\n",
            "Feature extracting: 100%|██████████| 196/196 [00:15<00:00, 12.85it/s]\n",
            "Test Epoch: [45/100] Acc@1:72.43% Acc@5:98.31%: 100%|██████████| 40/40 [00:04<00:00,  8.44it/s]\n",
            "  0%|          | 0/195 [00:00<?, ?it/s]"
          ],
          "name": "stderr"
        },
        {
          "output_type": "stream",
          "text": [
            "Best accuracy: 72.47\n"
          ],
          "name": "stdout"
        },
        {
          "output_type": "stream",
          "text": [
            "Train Epoch: [46/100] Loss: 4.7665: 100%|██████████| 195/195 [01:42<00:00,  1.91it/s]\n",
            "Feature extracting: 100%|██████████| 196/196 [00:15<00:00, 12.90it/s]\n",
            "Test Epoch: [46/100] Acc@1:72.00% Acc@5:98.36%: 100%|██████████| 40/40 [00:04<00:00,  8.65it/s]\n",
            "  0%|          | 0/195 [00:00<?, ?it/s]"
          ],
          "name": "stderr"
        },
        {
          "output_type": "stream",
          "text": [
            "Best accuracy: 72.47\n"
          ],
          "name": "stdout"
        },
        {
          "output_type": "stream",
          "text": [
            "Train Epoch: [47/100] Loss: 4.7653: 100%|██████████| 195/195 [01:42<00:00,  1.90it/s]\n",
            "Feature extracting: 100%|██████████| 196/196 [00:15<00:00, 12.83it/s]\n",
            "Test Epoch: [47/100] Acc@1:72.10% Acc@5:98.37%: 100%|██████████| 40/40 [00:04<00:00,  8.33it/s]\n",
            "  0%|          | 0/195 [00:00<?, ?it/s]"
          ],
          "name": "stderr"
        },
        {
          "output_type": "stream",
          "text": [
            "Best accuracy: 72.47\n"
          ],
          "name": "stdout"
        },
        {
          "output_type": "stream",
          "text": [
            "Train Epoch: [48/100] Loss: 4.7664: 100%|██████████| 195/195 [01:42<00:00,  1.91it/s]\n",
            "Feature extracting: 100%|██████████| 196/196 [00:15<00:00, 12.86it/s]\n",
            "Test Epoch: [48/100] Acc@1:72.22% Acc@5:98.17%: 100%|██████████| 40/40 [00:04<00:00,  8.53it/s]\n",
            "  0%|          | 0/195 [00:00<?, ?it/s]"
          ],
          "name": "stderr"
        },
        {
          "output_type": "stream",
          "text": [
            "Best accuracy: 72.47\n"
          ],
          "name": "stdout"
        },
        {
          "output_type": "stream",
          "text": [
            "Train Epoch: [49/100] Loss: 4.7667: 100%|██████████| 195/195 [01:42<00:00,  1.91it/s]\n",
            "Feature extracting: 100%|██████████| 196/196 [00:15<00:00, 12.74it/s]\n",
            "Test Epoch: [49/100] Acc@1:72.21% Acc@5:98.27%: 100%|██████████| 40/40 [00:04<00:00,  8.59it/s]\n",
            "  0%|          | 0/195 [00:00<?, ?it/s]"
          ],
          "name": "stderr"
        },
        {
          "output_type": "stream",
          "text": [
            "Best accuracy: 72.47\n"
          ],
          "name": "stdout"
        },
        {
          "output_type": "stream",
          "text": [
            "Train Epoch: [50/100] Loss: 4.7603: 100%|██████████| 195/195 [01:42<00:00,  1.90it/s]\n",
            "Feature extracting: 100%|██████████| 196/196 [00:15<00:00, 12.83it/s]\n",
            "Test Epoch: [50/100] Acc@1:72.58% Acc@5:98.39%: 100%|██████████| 40/40 [00:04<00:00,  8.27it/s]\n",
            "  0%|          | 0/195 [00:00<?, ?it/s]"
          ],
          "name": "stderr"
        },
        {
          "output_type": "stream",
          "text": [
            "Best accuracy: 72.58\n"
          ],
          "name": "stdout"
        },
        {
          "output_type": "stream",
          "text": [
            "Train Epoch: [51/100] Loss: 4.7556: 100%|██████████| 195/195 [01:42<00:00,  1.90it/s]\n",
            "Feature extracting: 100%|██████████| 196/196 [00:15<00:00, 12.79it/s]\n",
            "Test Epoch: [51/100] Acc@1:72.96% Acc@5:98.40%: 100%|██████████| 40/40 [00:04<00:00,  8.43it/s]\n",
            "  0%|          | 0/195 [00:00<?, ?it/s]"
          ],
          "name": "stderr"
        },
        {
          "output_type": "stream",
          "text": [
            "Best accuracy: 72.96000000000001\n"
          ],
          "name": "stdout"
        },
        {
          "output_type": "stream",
          "text": [
            "Train Epoch: [52/100] Loss: 4.7600: 100%|██████████| 195/195 [01:42<00:00,  1.90it/s]\n",
            "Feature extracting: 100%|██████████| 196/196 [00:15<00:00, 12.84it/s]\n",
            "Test Epoch: [52/100] Acc@1:72.92% Acc@5:98.59%: 100%|██████████| 40/40 [00:04<00:00,  8.59it/s]\n",
            "  0%|          | 0/195 [00:00<?, ?it/s]"
          ],
          "name": "stderr"
        },
        {
          "output_type": "stream",
          "text": [
            "Best accuracy: 72.96000000000001\n"
          ],
          "name": "stdout"
        },
        {
          "output_type": "stream",
          "text": [
            "Train Epoch: [53/100] Loss: 4.7588: 100%|██████████| 195/195 [01:42<00:00,  1.91it/s]\n",
            "Feature extracting: 100%|██████████| 196/196 [00:15<00:00, 12.99it/s]\n",
            "Test Epoch: [53/100] Acc@1:73.65% Acc@5:98.47%: 100%|██████████| 40/40 [00:04<00:00,  8.58it/s]\n",
            "  0%|          | 0/195 [00:00<?, ?it/s]"
          ],
          "name": "stderr"
        },
        {
          "output_type": "stream",
          "text": [
            "Best accuracy: 73.65\n"
          ],
          "name": "stdout"
        },
        {
          "output_type": "stream",
          "text": [
            "Train Epoch: [54/100] Loss: 4.7527: 100%|██████████| 195/195 [01:42<00:00,  1.91it/s]\n",
            "Feature extracting: 100%|██████████| 196/196 [00:15<00:00, 12.77it/s]\n",
            "Test Epoch: [54/100] Acc@1:73.77% Acc@5:98.50%: 100%|██████████| 40/40 [00:04<00:00,  8.47it/s]\n",
            "  0%|          | 0/195 [00:00<?, ?it/s]"
          ],
          "name": "stderr"
        },
        {
          "output_type": "stream",
          "text": [
            "Best accuracy: 73.77\n"
          ],
          "name": "stdout"
        },
        {
          "output_type": "stream",
          "text": [
            "Train Epoch: [55/100] Loss: 4.7557: 100%|██████████| 195/195 [01:42<00:00,  1.90it/s]\n",
            "Feature extracting: 100%|██████████| 196/196 [00:15<00:00, 12.54it/s]\n",
            "Test Epoch: [55/100] Acc@1:73.59% Acc@5:98.40%: 100%|██████████| 40/40 [00:04<00:00,  8.39it/s]\n",
            "  0%|          | 0/195 [00:00<?, ?it/s]"
          ],
          "name": "stderr"
        },
        {
          "output_type": "stream",
          "text": [
            "Best accuracy: 73.77\n"
          ],
          "name": "stdout"
        },
        {
          "output_type": "stream",
          "text": [
            "Train Epoch: [56/100] Loss: 4.7523: 100%|██████████| 195/195 [01:42<00:00,  1.90it/s]\n",
            "Feature extracting: 100%|██████████| 196/196 [00:15<00:00, 12.80it/s]\n",
            "Test Epoch: [56/100] Acc@1:73.52% Acc@5:98.44%: 100%|██████████| 40/40 [00:04<00:00,  8.20it/s]\n",
            "  0%|          | 0/195 [00:00<?, ?it/s]"
          ],
          "name": "stderr"
        },
        {
          "output_type": "stream",
          "text": [
            "Best accuracy: 73.77\n"
          ],
          "name": "stdout"
        },
        {
          "output_type": "stream",
          "text": [
            "Train Epoch: [57/100] Loss: 4.7502: 100%|██████████| 195/195 [01:42<00:00,  1.90it/s]\n",
            "Feature extracting: 100%|██████████| 196/196 [00:15<00:00, 12.76it/s]\n",
            "Test Epoch: [57/100] Acc@1:73.64% Acc@5:98.58%: 100%|██████████| 40/40 [00:04<00:00,  8.09it/s]\n",
            "  0%|          | 0/195 [00:00<?, ?it/s]"
          ],
          "name": "stderr"
        },
        {
          "output_type": "stream",
          "text": [
            "Best accuracy: 73.77\n"
          ],
          "name": "stdout"
        },
        {
          "output_type": "stream",
          "text": [
            "Train Epoch: [58/100] Loss: 4.7469: 100%|██████████| 195/195 [01:42<00:00,  1.90it/s]\n",
            "Feature extracting: 100%|██████████| 196/196 [00:15<00:00, 12.88it/s]\n",
            "Test Epoch: [58/100] Acc@1:73.53% Acc@5:98.56%: 100%|██████████| 40/40 [00:04<00:00,  8.25it/s]\n",
            "  0%|          | 0/195 [00:00<?, ?it/s]"
          ],
          "name": "stderr"
        },
        {
          "output_type": "stream",
          "text": [
            "Best accuracy: 73.77\n"
          ],
          "name": "stdout"
        },
        {
          "output_type": "stream",
          "text": [
            "Train Epoch: [59/100] Loss: 4.7482: 100%|██████████| 195/195 [01:42<00:00,  1.90it/s]\n",
            "Feature extracting: 100%|██████████| 196/196 [00:15<00:00, 12.93it/s]\n",
            "Test Epoch: [59/100] Acc@1:74.11% Acc@5:98.59%: 100%|██████████| 40/40 [00:04<00:00,  8.65it/s]\n",
            "  0%|          | 0/195 [00:00<?, ?it/s]"
          ],
          "name": "stderr"
        },
        {
          "output_type": "stream",
          "text": [
            "Best accuracy: 74.11\n"
          ],
          "name": "stdout"
        },
        {
          "output_type": "stream",
          "text": [
            "Train Epoch: [60/100] Loss: 4.7454: 100%|██████████| 195/195 [01:42<00:00,  1.89it/s]\n",
            "Feature extracting: 100%|██████████| 196/196 [00:15<00:00, 12.79it/s]\n",
            "Test Epoch: [60/100] Acc@1:73.94% Acc@5:98.44%: 100%|██████████| 40/40 [00:04<00:00,  8.34it/s]\n",
            "  0%|          | 0/195 [00:00<?, ?it/s]"
          ],
          "name": "stderr"
        },
        {
          "output_type": "stream",
          "text": [
            "Best accuracy: 74.11\n"
          ],
          "name": "stdout"
        },
        {
          "output_type": "stream",
          "text": [
            "Train Epoch: [61/100] Loss: 4.7424: 100%|██████████| 195/195 [01:42<00:00,  1.90it/s]\n",
            "Feature extracting: 100%|██████████| 196/196 [00:15<00:00, 12.71it/s]\n",
            "Test Epoch: [61/100] Acc@1:74.40% Acc@5:98.62%: 100%|██████████| 40/40 [00:04<00:00,  8.28it/s]\n",
            "  0%|          | 0/195 [00:00<?, ?it/s]"
          ],
          "name": "stderr"
        },
        {
          "output_type": "stream",
          "text": [
            "Best accuracy: 74.4\n"
          ],
          "name": "stdout"
        },
        {
          "output_type": "stream",
          "text": [
            "Train Epoch: [62/100] Loss: 4.7432: 100%|██████████| 195/195 [01:43<00:00,  1.89it/s]\n",
            "Feature extracting: 100%|██████████| 196/196 [00:15<00:00, 12.71it/s]\n",
            "Test Epoch: [62/100] Acc@1:74.57% Acc@5:98.54%: 100%|██████████| 40/40 [00:04<00:00,  8.35it/s]\n",
            "  0%|          | 0/195 [00:00<?, ?it/s]"
          ],
          "name": "stderr"
        },
        {
          "output_type": "stream",
          "text": [
            "Best accuracy: 74.57000000000001\n"
          ],
          "name": "stdout"
        },
        {
          "output_type": "stream",
          "text": [
            "Train Epoch: [63/100] Loss: 4.7409: 100%|██████████| 195/195 [01:43<00:00,  1.89it/s]\n",
            "Feature extracting: 100%|██████████| 196/196 [00:15<00:00, 12.88it/s]\n",
            "Test Epoch: [63/100] Acc@1:74.73% Acc@5:98.40%: 100%|██████████| 40/40 [00:04<00:00,  8.41it/s]\n",
            "  0%|          | 0/195 [00:00<?, ?it/s]"
          ],
          "name": "stderr"
        },
        {
          "output_type": "stream",
          "text": [
            "Best accuracy: 74.72999999999999\n"
          ],
          "name": "stdout"
        },
        {
          "output_type": "stream",
          "text": [
            "Train Epoch: [64/100] Loss: 4.7385: 100%|██████████| 195/195 [01:43<00:00,  1.89it/s]\n",
            "Feature extracting: 100%|██████████| 196/196 [00:15<00:00, 12.83it/s]\n",
            "Test Epoch: [64/100] Acc@1:74.55% Acc@5:98.55%: 100%|██████████| 40/40 [00:04<00:00,  8.42it/s]\n",
            "  0%|          | 0/195 [00:00<?, ?it/s]"
          ],
          "name": "stderr"
        },
        {
          "output_type": "stream",
          "text": [
            "Best accuracy: 74.72999999999999\n"
          ],
          "name": "stdout"
        },
        {
          "output_type": "stream",
          "text": [
            "Train Epoch: [65/100] Loss: 4.7386: 100%|██████████| 195/195 [01:42<00:00,  1.90it/s]\n",
            "Feature extracting: 100%|██████████| 196/196 [00:15<00:00, 12.73it/s]\n",
            "Test Epoch: [65/100] Acc@1:74.55% Acc@5:98.60%: 100%|██████████| 40/40 [00:04<00:00,  8.12it/s]\n",
            "  0%|          | 0/195 [00:00<?, ?it/s]"
          ],
          "name": "stderr"
        },
        {
          "output_type": "stream",
          "text": [
            "Best accuracy: 74.72999999999999\n"
          ],
          "name": "stdout"
        },
        {
          "output_type": "stream",
          "text": [
            "Train Epoch: [66/100] Loss: 4.7350: 100%|██████████| 195/195 [01:42<00:00,  1.90it/s]\n",
            "Feature extracting: 100%|██████████| 196/196 [00:15<00:00, 12.80it/s]\n",
            "Test Epoch: [66/100] Acc@1:74.50% Acc@5:98.55%: 100%|██████████| 40/40 [00:04<00:00,  8.16it/s]\n",
            "  0%|          | 0/195 [00:00<?, ?it/s]"
          ],
          "name": "stderr"
        },
        {
          "output_type": "stream",
          "text": [
            "Best accuracy: 74.72999999999999\n"
          ],
          "name": "stdout"
        },
        {
          "output_type": "stream",
          "text": [
            "Train Epoch: [67/100] Loss: 4.7337: 100%|██████████| 195/195 [01:42<00:00,  1.90it/s]\n",
            "Feature extracting: 100%|██████████| 196/196 [00:15<00:00, 12.79it/s]\n",
            "Test Epoch: [67/100] Acc@1:74.80% Acc@5:98.67%: 100%|██████████| 40/40 [00:04<00:00,  8.23it/s]\n",
            "  0%|          | 0/195 [00:00<?, ?it/s]"
          ],
          "name": "stderr"
        },
        {
          "output_type": "stream",
          "text": [
            "Best accuracy: 74.8\n"
          ],
          "name": "stdout"
        },
        {
          "output_type": "stream",
          "text": [
            "Train Epoch: [68/100] Loss: 4.7338: 100%|██████████| 195/195 [01:42<00:00,  1.90it/s]\n",
            "Feature extracting: 100%|██████████| 196/196 [00:15<00:00, 12.78it/s]\n",
            "Test Epoch: [68/100] Acc@1:75.06% Acc@5:98.73%: 100%|██████████| 40/40 [00:04<00:00,  8.33it/s]\n",
            "  0%|          | 0/195 [00:00<?, ?it/s]"
          ],
          "name": "stderr"
        },
        {
          "output_type": "stream",
          "text": [
            "Best accuracy: 75.06\n"
          ],
          "name": "stdout"
        },
        {
          "output_type": "stream",
          "text": [
            "Train Epoch: [69/100] Loss: 4.7309: 100%|██████████| 195/195 [01:43<00:00,  1.89it/s]\n",
            "Feature extracting: 100%|██████████| 196/196 [00:15<00:00, 12.80it/s]\n",
            "Test Epoch: [69/100] Acc@1:74.44% Acc@5:98.58%: 100%|██████████| 40/40 [00:04<00:00,  8.43it/s]\n",
            "  0%|          | 0/195 [00:00<?, ?it/s]"
          ],
          "name": "stderr"
        },
        {
          "output_type": "stream",
          "text": [
            "Best accuracy: 75.06\n"
          ],
          "name": "stdout"
        },
        {
          "output_type": "stream",
          "text": [
            "Train Epoch: [70/100] Loss: 4.7305: 100%|██████████| 195/195 [01:42<00:00,  1.90it/s]\n",
            "Feature extracting: 100%|██████████| 196/196 [00:15<00:00, 12.87it/s]\n",
            "Test Epoch: [70/100] Acc@1:75.73% Acc@5:98.75%: 100%|██████████| 40/40 [00:04<00:00,  8.27it/s]\n",
            "  0%|          | 0/195 [00:00<?, ?it/s]"
          ],
          "name": "stderr"
        },
        {
          "output_type": "stream",
          "text": [
            "Best accuracy: 75.73\n"
          ],
          "name": "stdout"
        },
        {
          "output_type": "stream",
          "text": [
            "Train Epoch: [71/100] Loss: 4.7263: 100%|██████████| 195/195 [01:42<00:00,  1.90it/s]\n",
            "Feature extracting: 100%|██████████| 196/196 [00:15<00:00, 12.83it/s]\n",
            "Test Epoch: [71/100] Acc@1:75.05% Acc@5:98.45%: 100%|██████████| 40/40 [00:04<00:00,  8.40it/s]\n",
            "  0%|          | 0/195 [00:00<?, ?it/s]"
          ],
          "name": "stderr"
        },
        {
          "output_type": "stream",
          "text": [
            "Best accuracy: 75.73\n"
          ],
          "name": "stdout"
        },
        {
          "output_type": "stream",
          "text": [
            "Train Epoch: [72/100] Loss: 4.7329: 100%|██████████| 195/195 [01:42<00:00,  1.90it/s]\n",
            "Feature extracting: 100%|██████████| 196/196 [00:15<00:00, 12.84it/s]\n",
            "Test Epoch: [72/100] Acc@1:75.29% Acc@5:98.63%: 100%|██████████| 40/40 [00:04<00:00,  8.60it/s]\n",
            "  0%|          | 0/195 [00:00<?, ?it/s]"
          ],
          "name": "stderr"
        },
        {
          "output_type": "stream",
          "text": [
            "Best accuracy: 75.73\n"
          ],
          "name": "stdout"
        },
        {
          "output_type": "stream",
          "text": [
            "Train Epoch: [73/100] Loss: 4.7294: 100%|██████████| 195/195 [01:42<00:00,  1.90it/s]\n",
            "Feature extracting: 100%|██████████| 196/196 [00:15<00:00, 12.95it/s]\n",
            "Test Epoch: [73/100] Acc@1:75.42% Acc@5:98.74%: 100%|██████████| 40/40 [00:04<00:00,  8.26it/s]\n",
            "  0%|          | 0/195 [00:00<?, ?it/s]"
          ],
          "name": "stderr"
        },
        {
          "output_type": "stream",
          "text": [
            "Best accuracy: 75.73\n"
          ],
          "name": "stdout"
        },
        {
          "output_type": "stream",
          "text": [
            "Train Epoch: [74/100] Loss: 4.7283: 100%|██████████| 195/195 [01:42<00:00,  1.90it/s]\n",
            "Feature extracting: 100%|██████████| 196/196 [00:15<00:00, 12.83it/s]\n",
            "Test Epoch: [74/100] Acc@1:75.83% Acc@5:98.62%: 100%|██████████| 40/40 [00:04<00:00,  8.30it/s]\n",
            "  0%|          | 0/195 [00:00<?, ?it/s]"
          ],
          "name": "stderr"
        },
        {
          "output_type": "stream",
          "text": [
            "Best accuracy: 75.83\n"
          ],
          "name": "stdout"
        },
        {
          "output_type": "stream",
          "text": [
            "Train Epoch: [75/100] Loss: 4.7282: 100%|██████████| 195/195 [01:42<00:00,  1.90it/s]\n",
            "Feature extracting: 100%|██████████| 196/196 [00:15<00:00, 12.94it/s]\n",
            "Test Epoch: [75/100] Acc@1:75.77% Acc@5:98.66%: 100%|██████████| 40/40 [00:04<00:00,  8.58it/s]\n",
            "  0%|          | 0/195 [00:00<?, ?it/s]"
          ],
          "name": "stderr"
        },
        {
          "output_type": "stream",
          "text": [
            "Best accuracy: 75.83\n"
          ],
          "name": "stdout"
        },
        {
          "output_type": "stream",
          "text": [
            "Train Epoch: [76/100] Loss: 4.7288: 100%|██████████| 195/195 [01:42<00:00,  1.90it/s]\n",
            "Feature extracting: 100%|██████████| 196/196 [00:15<00:00, 12.80it/s]\n",
            "Test Epoch: [76/100] Acc@1:75.76% Acc@5:98.68%: 100%|██████████| 40/40 [00:04<00:00,  8.42it/s]\n",
            "  0%|          | 0/195 [00:00<?, ?it/s]"
          ],
          "name": "stderr"
        },
        {
          "output_type": "stream",
          "text": [
            "Best accuracy: 75.83\n"
          ],
          "name": "stdout"
        },
        {
          "output_type": "stream",
          "text": [
            "Train Epoch: [77/100] Loss: 4.7237: 100%|██████████| 195/195 [01:42<00:00,  1.91it/s]\n",
            "Feature extracting: 100%|██████████| 196/196 [00:15<00:00, 12.94it/s]\n",
            "Test Epoch: [77/100] Acc@1:75.86% Acc@5:98.72%: 100%|██████████| 40/40 [00:04<00:00,  8.29it/s]\n",
            "  0%|          | 0/195 [00:00<?, ?it/s]"
          ],
          "name": "stderr"
        },
        {
          "output_type": "stream",
          "text": [
            "Best accuracy: 75.86\n"
          ],
          "name": "stdout"
        },
        {
          "output_type": "stream",
          "text": [
            "Train Epoch: [78/100] Loss: 4.7279: 100%|██████████| 195/195 [01:42<00:00,  1.90it/s]\n",
            "Feature extracting: 100%|██████████| 196/196 [00:15<00:00, 12.94it/s]\n",
            "Test Epoch: [78/100] Acc@1:75.73% Acc@5:98.79%: 100%|██████████| 40/40 [00:04<00:00,  8.43it/s]\n",
            "  0%|          | 0/195 [00:00<?, ?it/s]"
          ],
          "name": "stderr"
        },
        {
          "output_type": "stream",
          "text": [
            "Best accuracy: 75.86\n"
          ],
          "name": "stdout"
        },
        {
          "output_type": "stream",
          "text": [
            "Train Epoch: [79/100] Loss: 4.7213: 100%|██████████| 195/195 [01:42<00:00,  1.91it/s]\n",
            "Feature extracting: 100%|██████████| 196/196 [00:15<00:00, 12.89it/s]\n",
            "Test Epoch: [79/100] Acc@1:75.76% Acc@5:98.68%: 100%|██████████| 40/40 [00:04<00:00,  8.59it/s]\n",
            "  0%|          | 0/195 [00:00<?, ?it/s]"
          ],
          "name": "stderr"
        },
        {
          "output_type": "stream",
          "text": [
            "Best accuracy: 75.86\n"
          ],
          "name": "stdout"
        },
        {
          "output_type": "stream",
          "text": [
            "Train Epoch: [80/100] Loss: 4.7179: 100%|██████████| 195/195 [01:42<00:00,  1.90it/s]\n",
            "Feature extracting: 100%|██████████| 196/196 [00:15<00:00, 12.87it/s]\n",
            "Test Epoch: [80/100] Acc@1:76.09% Acc@5:98.78%: 100%|██████████| 40/40 [00:04<00:00,  8.41it/s]\n",
            "  0%|          | 0/195 [00:00<?, ?it/s]"
          ],
          "name": "stderr"
        },
        {
          "output_type": "stream",
          "text": [
            "Best accuracy: 76.09\n"
          ],
          "name": "stdout"
        },
        {
          "output_type": "stream",
          "text": [
            "Train Epoch: [81/100] Loss: 4.7274: 100%|██████████| 195/195 [01:42<00:00,  1.90it/s]\n",
            "Feature extracting: 100%|██████████| 196/196 [00:15<00:00, 12.98it/s]\n",
            "Test Epoch: [81/100] Acc@1:75.96% Acc@5:98.63%: 100%|██████████| 40/40 [00:04<00:00,  8.36it/s]\n",
            "  0%|          | 0/195 [00:00<?, ?it/s]"
          ],
          "name": "stderr"
        },
        {
          "output_type": "stream",
          "text": [
            "Best accuracy: 76.09\n"
          ],
          "name": "stdout"
        },
        {
          "output_type": "stream",
          "text": [
            "Train Epoch: [82/100] Loss: 4.7187: 100%|██████████| 195/195 [01:42<00:00,  1.91it/s]\n",
            "Feature extracting: 100%|██████████| 196/196 [00:15<00:00, 12.88it/s]\n",
            "Test Epoch: [82/100] Acc@1:76.49% Acc@5:98.79%: 100%|██████████| 40/40 [00:04<00:00,  8.31it/s]\n",
            "  0%|          | 0/195 [00:00<?, ?it/s]"
          ],
          "name": "stderr"
        },
        {
          "output_type": "stream",
          "text": [
            "Best accuracy: 76.49000000000001\n"
          ],
          "name": "stdout"
        },
        {
          "output_type": "stream",
          "text": [
            "Train Epoch: [83/100] Loss: 4.7166: 100%|██████████| 195/195 [01:41<00:00,  1.91it/s]\n",
            "Feature extracting: 100%|██████████| 196/196 [00:15<00:00, 12.83it/s]\n",
            "Test Epoch: [83/100] Acc@1:76.36% Acc@5:98.79%: 100%|██████████| 40/40 [00:04<00:00,  8.32it/s]\n",
            "  0%|          | 0/195 [00:00<?, ?it/s]"
          ],
          "name": "stderr"
        },
        {
          "output_type": "stream",
          "text": [
            "Best accuracy: 76.49000000000001\n"
          ],
          "name": "stdout"
        },
        {
          "output_type": "stream",
          "text": [
            "Train Epoch: [84/100] Loss: 4.7172: 100%|██████████| 195/195 [01:42<00:00,  1.90it/s]\n",
            "Feature extracting: 100%|██████████| 196/196 [00:15<00:00, 12.77it/s]\n",
            "Test Epoch: [84/100] Acc@1:76.57% Acc@5:98.74%: 100%|██████████| 40/40 [00:04<00:00,  8.28it/s]\n",
            "  0%|          | 0/195 [00:00<?, ?it/s]"
          ],
          "name": "stderr"
        },
        {
          "output_type": "stream",
          "text": [
            "Best accuracy: 76.57000000000001\n"
          ],
          "name": "stdout"
        },
        {
          "output_type": "stream",
          "text": [
            "Train Epoch: [85/100] Loss: 4.7138: 100%|██████████| 195/195 [01:42<00:00,  1.91it/s]\n",
            "Feature extracting: 100%|██████████| 196/196 [00:15<00:00, 12.80it/s]\n",
            "Test Epoch: [85/100] Acc@1:75.74% Acc@5:98.62%: 100%|██████████| 40/40 [00:04<00:00,  8.37it/s]\n",
            "  0%|          | 0/195 [00:00<?, ?it/s]"
          ],
          "name": "stderr"
        },
        {
          "output_type": "stream",
          "text": [
            "Best accuracy: 76.57000000000001\n"
          ],
          "name": "stdout"
        },
        {
          "output_type": "stream",
          "text": [
            "Train Epoch: [86/100] Loss: 4.7151: 100%|██████████| 195/195 [01:41<00:00,  1.91it/s]\n",
            "Feature extracting: 100%|██████████| 196/196 [00:15<00:00, 12.84it/s]\n",
            "Test Epoch: [86/100] Acc@1:76.64% Acc@5:98.79%: 100%|██████████| 40/40 [00:04<00:00,  8.13it/s]\n",
            "  0%|          | 0/195 [00:00<?, ?it/s]"
          ],
          "name": "stderr"
        },
        {
          "output_type": "stream",
          "text": [
            "Best accuracy: 76.64\n"
          ],
          "name": "stdout"
        },
        {
          "output_type": "stream",
          "text": [
            "Train Epoch: [87/100] Loss: 4.7167: 100%|██████████| 195/195 [01:42<00:00,  1.90it/s]\n",
            "Feature extracting: 100%|██████████| 196/196 [00:15<00:00, 12.97it/s]\n",
            "Test Epoch: [87/100] Acc@1:75.54% Acc@5:98.62%: 100%|██████████| 40/40 [00:04<00:00,  8.52it/s]\n",
            "  0%|          | 0/195 [00:00<?, ?it/s]"
          ],
          "name": "stderr"
        },
        {
          "output_type": "stream",
          "text": [
            "Best accuracy: 76.64\n"
          ],
          "name": "stdout"
        },
        {
          "output_type": "stream",
          "text": [
            "Train Epoch: [88/100] Loss: 4.7164: 100%|██████████| 195/195 [01:42<00:00,  1.91it/s]\n",
            "Feature extracting: 100%|██████████| 196/196 [00:15<00:00, 12.87it/s]\n",
            "Test Epoch: [88/100] Acc@1:76.93% Acc@5:98.82%: 100%|██████████| 40/40 [00:04<00:00,  8.33it/s]\n",
            "  0%|          | 0/195 [00:00<?, ?it/s]"
          ],
          "name": "stderr"
        },
        {
          "output_type": "stream",
          "text": [
            "Best accuracy: 76.92999999999999\n"
          ],
          "name": "stdout"
        },
        {
          "output_type": "stream",
          "text": [
            "Train Epoch: [89/100] Loss: 4.7118: 100%|██████████| 195/195 [01:42<00:00,  1.90it/s]\n",
            "Feature extracting: 100%|██████████| 196/196 [00:15<00:00, 12.85it/s]\n",
            "Test Epoch: [89/100] Acc@1:76.19% Acc@5:98.78%: 100%|██████████| 40/40 [00:04<00:00,  8.49it/s]\n",
            "  0%|          | 0/195 [00:00<?, ?it/s]"
          ],
          "name": "stderr"
        },
        {
          "output_type": "stream",
          "text": [
            "Best accuracy: 76.92999999999999\n"
          ],
          "name": "stdout"
        },
        {
          "output_type": "stream",
          "text": [
            "Train Epoch: [90/100] Loss: 4.7132: 100%|██████████| 195/195 [01:42<00:00,  1.90it/s]\n",
            "Feature extracting: 100%|██████████| 196/196 [00:15<00:00, 12.73it/s]\n",
            "Test Epoch: [90/100] Acc@1:76.90% Acc@5:98.83%: 100%|██████████| 40/40 [00:04<00:00,  8.67it/s]\n",
            "  0%|          | 0/195 [00:00<?, ?it/s]"
          ],
          "name": "stderr"
        },
        {
          "output_type": "stream",
          "text": [
            "Best accuracy: 76.92999999999999\n"
          ],
          "name": "stdout"
        },
        {
          "output_type": "stream",
          "text": [
            "Train Epoch: [91/100] Loss: 4.7091: 100%|██████████| 195/195 [01:42<00:00,  1.91it/s]\n",
            "Feature extracting: 100%|██████████| 196/196 [00:15<00:00, 12.82it/s]\n",
            "Test Epoch: [91/100] Acc@1:76.85% Acc@5:98.83%: 100%|██████████| 40/40 [00:04<00:00,  8.36it/s]\n",
            "  0%|          | 0/195 [00:00<?, ?it/s]"
          ],
          "name": "stderr"
        },
        {
          "output_type": "stream",
          "text": [
            "Best accuracy: 76.92999999999999\n"
          ],
          "name": "stdout"
        },
        {
          "output_type": "stream",
          "text": [
            "Train Epoch: [92/100] Loss: 4.7125: 100%|██████████| 195/195 [01:42<00:00,  1.91it/s]\n",
            "Feature extracting: 100%|██████████| 196/196 [00:14<00:00, 13.07it/s]\n",
            "Test Epoch: [92/100] Acc@1:76.83% Acc@5:98.72%: 100%|██████████| 40/40 [00:04<00:00,  8.24it/s]\n",
            "  0%|          | 0/195 [00:00<?, ?it/s]"
          ],
          "name": "stderr"
        },
        {
          "output_type": "stream",
          "text": [
            "Best accuracy: 76.92999999999999\n"
          ],
          "name": "stdout"
        },
        {
          "output_type": "stream",
          "text": [
            "Train Epoch: [93/100] Loss: 4.7091: 100%|██████████| 195/195 [01:42<00:00,  1.91it/s]\n",
            "Feature extracting: 100%|██████████| 196/196 [00:15<00:00, 12.89it/s]\n",
            "Test Epoch: [93/100] Acc@1:76.56% Acc@5:98.70%: 100%|██████████| 40/40 [00:04<00:00,  8.26it/s]\n",
            "  0%|          | 0/195 [00:00<?, ?it/s]"
          ],
          "name": "stderr"
        },
        {
          "output_type": "stream",
          "text": [
            "Best accuracy: 76.92999999999999\n"
          ],
          "name": "stdout"
        },
        {
          "output_type": "stream",
          "text": [
            "Train Epoch: [94/100] Loss: 4.7123: 100%|██████████| 195/195 [01:41<00:00,  1.92it/s]\n",
            "Feature extracting: 100%|██████████| 196/196 [00:15<00:00, 12.87it/s]\n",
            "Test Epoch: [94/100] Acc@1:77.62% Acc@5:98.72%: 100%|██████████| 40/40 [00:04<00:00,  8.53it/s]\n",
            "  0%|          | 0/195 [00:00<?, ?it/s]"
          ],
          "name": "stderr"
        },
        {
          "output_type": "stream",
          "text": [
            "Best accuracy: 77.62\n"
          ],
          "name": "stdout"
        },
        {
          "output_type": "stream",
          "text": [
            "Train Epoch: [95/100] Loss: 4.7084: 100%|██████████| 195/195 [01:42<00:00,  1.90it/s]\n",
            "Feature extracting: 100%|██████████| 196/196 [00:15<00:00, 12.87it/s]\n",
            "Test Epoch: [95/100] Acc@1:76.74% Acc@5:98.82%: 100%|██████████| 40/40 [00:04<00:00,  8.44it/s]\n",
            "  0%|          | 0/195 [00:00<?, ?it/s]"
          ],
          "name": "stderr"
        },
        {
          "output_type": "stream",
          "text": [
            "Best accuracy: 77.62\n"
          ],
          "name": "stdout"
        },
        {
          "output_type": "stream",
          "text": [
            "Train Epoch: [96/100] Loss: 4.7086: 100%|██████████| 195/195 [01:42<00:00,  1.91it/s]\n",
            "Feature extracting: 100%|██████████| 196/196 [00:15<00:00, 12.87it/s]\n",
            "Test Epoch: [96/100] Acc@1:77.51% Acc@5:98.85%: 100%|██████████| 40/40 [00:04<00:00,  8.68it/s]\n",
            "  0%|          | 0/195 [00:00<?, ?it/s]"
          ],
          "name": "stderr"
        },
        {
          "output_type": "stream",
          "text": [
            "Best accuracy: 77.62\n"
          ],
          "name": "stdout"
        },
        {
          "output_type": "stream",
          "text": [
            "Train Epoch: [97/100] Loss: 4.7059: 100%|██████████| 195/195 [01:41<00:00,  1.92it/s]\n",
            "Feature extracting: 100%|██████████| 196/196 [00:15<00:00, 12.95it/s]\n",
            "Test Epoch: [97/100] Acc@1:77.29% Acc@5:98.84%: 100%|██████████| 40/40 [00:04<00:00,  8.51it/s]\n",
            "  0%|          | 0/195 [00:00<?, ?it/s]"
          ],
          "name": "stderr"
        },
        {
          "output_type": "stream",
          "text": [
            "Best accuracy: 77.62\n"
          ],
          "name": "stdout"
        },
        {
          "output_type": "stream",
          "text": [
            "Train Epoch: [98/100] Loss: 4.7051: 100%|██████████| 195/195 [01:41<00:00,  1.92it/s]\n",
            "Feature extracting: 100%|██████████| 196/196 [00:15<00:00, 12.81it/s]\n",
            "Test Epoch: [98/100] Acc@1:77.57% Acc@5:98.85%: 100%|██████████| 40/40 [00:04<00:00,  8.66it/s]\n",
            "  0%|          | 0/195 [00:00<?, ?it/s]"
          ],
          "name": "stderr"
        },
        {
          "output_type": "stream",
          "text": [
            "Best accuracy: 77.62\n"
          ],
          "name": "stdout"
        },
        {
          "output_type": "stream",
          "text": [
            "Train Epoch: [99/100] Loss: 4.7067: 100%|██████████| 195/195 [01:42<00:00,  1.91it/s]\n",
            "Feature extracting: 100%|██████████| 196/196 [00:15<00:00, 12.92it/s]\n",
            "Test Epoch: [99/100] Acc@1:77.34% Acc@5:98.82%: 100%|██████████| 40/40 [00:04<00:00,  8.66it/s]\n",
            "  0%|          | 0/195 [00:00<?, ?it/s]"
          ],
          "name": "stderr"
        },
        {
          "output_type": "stream",
          "text": [
            "Best accuracy: 77.62\n"
          ],
          "name": "stdout"
        },
        {
          "output_type": "stream",
          "text": [
            "Train Epoch: [100/100] Loss: 4.7010: 100%|██████████| 195/195 [01:41<00:00,  1.92it/s]\n",
            "Feature extracting: 100%|██████████| 196/196 [00:15<00:00, 12.89it/s]\n",
            "Test Epoch: [100/100] Acc@1:77.96% Acc@5:98.77%: 100%|██████████| 40/40 [00:04<00:00,  8.31it/s]\n",
            "ERROR:root:Internal Python error in the inspect module.\n",
            "Below is the traceback from this internal error.\n",
            "\n"
          ],
          "name": "stderr"
        },
        {
          "output_type": "stream",
          "text": [
            "Traceback (most recent call last):\n",
            "  File \"/usr/local/lib/python3.6/dist-packages/IPython/core/interactiveshell.py\", line 2882, in run_code\n",
            "    exec(code_obj, self.user_global_ns, self.user_ns)\n",
            "  File \"<ipython-input-7-f54acd95d491>\", line 42, in <module>\n",
            "    data_frame.to_csv('results/{}_statistics.csv'.format(save_name_pre), index_label='epoch')\n",
            "  File \"/usr/local/lib/python3.6/dist-packages/pandas/core/generic.py\", line 3170, in to_csv\n",
            "    formatter.save()\n",
            "  File \"/usr/local/lib/python3.6/dist-packages/pandas/io/formats/csvs.py\", line 190, in save\n",
            "    compression=dict(self.compression_args, method=self.compression),\n",
            "  File \"/usr/local/lib/python3.6/dist-packages/pandas/io/common.py\", line 418, in get_handle\n",
            "    from s3fs import S3File\n",
            "  File \"<frozen importlib._bootstrap>\", line 971, in _find_and_load\n",
            "  File \"<frozen importlib._bootstrap>\", line 951, in _find_and_load_unlocked\n",
            "  File \"<frozen importlib._bootstrap>\", line 894, in _find_spec\n",
            "  File \"<frozen importlib._bootstrap_external>\", line 1157, in find_spec\n",
            "  File \"<frozen importlib._bootstrap_external>\", line 1126, in _get_spec\n",
            "  File \"<frozen importlib._bootstrap_external>\", line 1090, in _path_importer_cache\n",
            "OSError: [Errno 107] Transport endpoint is not connected\n",
            "\n",
            "During handling of the above exception, another exception occurred:\n",
            "\n",
            "Traceback (most recent call last):\n",
            "  File \"/usr/local/lib/python3.6/dist-packages/IPython/core/interactiveshell.py\", line 1823, in showtraceback\n",
            "    stb = value._render_traceback_()\n",
            "AttributeError: 'OSError' object has no attribute '_render_traceback_'\n",
            "\n",
            "During handling of the above exception, another exception occurred:\n",
            "\n",
            "Traceback (most recent call last):\n",
            "  File \"/usr/local/lib/python3.6/dist-packages/IPython/core/ultratb.py\", line 1132, in get_records\n",
            "    return _fixed_getinnerframes(etb, number_of_lines_of_context, tb_offset)\n",
            "  File \"/usr/local/lib/python3.6/dist-packages/IPython/core/ultratb.py\", line 313, in wrapped\n",
            "    return f(*args, **kwargs)\n",
            "  File \"/usr/local/lib/python3.6/dist-packages/IPython/core/ultratb.py\", line 358, in _fixed_getinnerframes\n",
            "    records = fix_frame_records_filenames(inspect.getinnerframes(etb, context))\n",
            "  File \"/usr/lib/python3.6/inspect.py\", line 1490, in getinnerframes\n",
            "    frameinfo = (tb.tb_frame,) + getframeinfo(tb, context)\n",
            "  File \"/usr/lib/python3.6/inspect.py\", line 1448, in getframeinfo\n",
            "    filename = getsourcefile(frame) or getfile(frame)\n",
            "  File \"/usr/lib/python3.6/inspect.py\", line 696, in getsourcefile\n",
            "    if getattr(getmodule(object, filename), '__loader__', None) is not None:\n",
            "  File \"/usr/lib/python3.6/inspect.py\", line 725, in getmodule\n",
            "    file = getabsfile(object, _filename)\n",
            "  File \"/usr/lib/python3.6/inspect.py\", line 709, in getabsfile\n",
            "    return os.path.normcase(os.path.abspath(_filename))\n",
            "  File \"/usr/lib/python3.6/posixpath.py\", line 383, in abspath\n",
            "    cwd = os.getcwd()\n",
            "OSError: [Errno 107] Transport endpoint is not connected\n"
          ],
          "name": "stdout"
        },
        {
          "output_type": "error",
          "ename": "OSError",
          "evalue": "ignored",
          "traceback": [
            "\u001b[0;31m---------------------------------------------------------------------------\u001b[0m"
          ]
        }
      ]
    },
    {
      "cell_type": "code",
      "metadata": {
        "id": "2DwbJmSympcD",
        "colab": {
          "base_uri": "https://localhost:8080/",
          "height": 844
        },
        "outputId": "4d3fa3a8-7e37-48ce-a3ca-2209ef10a90e"
      },
      "source": [
        "torch.save(model.state_dict(), 'results/{}_model.pth'.format(save_name_pre))"
      ],
      "execution_count": 8,
      "outputs": [
        {
          "output_type": "stream",
          "text": [
            "ERROR:root:Internal Python error in the inspect module.\n",
            "Below is the traceback from this internal error.\n",
            "\n"
          ],
          "name": "stderr"
        },
        {
          "output_type": "stream",
          "text": [
            "Traceback (most recent call last):\n",
            "  File \"/usr/local/lib/python3.6/dist-packages/IPython/core/interactiveshell.py\", line 2882, in run_code\n",
            "    exec(code_obj, self.user_global_ns, self.user_ns)\n",
            "  File \"<ipython-input-8-7f32fcf06d85>\", line 1, in <module>\n",
            "    torch.save(model.state_dict(), 'results/{}_model.pth'.format(save_name_pre))\n",
            "  File \"/usr/local/lib/python3.6/dist-packages/torch/serialization.py\", line 369, in save\n",
            "    with _open_file_like(f, 'wb') as opened_file:\n",
            "  File \"/usr/local/lib/python3.6/dist-packages/torch/serialization.py\", line 230, in _open_file_like\n",
            "    return _open_file(name_or_buffer, mode)\n",
            "  File \"/usr/local/lib/python3.6/dist-packages/torch/serialization.py\", line 211, in __init__\n",
            "    super(_open_file, self).__init__(open(name, mode))\n",
            "OSError: [Errno 107] Transport endpoint is not connected: 'results/128_0.5_200_256_100_model.pth'\n",
            "\n",
            "During handling of the above exception, another exception occurred:\n",
            "\n",
            "Traceback (most recent call last):\n",
            "  File \"/usr/local/lib/python3.6/dist-packages/IPython/core/interactiveshell.py\", line 1823, in showtraceback\n",
            "    stb = value._render_traceback_()\n",
            "AttributeError: 'OSError' object has no attribute '_render_traceback_'\n",
            "\n",
            "During handling of the above exception, another exception occurred:\n",
            "\n",
            "Traceback (most recent call last):\n",
            "  File \"/usr/local/lib/python3.6/dist-packages/IPython/core/ultratb.py\", line 1132, in get_records\n",
            "    return _fixed_getinnerframes(etb, number_of_lines_of_context, tb_offset)\n",
            "  File \"/usr/local/lib/python3.6/dist-packages/IPython/core/ultratb.py\", line 313, in wrapped\n",
            "    return f(*args, **kwargs)\n",
            "  File \"/usr/local/lib/python3.6/dist-packages/IPython/core/ultratb.py\", line 358, in _fixed_getinnerframes\n",
            "    records = fix_frame_records_filenames(inspect.getinnerframes(etb, context))\n",
            "  File \"/usr/lib/python3.6/inspect.py\", line 1490, in getinnerframes\n",
            "    frameinfo = (tb.tb_frame,) + getframeinfo(tb, context)\n",
            "  File \"/usr/lib/python3.6/inspect.py\", line 1448, in getframeinfo\n",
            "    filename = getsourcefile(frame) or getfile(frame)\n",
            "  File \"/usr/lib/python3.6/inspect.py\", line 696, in getsourcefile\n",
            "    if getattr(getmodule(object, filename), '__loader__', None) is not None:\n",
            "  File \"/usr/lib/python3.6/inspect.py\", line 725, in getmodule\n",
            "    file = getabsfile(object, _filename)\n",
            "  File \"/usr/lib/python3.6/inspect.py\", line 709, in getabsfile\n",
            "    return os.path.normcase(os.path.abspath(_filename))\n",
            "  File \"/usr/lib/python3.6/posixpath.py\", line 383, in abspath\n",
            "    cwd = os.getcwd()\n",
            "OSError: [Errno 107] Transport endpoint is not connected\n"
          ],
          "name": "stdout"
        },
        {
          "output_type": "error",
          "ename": "OSError",
          "evalue": "ignored",
          "traceback": [
            "\u001b[0;31m---------------------------------------------------------------------------\u001b[0m"
          ]
        }
      ]
    },
    {
      "cell_type": "code",
      "metadata": {
        "colab": {
          "base_uri": "https://localhost:8080/",
          "height": 895
        },
        "id": "b8Z5ikJIjqO6",
        "outputId": "37a6571c-1969-4f2a-c9e1-d0a4b07456be"
      },
      "source": [
        "pwd"
      ],
      "execution_count": 9,
      "outputs": [
        {
          "output_type": "stream",
          "text": [
            "ERROR:root:Internal Python error in the inspect module.\n",
            "Below is the traceback from this internal error.\n",
            "\n"
          ],
          "name": "stderr"
        },
        {
          "output_type": "stream",
          "text": [
            "Traceback (most recent call last):\n",
            "  File \"/usr/local/lib/python3.6/dist-packages/IPython/core/interactiveshell.py\", line 2882, in run_code\n",
            "    exec(code_obj, self.user_global_ns, self.user_ns)\n",
            "  File \"<ipython-input-9-f70ce4f56b66>\", line 1, in <module>\n",
            "    get_ipython().magic('pwd ')\n",
            "  File \"/usr/local/lib/python3.6/dist-packages/IPython/core/interactiveshell.py\", line 2160, in magic\n",
            "    return self.run_line_magic(magic_name, magic_arg_s)\n",
            "  File \"/usr/local/lib/python3.6/dist-packages/IPython/core/interactiveshell.py\", line 2081, in run_line_magic\n",
            "    result = fn(*args,**kwargs)\n",
            "  File \"<decorator-gen-90>\", line 2, in pwd\n",
            "  File \"/usr/local/lib/python3.6/dist-packages/IPython/core/magic.py\", line 188, in <lambda>\n",
            "    call = lambda f, *a, **k: f(*a, **k)\n",
            "  File \"/usr/local/lib/python3.6/dist-packages/IPython/core/magics/osm.py\", line 244, in pwd\n",
            "    return py3compat.getcwd()\n",
            "OSError: [Errno 107] Transport endpoint is not connected\n",
            "\n",
            "During handling of the above exception, another exception occurred:\n",
            "\n",
            "Traceback (most recent call last):\n",
            "  File \"/usr/local/lib/python3.6/dist-packages/IPython/core/interactiveshell.py\", line 1823, in showtraceback\n",
            "    stb = value._render_traceback_()\n",
            "AttributeError: 'OSError' object has no attribute '_render_traceback_'\n",
            "\n",
            "During handling of the above exception, another exception occurred:\n",
            "\n",
            "Traceback (most recent call last):\n",
            "  File \"/usr/local/lib/python3.6/dist-packages/IPython/core/ultratb.py\", line 1132, in get_records\n",
            "    return _fixed_getinnerframes(etb, number_of_lines_of_context, tb_offset)\n",
            "  File \"/usr/local/lib/python3.6/dist-packages/IPython/core/ultratb.py\", line 313, in wrapped\n",
            "    return f(*args, **kwargs)\n",
            "  File \"/usr/local/lib/python3.6/dist-packages/IPython/core/ultratb.py\", line 358, in _fixed_getinnerframes\n",
            "    records = fix_frame_records_filenames(inspect.getinnerframes(etb, context))\n",
            "  File \"/usr/lib/python3.6/inspect.py\", line 1490, in getinnerframes\n",
            "    frameinfo = (tb.tb_frame,) + getframeinfo(tb, context)\n",
            "  File \"/usr/lib/python3.6/inspect.py\", line 1448, in getframeinfo\n",
            "    filename = getsourcefile(frame) or getfile(frame)\n",
            "  File \"/usr/lib/python3.6/inspect.py\", line 696, in getsourcefile\n",
            "    if getattr(getmodule(object, filename), '__loader__', None) is not None:\n",
            "  File \"/usr/lib/python3.6/inspect.py\", line 725, in getmodule\n",
            "    file = getabsfile(object, _filename)\n",
            "  File \"/usr/lib/python3.6/inspect.py\", line 709, in getabsfile\n",
            "    return os.path.normcase(os.path.abspath(_filename))\n",
            "  File \"/usr/lib/python3.6/posixpath.py\", line 383, in abspath\n",
            "    cwd = os.getcwd()\n",
            "OSError: [Errno 107] Transport endpoint is not connected\n"
          ],
          "name": "stdout"
        },
        {
          "output_type": "error",
          "ename": "OSError",
          "evalue": "ignored",
          "traceback": [
            "\u001b[0;31m---------------------------------------------------------------------------\u001b[0m"
          ]
        }
      ]
    },
    {
      "cell_type": "code",
      "metadata": {
        "colab": {
          "base_uri": "https://localhost:8080/",
          "height": 912
        },
        "id": "Fg6tq-hrjqph",
        "outputId": "9d1a0edf-7a50-4b0a-99bc-11d820d98bfe"
      },
      "source": [
        "from google.colab import drive\n",
        "drive.mount('/content/gdrive/')\n",
        "\n",
        "import sys\n",
        "%cd /content/gdrive/MyDrive/'Colab Notebooks'/SimCLR"
      ],
      "execution_count": 10,
      "outputs": [
        {
          "output_type": "stream",
          "text": [
            "ERROR:root:Internal Python error in the inspect module.\n",
            "Below is the traceback from this internal error.\n",
            "\n"
          ],
          "name": "stderr"
        },
        {
          "output_type": "stream",
          "text": [
            "Drive already mounted at /content/gdrive/; to attempt to forcibly remount, call drive.mount(\"/content/gdrive/\", force_remount=True).\n",
            "Traceback (most recent call last):\n",
            "  File \"/usr/local/lib/python3.6/dist-packages/IPython/core/interactiveshell.py\", line 2882, in run_code\n",
            "    exec(code_obj, self.user_global_ns, self.user_ns)\n",
            "  File \"<ipython-input-10-d4312092fe4f>\", line 5, in <module>\n",
            "    get_ipython().magic(\"cd /content/gdrive/MyDrive/'Colab Notebooks'/SimCLR\")\n",
            "  File \"/usr/local/lib/python3.6/dist-packages/IPython/core/interactiveshell.py\", line 2160, in magic\n",
            "    return self.run_line_magic(magic_name, magic_arg_s)\n",
            "  File \"/usr/local/lib/python3.6/dist-packages/IPython/core/interactiveshell.py\", line 2081, in run_line_magic\n",
            "    result = fn(*args,**kwargs)\n",
            "  File \"<decorator-gen-91>\", line 2, in cd\n",
            "  File \"/usr/local/lib/python3.6/dist-packages/IPython/core/magic.py\", line 188, in <lambda>\n",
            "    call = lambda f, *a, **k: f(*a, **k)\n",
            "  File \"/usr/local/lib/python3.6/dist-packages/IPython/core/magics/osm.py\", line 288, in cd\n",
            "    oldcwd = py3compat.getcwd()\n",
            "OSError: [Errno 107] Transport endpoint is not connected\n",
            "\n",
            "During handling of the above exception, another exception occurred:\n",
            "\n",
            "Traceback (most recent call last):\n",
            "  File \"/usr/local/lib/python3.6/dist-packages/IPython/core/interactiveshell.py\", line 1823, in showtraceback\n",
            "    stb = value._render_traceback_()\n",
            "AttributeError: 'OSError' object has no attribute '_render_traceback_'\n",
            "\n",
            "During handling of the above exception, another exception occurred:\n",
            "\n",
            "Traceback (most recent call last):\n",
            "  File \"/usr/local/lib/python3.6/dist-packages/IPython/core/ultratb.py\", line 1132, in get_records\n",
            "    return _fixed_getinnerframes(etb, number_of_lines_of_context, tb_offset)\n",
            "  File \"/usr/local/lib/python3.6/dist-packages/IPython/core/ultratb.py\", line 313, in wrapped\n",
            "    return f(*args, **kwargs)\n",
            "  File \"/usr/local/lib/python3.6/dist-packages/IPython/core/ultratb.py\", line 358, in _fixed_getinnerframes\n",
            "    records = fix_frame_records_filenames(inspect.getinnerframes(etb, context))\n",
            "  File \"/usr/lib/python3.6/inspect.py\", line 1490, in getinnerframes\n",
            "    frameinfo = (tb.tb_frame,) + getframeinfo(tb, context)\n",
            "  File \"/usr/lib/python3.6/inspect.py\", line 1448, in getframeinfo\n",
            "    filename = getsourcefile(frame) or getfile(frame)\n",
            "  File \"/usr/lib/python3.6/inspect.py\", line 696, in getsourcefile\n",
            "    if getattr(getmodule(object, filename), '__loader__', None) is not None:\n",
            "  File \"/usr/lib/python3.6/inspect.py\", line 725, in getmodule\n",
            "    file = getabsfile(object, _filename)\n",
            "  File \"/usr/lib/python3.6/inspect.py\", line 709, in getabsfile\n",
            "    return os.path.normcase(os.path.abspath(_filename))\n",
            "  File \"/usr/lib/python3.6/posixpath.py\", line 383, in abspath\n",
            "    cwd = os.getcwd()\n",
            "OSError: [Errno 107] Transport endpoint is not connected\n"
          ],
          "name": "stdout"
        },
        {
          "output_type": "error",
          "ename": "OSError",
          "evalue": "ignored",
          "traceback": [
            "\u001b[0;31m---------------------------------------------------------------------------\u001b[0m"
          ]
        }
      ]
    }
  ]
}