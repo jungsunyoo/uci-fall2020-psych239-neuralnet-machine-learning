{
  "nbformat": 4,
  "nbformat_minor": 0,
  "metadata": {
    "colab": {
      "name": "pattern_SimCLR.ipynb",
      "provenance": [],
      "collapsed_sections": [],
      "machine_shape": "hm",
      "include_colab_link": true
    },
    "kernelspec": {
      "name": "python3",
      "display_name": "Python 3"
    },
    "accelerator": "GPU"
  },
  "cells": [
    {
      "cell_type": "markdown",
      "metadata": {
        "id": "view-in-github",
        "colab_type": "text"
      },
      "source": [
        "<a href=\"https://colab.research.google.com/github/yoojungsun0/Psych239/blob/master/pattern_SimCLR.ipynb\" target=\"_parent\"><img src=\"https://colab.research.google.com/assets/colab-badge.svg\" alt=\"Open In Colab\"/></a>"
      ]
    },
    {
      "cell_type": "code",
      "metadata": {
        "colab": {
          "base_uri": "https://localhost:8080/"
        },
        "id": "A9CzNhIZsnOl",
        "outputId": "10ea9b92-63bb-45ee-bec6-b921b62f6a25"
      },
      "source": [
        "# !git clone https://github.com/yoojungsun0/Psych239.git\n",
        "!pip install thop"
      ],
      "execution_count": 1,
      "outputs": [
        {
          "output_type": "stream",
          "text": [
            "Requirement already satisfied: thop in /usr/local/lib/python3.6/dist-packages (0.0.31.post2005241907)\n",
            "Requirement already satisfied: torch>=1.0.0 in /usr/local/lib/python3.6/dist-packages (from thop) (1.7.0+cu101)\n",
            "Requirement already satisfied: dataclasses in /usr/local/lib/python3.6/dist-packages (from torch>=1.0.0->thop) (0.8)\n",
            "Requirement already satisfied: numpy in /usr/local/lib/python3.6/dist-packages (from torch>=1.0.0->thop) (1.18.5)\n",
            "Requirement already satisfied: future in /usr/local/lib/python3.6/dist-packages (from torch>=1.0.0->thop) (0.16.0)\n",
            "Requirement already satisfied: typing-extensions in /usr/local/lib/python3.6/dist-packages (from torch>=1.0.0->thop) (3.7.4.3)\n"
          ],
          "name": "stdout"
        }
      ]
    },
    {
      "cell_type": "code",
      "metadata": {
        "id": "8ikfzIt5adK8",
        "colab": {
          "base_uri": "https://localhost:8080/"
        },
        "outputId": "d6e69236-b42f-4d94-fe2c-e7f2addfed1b"
      },
      "source": [
        "import argparse\n",
        "import os\n",
        "\n",
        "import pandas as pd\n",
        "import torch\n",
        "import torch.optim as optim\n",
        "from thop import profile, clever_format\n",
        "from torch.utils.data import DataLoader\n",
        "from tqdm import tqdm\n",
        "\n",
        "# import utils\n",
        "\n",
        "\n",
        "from google.colab import drive\n",
        "drive.mount('/content/gdrive/')\n",
        "\n",
        "import sys\n",
        "%cd /content/gdrive/MyDrive/'Colab Notebooks'/SimCLR\n",
        "from model import Model\n",
        "# from model_separation import Model\n",
        "import utils\n",
        "import linear\n",
        "# !ls"
      ],
      "execution_count": 2,
      "outputs": [
        {
          "output_type": "stream",
          "text": [
            "Drive already mounted at /content/gdrive/; to attempt to forcibly remount, call drive.mount(\"/content/gdrive/\", force_remount=True).\n",
            "/content/gdrive/MyDrive/Colab Notebooks/SimCLR\n"
          ],
          "name": "stdout"
        }
      ]
    },
    {
      "cell_type": "code",
      "metadata": {
        "id": "_ReeC9qwvpsL"
      },
      "source": [
        "# train for one epoch to learn unique features\n",
        "def train(net, data_loader, train_optimizer):\n",
        "    net.train()\n",
        "    total_loss, total_num, train_bar = 0.0, 0, tqdm(data_loader)\n",
        "    for pos_1, pos_2, target in train_bar:\n",
        "        pos_1, pos_2 = pos_1.cuda(non_blocking=True), pos_2.cuda(non_blocking=True)\n",
        "        feature_1, out_1 = net(pos_1)\n",
        "        feature_2, out_2 = net(pos_2)\n",
        "        # [2*B, D]\n",
        "        out = torch.cat([out_1, out_2], dim=0)\n",
        "        # [2*B, 2*B]\n",
        "        sim_matrix = torch.exp(torch.mm(out, out.t().contiguous()) / temperature)\n",
        "        mask = (torch.ones_like(sim_matrix) - torch.eye(2 * batch_size, device=sim_matrix.device)).bool()\n",
        "        # [2*B, 2*B-1]\n",
        "        sim_matrix = sim_matrix.masked_select(mask).view(2 * batch_size, -1)\n",
        "\n",
        "        # compute loss\n",
        "        pos_sim = torch.exp(torch.sum(out_1 * out_2, dim=-1) / temperature)\n",
        "        # [2*B]\n",
        "        pos_sim = torch.cat([pos_sim, pos_sim], dim=0)\n",
        "        loss = (- torch.log(pos_sim / sim_matrix.sum(dim=-1))).mean()\n",
        "        train_optimizer.zero_grad()\n",
        "        loss.backward()\n",
        "        train_optimizer.step()\n",
        "\n",
        "        total_num += batch_size\n",
        "        total_loss += loss.item() * batch_size\n",
        "        train_bar.set_description('Train Epoch: [{}/{}] Loss: {:.4f}'.format(epoch, epochs, total_loss / total_num))\n",
        "\n",
        "    return total_loss / total_num\n",
        "\n",
        "def train_model2(net, data_loader, train_optimizer, gamma):\n",
        "    net.train()\n",
        "    total_loss, total_num, train_bar = 0.0, 0, tqdm(data_loader)\n",
        "    for pos_1, pos_2, target in train_bar:\n",
        "        pos_1, pos_2 = pos_1.cuda(non_blocking=True), pos_2.cuda(non_blocking=True)\n",
        "        feature_1, out_1 = net(pos_1)\n",
        "        feature_2, out_2 = net(pos_2)\n",
        "        # [2*B, D]\n",
        "        out = torch.cat([out_1, out_2], dim=0)\n",
        "        # [2*B, 2*B]\n",
        "        sim_matrix = torch.exp(torch.mm(out, out.t().contiguous()) / temperature)\n",
        "        mask = (torch.ones_like(sim_matrix) - torch.eye(2 * batch_size, device=sim_matrix.device)).bool()\n",
        "        # [2*B, 2*B-1]\n",
        "        sim_matrix = sim_matrix.masked_select(mask).view(2 * batch_size, -1)\n",
        "\n",
        "        # compute loss\n",
        "        pos_sim = torch.exp(torch.sum(out_1 * out_2, dim=-1) / temperature)\n",
        "        # [2*B]\n",
        "        pos_sim = torch.cat([pos_sim, pos_sim], dim=0)\n",
        "        loss1 = (- torch.log(pos_sim / sim_matrix.sum(dim=-1))).mean()\n",
        "\n",
        "        # pos_dis = distance between out_1 and out_2\n",
        "        pos_dis = out_1 - out_2\n",
        "        pos_dis = torch.square(pos_dis)\n",
        "        pos_dis = torch.sum(pos_dis)\n",
        "        pos_dis = torch.sqrt(pos_dis)\n",
        "        pos_dis = pos_dis.sum(dim=-1)\n",
        "        loss2 = pos_dis\n",
        "        # loss2 = - torch.log(pos_dis)\n",
        "\n",
        "\n",
        "        loss = loss1 + (loss2 * gamma)\n",
        "\n",
        "\n",
        "\n",
        "        train_optimizer.zero_grad()\n",
        "        loss.backward()\n",
        "        train_optimizer.step()\n",
        "\n",
        "        total_num += batch_size\n",
        "        total_loss += loss.item() * batch_size\n",
        "        train_bar.set_description('Train Epoch: [{}/{}] Loss: {:.4f}'.format(epoch, epochs, total_loss / total_num))\n",
        "\n",
        "    return total_loss / total_num\n",
        "\n",
        "def train_model3(net, data_loader, train_optimizer, gamma):\n",
        "    net.train()\n",
        "    total_loss, total_num, train_bar = 0.0, 0, tqdm(data_loader)\n",
        "    for pos_1, pos_2, target in train_bar:\n",
        "        pos_1, pos_2 = pos_1.cuda(non_blocking=True), pos_2.cuda(non_blocking=True)\n",
        "        feature_11, feature_12, out_11, out_12 = net(pos_1)\n",
        "        feature_21, feature_22, out_21, out_22 = net(pos_2)\n",
        "        # [2*B, D]\n",
        "        out = torch.cat([out_11, out_21], dim=0)\n",
        "        # [2*B, 2*B]\n",
        "        sim_matrix = torch.exp(torch.mm(out, out.t().contiguous()) / temperature)\n",
        "        mask = (torch.ones_like(sim_matrix) - torch.eye(2 * batch_size, device=sim_matrix.device)).bool()\n",
        "        # [2*B, 2*B-1]\n",
        "        sim_matrix = sim_matrix.masked_select(mask).view(2 * batch_size, -1)\n",
        "\n",
        "        # compute loss\n",
        "        pos_sim = torch.exp(torch.sum(out_11 * out_21, dim=-1) / temperature)\n",
        "        # [2*B]\n",
        "        pos_sim = torch.cat([pos_sim, pos_sim], dim=0)\n",
        "        loss1 = (- torch.log(pos_sim / sim_matrix.sum(dim=-1))).mean()\n",
        "\n",
        "        # loss for learning pattern separation\n",
        "        # pos_dis = distance between out_1 and out_2\n",
        "        pos_dis = out_12 - out_22\n",
        "        pos_dis = torch.square(pos_dis)\n",
        "        pos_dis = torch.sum(pos_dis)\n",
        "        pos_dis = torch.sqrt(pos_dis)\n",
        "        pos_dis = pos_dis.sum(dim=-1)\n",
        "        loss2 = pos_dis\n",
        "        # loss2 = - torch.log(pos_dis)\n",
        "\n",
        "\n",
        "        loss = loss1 + (loss2 * gamma)\n",
        "\n",
        "        train_optimizer.zero_grad()\n",
        "        loss.backward()\n",
        "        train_optimizer.step()\n",
        "\n",
        "        total_num += batch_size\n",
        "        total_loss += loss.item() * batch_size\n",
        "        train_bar.set_description('Train Epoch: [{}/{}] Loss: {:.4f}'.format(epoch, epochs, total_loss / total_num))\n",
        "\n",
        "    return total_loss / total_num\n",
        "\n",
        "# test for one epoch, use weighted knn to find the most similar images' label to assign the test image\n",
        "def test_model2(net, memory_data_loader, test_data_loader):\n",
        "    net.eval()\n",
        "    total_top1, total_top5, total_num, feature_bank = 0.0, 0.0, 0, []\n",
        "    with torch.no_grad():\n",
        "        # generate feature bank\n",
        "        for data, _, target in tqdm(memory_data_loader, desc='Feature extracting'):\n",
        "            feature, out = net(data.cuda(non_blocking=True))\n",
        "            feature_bank.append(feature)\n",
        "        # [D, N]\n",
        "        feature_bank = torch.cat(feature_bank, dim=0).t().contiguous()\n",
        "        # [N]\n",
        "        feature_labels = torch.tensor(memory_data_loader.dataset.targets, device=feature_bank.device)\n",
        "        # loop test data to predict the label by weighted knn search\n",
        "        test_bar = tqdm(test_data_loader)\n",
        "        for data, _, target in test_bar:\n",
        "            data, target = data.cuda(non_blocking=True), target.cuda(non_blocking=True)\n",
        "            feature, out = net(data)\n",
        "\n",
        "            total_num += data.size(0)\n",
        "            # compute cos similarity between each feature vector and feature bank ---> [B, N]\n",
        "            sim_matrix = torch.mm(feature, feature_bank) # matrix multiplication\n",
        "            # [B, K]\n",
        "            sim_weight, sim_indices = sim_matrix.topk(k=k, dim=-1)\n",
        "            # [B, K]\n",
        "            sim_labels = torch.gather(feature_labels.expand(data.size(0), -1), dim=-1, index=sim_indices)\n",
        "            sim_weight = (sim_weight / temperature).exp()\n",
        "\n",
        "            # counts for each class\n",
        "            one_hot_label = torch.zeros(data.size(0) * k, c, device=sim_labels.device)\n",
        "            # [B*K, C]\n",
        "            one_hot_label = one_hot_label.scatter(dim=-1, index=sim_labels.view(-1, 1), value=1.0)\n",
        "            # weighted score ---> [B, C]\n",
        "            pred_scores = torch.sum(one_hot_label.view(data.size(0), -1, c) * sim_weight.unsqueeze(dim=-1), dim=1)\n",
        "\n",
        "            pred_labels = pred_scores.argsort(dim=-1, descending=True)\n",
        "            total_top1 += torch.sum((pred_labels[:, :1] == target.unsqueeze(dim=-1)).any(dim=-1).float()).item()\n",
        "            total_top5 += torch.sum((pred_labels[:, :5] == target.unsqueeze(dim=-1)).any(dim=-1).float()).item()\n",
        "            test_bar.set_description('Test Epoch: [{}/{}] Acc@1:{:.2f}% Acc@5:{:.2f}%'\n",
        "                                     .format(epoch, epochs, total_top1 / total_num * 100, total_top5 / total_num * 100))\n",
        "\n",
        "    return total_top1 / total_num * 100, total_top5 / total_num * 100\n",
        "\n",
        "# test for one epoch, use weighted knn to find the most similar images' label to assign the test image\n",
        "def test_model3(net, memory_data_loader, test_data_loader):\n",
        "    net.eval()\n",
        "    total_top1, total_top5, total_num, feature_bank = 0.0, 0.0, 0, []\n",
        "    with torch.no_grad():\n",
        "        # generate feature bank\n",
        "        for data, _, target in tqdm(memory_data_loader, desc='Feature extracting'):\n",
        "            feature, out, _, _ = net(data.cuda(non_blocking=True))\n",
        "            feature_bank.append(feature)\n",
        "        # [D, N]\n",
        "        feature_bank = torch.cat(feature_bank, dim=0).t().contiguous()\n",
        "        # [N]\n",
        "        feature_labels = torch.tensor(memory_data_loader.dataset.targets, device=feature_bank.device)\n",
        "        # loop test data to predict the label by weighted knn search\n",
        "        test_bar = tqdm(test_data_loader)\n",
        "        for data, _, target in test_bar:\n",
        "            data, target = data.cuda(non_blocking=True), target.cuda(non_blocking=True)\n",
        "            feature, out, _, _ = net(data)\n",
        "\n",
        "            total_num += data.size(0)\n",
        "            # compute cos similarity between each feature vector and feature bank ---> [B, N]\n",
        "            sim_matrix = torch.mm(feature, feature_bank) # matrix multiplication\n",
        "            # [B, K]\n",
        "            sim_weight, sim_indices = sim_matrix.topk(k=k, dim=-1)\n",
        "            # [B, K]\n",
        "            sim_labels = torch.gather(feature_labels.expand(data.size(0), -1), dim=-1, index=sim_indices)\n",
        "            sim_weight = (sim_weight / temperature).exp()\n",
        "\n",
        "            # counts for each class\n",
        "            one_hot_label = torch.zeros(data.size(0) * k, c, device=sim_labels.device)\n",
        "            # [B*K, C]\n",
        "            one_hot_label = one_hot_label.scatter(dim=-1, index=sim_labels.view(-1, 1), value=1.0)\n",
        "            # weighted score ---> [B, C]\n",
        "            pred_scores = torch.sum(one_hot_label.view(data.size(0), -1, c) * sim_weight.unsqueeze(dim=-1), dim=1)\n",
        "\n",
        "            pred_labels = pred_scores.argsort(dim=-1, descending=True)\n",
        "            total_top1 += torch.sum((pred_labels[:, :1] == target.unsqueeze(dim=-1)).any(dim=-1).float()).item()\n",
        "            total_top5 += torch.sum((pred_labels[:, :5] == target.unsqueeze(dim=-1)).any(dim=-1).float()).item()\n",
        "            test_bar.set_description('Test Epoch: [{}/{}] Acc@1:{:.2f}% Acc@5:{:.2f}%'\n",
        "                                     .format(epoch, epochs, total_top1 / total_num * 100, total_top5 / total_num * 100))\n",
        "\n",
        "    return total_top1 / total_num * 100, total_top5 / total_num * 100\n"
      ],
      "execution_count": 3,
      "outputs": []
    },
    {
      "cell_type": "code",
      "metadata": {
        "id": "fV1cWOGov3uo"
      },
      "source": [
        "# parameters \n",
        "\n",
        "feature_dim = 128\n",
        "temperature = 0.5\n",
        "k = 200\n",
        "# batch_size = 512\n",
        "# epochs = 500\n",
        "batch_size = 256\n",
        "epochs = 100\n",
        "\n",
        "# yjs added\n",
        "gamma = 0.01 #0.2"
      ],
      "execution_count": 4,
      "outputs": []
    },
    {
      "cell_type": "code",
      "metadata": {
        "colab": {
          "base_uri": "https://localhost:8080/"
        },
        "id": "0ocZCFibw5Zd",
        "outputId": "e2931c4e-84e4-4305-93e6-4dd4384b4c91"
      },
      "source": [
        "# data prepare\n",
        "train_data = utils.CIFAR10Pair(root='data', train=True, transform=utils.train_transform, download=True)\n",
        "train_loader = DataLoader(train_data, batch_size=batch_size, shuffle=True, num_workers=16, pin_memory=True,\n",
        "                          drop_last=True)\n",
        "memory_data = utils.CIFAR10Pair(root='data', train=True, transform=utils.test_transform, download=True)\n",
        "memory_loader = DataLoader(memory_data, batch_size=batch_size, shuffle=False, num_workers=16, pin_memory=True)\n",
        "test_data = utils.CIFAR10Pair(root='data', train=False, transform=utils.test_transform, download=True)\n",
        "test_loader = DataLoader(test_data, batch_size=batch_size, shuffle=False, num_workers=16, pin_memory=True)\n",
        "\n",
        "# model setup and optimizer config\n",
        "# model = Model(feature_dim).cuda()\n",
        "model = Model(feature_dim).cuda()\n",
        "flops, params = profile(model, inputs=(torch.randn(1, 3, 32, 32).cuda(),))\n",
        "flops, params = clever_format([flops, params])\n",
        "print('# Model Params: {} FLOPs: {}'.format(params, flops))\n",
        "optimizer = optim.Adam(model.parameters(), lr=1e-3, weight_decay=1e-6)\n",
        "c = len(memory_data.classes)\n",
        "\n",
        "# training loop\n",
        "results = {'train_loss': [], 'test_acc@1': [], 'test_acc@5': []}\n",
        "save_name_pre = '{}_{}_{}_{}_{}'.format(feature_dim, temperature, k, batch_size, epochs)\n",
        "if not os.path.exists('results'):\n",
        "    os.mkdir('results')\n",
        "best_acc = 0.0\n",
        "for epoch in range(1, epochs + 1):\n",
        "    # train_loss = train(model, train_loader, optimizer)\n",
        "    train_loss = train_model2(model, train_loader, optimizer, gamma)\n",
        "    # train_loss = train_model3(model, train_loader, optimizer, gamma)\n",
        "    results['train_loss'].append(train_loss)\n",
        "    test_acc_1, test_acc_5 = test_model2(model, memory_loader, test_loader)\n",
        "    # test_acc_1, test_acc_5 = test_model2(model, memory_loader, test_loader)\n",
        "    # test_acc_1, test_acc_5 = test_model3(model, memory_loader, test_loader)\n",
        "    results['test_acc@1'].append(test_acc_1)\n",
        "    results['test_acc@5'].append(test_acc_5)\n",
        "    # save statistics\n",
        "    data_frame = pd.DataFrame(data=results, index=range(1, epoch + 1))\n",
        "    data_frame.to_csv('results/{}_statistics.csv'.format(save_name_pre), index_label='epoch')\n",
        "    \n",
        "    if test_acc_1 > best_acc:\n",
        "        best_acc = test_acc_1\n",
        "        torch.save(model.state_dict(), 'results/{}_model.pth'.format(save_name_pre))\n",
        "\n",
        "    print('Best accuracy: {}'.format(best_acc))    \n",
        "        \n",
        "# while True:\n",
        "#   pass"
      ],
      "execution_count": 5,
      "outputs": [
        {
          "output_type": "stream",
          "text": [
            "Files already downloaded and verified\n",
            "Files already downloaded and verified\n",
            "Files already downloaded and verified\n"
          ],
          "name": "stdout"
        },
        {
          "output_type": "stream",
          "text": [
            "\r  0%|          | 0/195 [00:00<?, ?it/s]"
          ],
          "name": "stderr"
        },
        {
          "output_type": "stream",
          "text": [
            "[INFO] Register count_convNd() for <class 'torch.nn.modules.conv.Conv2d'>.\n",
            "[INFO] Register count_bn() for <class 'torch.nn.modules.batchnorm.BatchNorm2d'>.\n",
            "[INFO] Register zero_ops() for <class 'torch.nn.modules.activation.ReLU'>.\n",
            "\u001b[91m[WARN] Cannot find rule for <class 'torch.nn.modules.container.Sequential'>. Treat it as zero Macs and zero Params.\u001b[00m\n",
            "\u001b[91m[WARN] Cannot find rule for <class 'torchvision.models.resnet.Bottleneck'>. Treat it as zero Macs and zero Params.\u001b[00m\n",
            "[INFO] Register count_adap_avgpool() for <class 'torch.nn.modules.pooling.AdaptiveAvgPool2d'>.\n",
            "[INFO] Register count_linear() for <class 'torch.nn.modules.linear.Linear'>.\n",
            "[INFO] Register count_bn() for <class 'torch.nn.modules.batchnorm.BatchNorm1d'>.\n",
            "\u001b[91m[WARN] Cannot find rule for <class 'model.Model'>. Treat it as zero Macs and zero Params.\u001b[00m\n",
            "# Model Params: 24.62M FLOPs: 1.31G\n"
          ],
          "name": "stdout"
        },
        {
          "output_type": "stream",
          "text": [
            "Train Epoch: [1/100] Loss: 5.8137: 100%|██████████| 195/195 [02:49<00:00,  1.15it/s]\n",
            "Feature extracting: 100%|██████████| 196/196 [00:27<00:00,  7.22it/s]\n",
            "Test Epoch: [1/100] Acc@1:37.30% Acc@5:87.33%: 100%|██████████| 40/40 [00:07<00:00,  5.62it/s]\n",
            "  0%|          | 0/195 [00:00<?, ?it/s]"
          ],
          "name": "stderr"
        },
        {
          "output_type": "stream",
          "text": [
            "Best accuracy: 37.3\n"
          ],
          "name": "stdout"
        },
        {
          "output_type": "stream",
          "text": [
            "Train Epoch: [2/100] Loss: 5.4723: 100%|██████████| 195/195 [02:49<00:00,  1.15it/s]\n",
            "Feature extracting: 100%|██████████| 196/196 [00:27<00:00,  7.21it/s]\n",
            "Test Epoch: [2/100] Acc@1:41.48% Acc@5:89.95%: 100%|██████████| 40/40 [00:06<00:00,  5.82it/s]\n",
            "  0%|          | 0/195 [00:00<?, ?it/s]"
          ],
          "name": "stderr"
        },
        {
          "output_type": "stream",
          "text": [
            "Best accuracy: 41.48\n"
          ],
          "name": "stdout"
        },
        {
          "output_type": "stream",
          "text": [
            "Train Epoch: [3/100] Loss: 5.3368: 100%|██████████| 195/195 [02:49<00:00,  1.15it/s]\n",
            "Feature extracting: 100%|██████████| 196/196 [00:27<00:00,  7.17it/s]\n",
            "Test Epoch: [3/100] Acc@1:43.93% Acc@5:91.29%: 100%|██████████| 40/40 [00:07<00:00,  5.66it/s]\n",
            "  0%|          | 0/195 [00:00<?, ?it/s]"
          ],
          "name": "stderr"
        },
        {
          "output_type": "stream",
          "text": [
            "Best accuracy: 43.93\n"
          ],
          "name": "stdout"
        },
        {
          "output_type": "stream",
          "text": [
            "Train Epoch: [4/100] Loss: 5.2491: 100%|██████████| 195/195 [02:49<00:00,  1.15it/s]\n",
            "Feature extracting: 100%|██████████| 196/196 [00:27<00:00,  7.23it/s]\n",
            "Test Epoch: [4/100] Acc@1:47.36% Acc@5:92.41%: 100%|██████████| 40/40 [00:06<00:00,  5.80it/s]\n",
            "  0%|          | 0/195 [00:00<?, ?it/s]"
          ],
          "name": "stderr"
        },
        {
          "output_type": "stream",
          "text": [
            "Best accuracy: 47.36\n"
          ],
          "name": "stdout"
        },
        {
          "output_type": "stream",
          "text": [
            "Train Epoch: [5/100] Loss: 5.1851: 100%|██████████| 195/195 [02:49<00:00,  1.15it/s]\n",
            "Feature extracting: 100%|██████████| 196/196 [00:27<00:00,  7.22it/s]\n",
            "Test Epoch: [5/100] Acc@1:49.44% Acc@5:93.69%: 100%|██████████| 40/40 [00:07<00:00,  5.71it/s]\n",
            "  0%|          | 0/195 [00:00<?, ?it/s]"
          ],
          "name": "stderr"
        },
        {
          "output_type": "stream",
          "text": [
            "Best accuracy: 49.44\n"
          ],
          "name": "stdout"
        },
        {
          "output_type": "stream",
          "text": [
            "Train Epoch: [6/100] Loss: 5.1505: 100%|██████████| 195/195 [02:49<00:00,  1.15it/s]\n",
            "Feature extracting: 100%|██████████| 196/196 [00:27<00:00,  7.21it/s]\n",
            "Test Epoch: [6/100] Acc@1:52.20% Acc@5:94.79%: 100%|██████████| 40/40 [00:07<00:00,  5.66it/s]\n",
            "  0%|          | 0/195 [00:00<?, ?it/s]"
          ],
          "name": "stderr"
        },
        {
          "output_type": "stream",
          "text": [
            "Best accuracy: 52.2\n"
          ],
          "name": "stdout"
        },
        {
          "output_type": "stream",
          "text": [
            "Train Epoch: [7/100] Loss: 5.1184: 100%|██████████| 195/195 [02:49<00:00,  1.15it/s]\n",
            "Feature extracting: 100%|██████████| 196/196 [00:27<00:00,  7.25it/s]\n",
            "Test Epoch: [7/100] Acc@1:54.81% Acc@5:95.72%: 100%|██████████| 40/40 [00:06<00:00,  5.77it/s]\n",
            "  0%|          | 0/195 [00:00<?, ?it/s]"
          ],
          "name": "stderr"
        },
        {
          "output_type": "stream",
          "text": [
            "Best accuracy: 54.81\n"
          ],
          "name": "stdout"
        },
        {
          "output_type": "stream",
          "text": [
            "Train Epoch: [8/100] Loss: 5.0889: 100%|██████████| 195/195 [02:49<00:00,  1.15it/s]\n",
            "Feature extracting: 100%|██████████| 196/196 [00:27<00:00,  7.22it/s]\n",
            "Test Epoch: [8/100] Acc@1:55.58% Acc@5:95.60%: 100%|██████████| 40/40 [00:06<00:00,  5.73it/s]\n",
            "  0%|          | 0/195 [00:00<?, ?it/s]"
          ],
          "name": "stderr"
        },
        {
          "output_type": "stream",
          "text": [
            "Best accuracy: 55.58\n"
          ],
          "name": "stdout"
        },
        {
          "output_type": "stream",
          "text": [
            "Train Epoch: [9/100] Loss: 5.0672: 100%|██████████| 195/195 [02:49<00:00,  1.15it/s]\n",
            "Feature extracting: 100%|██████████| 196/196 [00:27<00:00,  7.26it/s]\n",
            "Test Epoch: [9/100] Acc@1:57.88% Acc@5:96.02%: 100%|██████████| 40/40 [00:06<00:00,  5.91it/s]\n",
            "  0%|          | 0/195 [00:00<?, ?it/s]"
          ],
          "name": "stderr"
        },
        {
          "output_type": "stream",
          "text": [
            "Best accuracy: 57.879999999999995\n"
          ],
          "name": "stdout"
        },
        {
          "output_type": "stream",
          "text": [
            "Train Epoch: [10/100] Loss: 5.0462: 100%|██████████| 195/195 [02:49<00:00,  1.15it/s]\n",
            "Feature extracting: 100%|██████████| 196/196 [00:27<00:00,  7.25it/s]\n",
            "Test Epoch: [10/100] Acc@1:58.57% Acc@5:96.44%: 100%|██████████| 40/40 [00:07<00:00,  5.71it/s]\n",
            "  0%|          | 0/195 [00:00<?, ?it/s]"
          ],
          "name": "stderr"
        },
        {
          "output_type": "stream",
          "text": [
            "Best accuracy: 58.57\n"
          ],
          "name": "stdout"
        },
        {
          "output_type": "stream",
          "text": [
            "Train Epoch: [11/100] Loss: 5.0309: 100%|██████████| 195/195 [02:49<00:00,  1.15it/s]\n",
            "Feature extracting: 100%|██████████| 196/196 [00:27<00:00,  7.24it/s]\n",
            "Test Epoch: [11/100] Acc@1:59.96% Acc@5:96.39%: 100%|██████████| 40/40 [00:07<00:00,  5.69it/s]\n",
            "  0%|          | 0/195 [00:00<?, ?it/s]"
          ],
          "name": "stderr"
        },
        {
          "output_type": "stream",
          "text": [
            "Best accuracy: 59.96\n"
          ],
          "name": "stdout"
        },
        {
          "output_type": "stream",
          "text": [
            "Train Epoch: [12/100] Loss: 5.0150: 100%|██████████| 195/195 [02:49<00:00,  1.15it/s]\n",
            "Feature extracting: 100%|██████████| 196/196 [00:26<00:00,  7.27it/s]\n",
            "Test Epoch: [12/100] Acc@1:60.94% Acc@5:96.85%: 100%|██████████| 40/40 [00:06<00:00,  5.73it/s]\n",
            "  0%|          | 0/195 [00:00<?, ?it/s]"
          ],
          "name": "stderr"
        },
        {
          "output_type": "stream",
          "text": [
            "Best accuracy: 60.940000000000005\n"
          ],
          "name": "stdout"
        },
        {
          "output_type": "stream",
          "text": [
            "Train Epoch: [13/100] Loss: 5.0106: 100%|██████████| 195/195 [02:49<00:00,  1.15it/s]\n",
            "Feature extracting: 100%|██████████| 196/196 [00:27<00:00,  7.24it/s]\n",
            "Test Epoch: [13/100] Acc@1:61.60% Acc@5:96.93%: 100%|██████████| 40/40 [00:06<00:00,  5.73it/s]\n",
            "  0%|          | 0/195 [00:00<?, ?it/s]"
          ],
          "name": "stderr"
        },
        {
          "output_type": "stream",
          "text": [
            "Best accuracy: 61.6\n"
          ],
          "name": "stdout"
        },
        {
          "output_type": "stream",
          "text": [
            "Train Epoch: [14/100] Loss: 4.9954: 100%|██████████| 195/195 [02:49<00:00,  1.15it/s]\n",
            "Feature extracting: 100%|██████████| 196/196 [00:27<00:00,  7.19it/s]\n",
            "Test Epoch: [14/100] Acc@1:63.20% Acc@5:97.12%: 100%|██████████| 40/40 [00:06<00:00,  5.84it/s]\n",
            "  0%|          | 0/195 [00:00<?, ?it/s]"
          ],
          "name": "stderr"
        },
        {
          "output_type": "stream",
          "text": [
            "Best accuracy: 63.2\n"
          ],
          "name": "stdout"
        },
        {
          "output_type": "stream",
          "text": [
            "Train Epoch: [15/100] Loss: 4.9822: 100%|██████████| 195/195 [02:49<00:00,  1.15it/s]\n",
            "Feature extracting: 100%|██████████| 196/196 [00:27<00:00,  7.24it/s]\n",
            "Test Epoch: [15/100] Acc@1:63.01% Acc@5:97.20%: 100%|██████████| 40/40 [00:06<00:00,  5.81it/s]\n",
            "  0%|          | 0/195 [00:00<?, ?it/s]"
          ],
          "name": "stderr"
        },
        {
          "output_type": "stream",
          "text": [
            "Best accuracy: 63.2\n"
          ],
          "name": "stdout"
        },
        {
          "output_type": "stream",
          "text": [
            "Train Epoch: [16/100] Loss: 4.9746: 100%|██████████| 195/195 [02:48<00:00,  1.15it/s]\n",
            "Feature extracting: 100%|██████████| 196/196 [00:27<00:00,  7.25it/s]\n",
            "Test Epoch: [16/100] Acc@1:63.44% Acc@5:97.19%: 100%|██████████| 40/40 [00:06<00:00,  5.73it/s]\n",
            "  0%|          | 0/195 [00:00<?, ?it/s]"
          ],
          "name": "stderr"
        },
        {
          "output_type": "stream",
          "text": [
            "Best accuracy: 63.44\n"
          ],
          "name": "stdout"
        },
        {
          "output_type": "stream",
          "text": [
            "Train Epoch: [17/100] Loss: 4.9704: 100%|██████████| 195/195 [02:49<00:00,  1.15it/s]\n",
            "Feature extracting: 100%|██████████| 196/196 [00:27<00:00,  7.25it/s]\n",
            "Test Epoch: [17/100] Acc@1:64.59% Acc@5:97.26%: 100%|██████████| 40/40 [00:06<00:00,  5.74it/s]\n",
            "  0%|          | 0/195 [00:00<?, ?it/s]"
          ],
          "name": "stderr"
        },
        {
          "output_type": "stream",
          "text": [
            "Best accuracy: 64.59\n"
          ],
          "name": "stdout"
        },
        {
          "output_type": "stream",
          "text": [
            "Train Epoch: [18/100] Loss: 4.9605: 100%|██████████| 195/195 [02:49<00:00,  1.15it/s]\n",
            "Feature extracting: 100%|██████████| 196/196 [00:27<00:00,  7.26it/s]\n",
            "Test Epoch: [18/100] Acc@1:65.29% Acc@5:97.45%: 100%|██████████| 40/40 [00:06<00:00,  5.81it/s]\n",
            "  0%|          | 0/195 [00:00<?, ?it/s]"
          ],
          "name": "stderr"
        },
        {
          "output_type": "stream",
          "text": [
            "Best accuracy: 65.29\n"
          ],
          "name": "stdout"
        },
        {
          "output_type": "stream",
          "text": [
            "Train Epoch: [19/100] Loss: 4.9542: 100%|██████████| 195/195 [02:49<00:00,  1.15it/s]\n",
            "Feature extracting: 100%|██████████| 196/196 [00:27<00:00,  7.25it/s]\n",
            "Test Epoch: [19/100] Acc@1:65.42% Acc@5:97.54%: 100%|██████████| 40/40 [00:06<00:00,  5.93it/s]\n",
            "  0%|          | 0/195 [00:00<?, ?it/s]"
          ],
          "name": "stderr"
        },
        {
          "output_type": "stream",
          "text": [
            "Best accuracy: 65.42\n"
          ],
          "name": "stdout"
        },
        {
          "output_type": "stream",
          "text": [
            "Train Epoch: [20/100] Loss: 4.9489: 100%|██████████| 195/195 [02:49<00:00,  1.15it/s]\n",
            "Feature extracting: 100%|██████████| 196/196 [00:27<00:00,  7.17it/s]\n",
            "Test Epoch: [20/100] Acc@1:66.59% Acc@5:97.71%: 100%|██████████| 40/40 [00:07<00:00,  5.66it/s]\n",
            "  0%|          | 0/195 [00:00<?, ?it/s]"
          ],
          "name": "stderr"
        },
        {
          "output_type": "stream",
          "text": [
            "Best accuracy: 66.59\n"
          ],
          "name": "stdout"
        },
        {
          "output_type": "stream",
          "text": [
            "Train Epoch: [21/100] Loss: 4.9425: 100%|██████████| 195/195 [02:49<00:00,  1.15it/s]\n",
            "Feature extracting: 100%|██████████| 196/196 [00:27<00:00,  7.22it/s]\n",
            "Test Epoch: [21/100] Acc@1:65.73% Acc@5:97.46%: 100%|██████████| 40/40 [00:06<00:00,  5.81it/s]\n",
            "  0%|          | 0/195 [00:00<?, ?it/s]"
          ],
          "name": "stderr"
        },
        {
          "output_type": "stream",
          "text": [
            "Best accuracy: 66.59\n"
          ],
          "name": "stdout"
        },
        {
          "output_type": "stream",
          "text": [
            "Train Epoch: [22/100] Loss: 4.9353: 100%|██████████| 195/195 [02:49<00:00,  1.15it/s]\n",
            "Feature extracting: 100%|██████████| 196/196 [00:27<00:00,  7.22it/s]\n",
            "Test Epoch: [22/100] Acc@1:67.07% Acc@5:97.80%: 100%|██████████| 40/40 [00:06<00:00,  5.77it/s]\n",
            "  0%|          | 0/195 [00:00<?, ?it/s]"
          ],
          "name": "stderr"
        },
        {
          "output_type": "stream",
          "text": [
            "Best accuracy: 67.07\n"
          ],
          "name": "stdout"
        },
        {
          "output_type": "stream",
          "text": [
            "Train Epoch: [23/100] Loss: 4.9315: 100%|██████████| 195/195 [02:49<00:00,  1.15it/s]\n",
            "Feature extracting: 100%|██████████| 196/196 [00:26<00:00,  7.27it/s]\n",
            "Test Epoch: [23/100] Acc@1:66.61% Acc@5:97.58%: 100%|██████████| 40/40 [00:06<00:00,  5.77it/s]\n",
            "  0%|          | 0/195 [00:00<?, ?it/s]"
          ],
          "name": "stderr"
        },
        {
          "output_type": "stream",
          "text": [
            "Best accuracy: 67.07\n"
          ],
          "name": "stdout"
        },
        {
          "output_type": "stream",
          "text": [
            "Train Epoch: [24/100] Loss: 4.9281: 100%|██████████| 195/195 [02:49<00:00,  1.15it/s]\n",
            "Feature extracting: 100%|██████████| 196/196 [00:26<00:00,  7.26it/s]\n",
            "Test Epoch: [24/100] Acc@1:67.26% Acc@5:97.62%: 100%|██████████| 40/40 [00:07<00:00,  5.68it/s]\n",
            "  0%|          | 0/195 [00:00<?, ?it/s]"
          ],
          "name": "stderr"
        },
        {
          "output_type": "stream",
          "text": [
            "Best accuracy: 67.25999999999999\n"
          ],
          "name": "stdout"
        },
        {
          "output_type": "stream",
          "text": [
            "Train Epoch: [25/100] Loss: 4.9248: 100%|██████████| 195/195 [02:49<00:00,  1.15it/s]\n",
            "Feature extracting: 100%|██████████| 196/196 [00:27<00:00,  7.22it/s]\n",
            "Test Epoch: [25/100] Acc@1:67.59% Acc@5:97.92%: 100%|██████████| 40/40 [00:07<00:00,  5.70it/s]\n",
            "  0%|          | 0/195 [00:00<?, ?it/s]"
          ],
          "name": "stderr"
        },
        {
          "output_type": "stream",
          "text": [
            "Best accuracy: 67.58999999999999\n"
          ],
          "name": "stdout"
        },
        {
          "output_type": "stream",
          "text": [
            "Train Epoch: [26/100] Loss: 4.9226: 100%|██████████| 195/195 [02:49<00:00,  1.15it/s]\n",
            "Feature extracting: 100%|██████████| 196/196 [00:27<00:00,  7.23it/s]\n",
            "Test Epoch: [26/100] Acc@1:67.49% Acc@5:97.90%: 100%|██████████| 40/40 [00:06<00:00,  5.91it/s]\n",
            "  0%|          | 0/195 [00:00<?, ?it/s]"
          ],
          "name": "stderr"
        },
        {
          "output_type": "stream",
          "text": [
            "Best accuracy: 67.58999999999999\n"
          ],
          "name": "stdout"
        },
        {
          "output_type": "stream",
          "text": [
            "Train Epoch: [27/100] Loss: 4.9145: 100%|██████████| 195/195 [02:48<00:00,  1.15it/s]\n",
            "Feature extracting: 100%|██████████| 196/196 [00:27<00:00,  7.25it/s]\n",
            "Test Epoch: [27/100] Acc@1:67.83% Acc@5:97.83%: 100%|██████████| 40/40 [00:07<00:00,  5.50it/s]\n",
            "  0%|          | 0/195 [00:00<?, ?it/s]"
          ],
          "name": "stderr"
        },
        {
          "output_type": "stream",
          "text": [
            "Best accuracy: 67.83\n"
          ],
          "name": "stdout"
        },
        {
          "output_type": "stream",
          "text": [
            "Train Epoch: [28/100] Loss: 4.9083: 100%|██████████| 195/195 [02:49<00:00,  1.15it/s]\n",
            "Feature extracting: 100%|██████████| 196/196 [00:27<00:00,  7.18it/s]\n",
            "Test Epoch: [28/100] Acc@1:68.23% Acc@5:97.94%: 100%|██████████| 40/40 [00:06<00:00,  5.86it/s]\n",
            "  0%|          | 0/195 [00:00<?, ?it/s]"
          ],
          "name": "stderr"
        },
        {
          "output_type": "stream",
          "text": [
            "Best accuracy: 68.23\n"
          ],
          "name": "stdout"
        },
        {
          "output_type": "stream",
          "text": [
            "Train Epoch: [29/100] Loss: 4.9064: 100%|██████████| 195/195 [02:49<00:00,  1.15it/s]\n",
            "Feature extracting: 100%|██████████| 196/196 [00:27<00:00,  7.22it/s]\n",
            "Test Epoch: [29/100] Acc@1:69.24% Acc@5:98.00%: 100%|██████████| 40/40 [00:06<00:00,  5.75it/s]\n",
            "  0%|          | 0/195 [00:00<?, ?it/s]"
          ],
          "name": "stderr"
        },
        {
          "output_type": "stream",
          "text": [
            "Best accuracy: 69.24\n"
          ],
          "name": "stdout"
        },
        {
          "output_type": "stream",
          "text": [
            "Train Epoch: [30/100] Loss: 4.9027: 100%|██████████| 195/195 [02:49<00:00,  1.15it/s]\n",
            "Feature extracting: 100%|██████████| 196/196 [00:27<00:00,  7.19it/s]\n",
            "Test Epoch: [30/100] Acc@1:69.52% Acc@5:97.93%: 100%|██████████| 40/40 [00:06<00:00,  5.84it/s]\n",
            "  0%|          | 0/195 [00:00<?, ?it/s]"
          ],
          "name": "stderr"
        },
        {
          "output_type": "stream",
          "text": [
            "Best accuracy: 69.52000000000001\n"
          ],
          "name": "stdout"
        },
        {
          "output_type": "stream",
          "text": [
            "Train Epoch: [31/100] Loss: 4.9016: 100%|██████████| 195/195 [02:49<00:00,  1.15it/s]\n",
            "Feature extracting: 100%|██████████| 196/196 [00:27<00:00,  7.17it/s]\n",
            "Test Epoch: [31/100] Acc@1:69.35% Acc@5:98.11%: 100%|██████████| 40/40 [00:07<00:00,  5.70it/s]\n",
            "  0%|          | 0/195 [00:00<?, ?it/s]"
          ],
          "name": "stderr"
        },
        {
          "output_type": "stream",
          "text": [
            "Best accuracy: 69.52000000000001\n"
          ],
          "name": "stdout"
        },
        {
          "output_type": "stream",
          "text": [
            "Train Epoch: [32/100] Loss: 4.8988: 100%|██████████| 195/195 [02:50<00:00,  1.15it/s]\n",
            "Feature extracting: 100%|██████████| 196/196 [00:27<00:00,  7.18it/s]\n",
            "Test Epoch: [32/100] Acc@1:69.52% Acc@5:98.01%: 100%|██████████| 40/40 [00:07<00:00,  5.64it/s]\n",
            "  0%|          | 0/195 [00:00<?, ?it/s]"
          ],
          "name": "stderr"
        },
        {
          "output_type": "stream",
          "text": [
            "Best accuracy: 69.52000000000001\n"
          ],
          "name": "stdout"
        },
        {
          "output_type": "stream",
          "text": [
            "Train Epoch: [33/100] Loss: 4.8931: 100%|██████████| 195/195 [02:49<00:00,  1.15it/s]\n",
            "Feature extracting: 100%|██████████| 196/196 [00:27<00:00,  7.16it/s]\n",
            "Test Epoch: [33/100] Acc@1:70.48% Acc@5:98.07%: 100%|██████████| 40/40 [00:07<00:00,  5.53it/s]\n",
            "  0%|          | 0/195 [00:00<?, ?it/s]"
          ],
          "name": "stderr"
        },
        {
          "output_type": "stream",
          "text": [
            "Best accuracy: 70.48\n"
          ],
          "name": "stdout"
        },
        {
          "output_type": "stream",
          "text": [
            "Train Epoch: [34/100] Loss: 4.8903: 100%|██████████| 195/195 [02:50<00:00,  1.15it/s]\n",
            "Feature extracting: 100%|██████████| 196/196 [00:27<00:00,  7.22it/s]\n",
            "Test Epoch: [34/100] Acc@1:70.10% Acc@5:98.14%: 100%|██████████| 40/40 [00:07<00:00,  5.57it/s]\n",
            "  0%|          | 0/195 [00:00<?, ?it/s]"
          ],
          "name": "stderr"
        },
        {
          "output_type": "stream",
          "text": [
            "Best accuracy: 70.48\n"
          ],
          "name": "stdout"
        },
        {
          "output_type": "stream",
          "text": [
            "Train Epoch: [35/100] Loss: 4.8880: 100%|██████████| 195/195 [02:49<00:00,  1.15it/s]\n",
            "Feature extracting: 100%|██████████| 196/196 [00:27<00:00,  7.21it/s]\n",
            "Test Epoch: [35/100] Acc@1:70.78% Acc@5:98.23%: 100%|██████████| 40/40 [00:07<00:00,  5.56it/s]\n",
            "  0%|          | 0/195 [00:00<?, ?it/s]"
          ],
          "name": "stderr"
        },
        {
          "output_type": "stream",
          "text": [
            "Best accuracy: 70.78\n"
          ],
          "name": "stdout"
        },
        {
          "output_type": "stream",
          "text": [
            "Train Epoch: [36/100] Loss: 4.8885: 100%|██████████| 195/195 [02:49<00:00,  1.15it/s]\n",
            "Feature extracting: 100%|██████████| 196/196 [00:27<00:00,  7.23it/s]\n",
            "Test Epoch: [36/100] Acc@1:70.37% Acc@5:98.12%: 100%|██████████| 40/40 [00:07<00:00,  5.70it/s]\n",
            "  0%|          | 0/195 [00:00<?, ?it/s]"
          ],
          "name": "stderr"
        },
        {
          "output_type": "stream",
          "text": [
            "Best accuracy: 70.78\n"
          ],
          "name": "stdout"
        },
        {
          "output_type": "stream",
          "text": [
            "Train Epoch: [37/100] Loss: 4.8790: 100%|██████████| 195/195 [02:50<00:00,  1.15it/s]\n",
            "Feature extracting: 100%|██████████| 196/196 [00:27<00:00,  7.22it/s]\n",
            "Test Epoch: [37/100] Acc@1:70.91% Acc@5:98.30%: 100%|██████████| 40/40 [00:07<00:00,  5.69it/s]\n",
            "  0%|          | 0/195 [00:00<?, ?it/s]"
          ],
          "name": "stderr"
        },
        {
          "output_type": "stream",
          "text": [
            "Best accuracy: 70.91\n"
          ],
          "name": "stdout"
        },
        {
          "output_type": "stream",
          "text": [
            "Train Epoch: [38/100] Loss: 4.8801: 100%|██████████| 195/195 [02:49<00:00,  1.15it/s]\n",
            "Feature extracting: 100%|██████████| 196/196 [00:27<00:00,  7.14it/s]\n",
            "Test Epoch: [38/100] Acc@1:71.19% Acc@5:98.25%: 100%|██████████| 40/40 [00:07<00:00,  5.64it/s]\n",
            "  0%|          | 0/195 [00:00<?, ?it/s]"
          ],
          "name": "stderr"
        },
        {
          "output_type": "stream",
          "text": [
            "Best accuracy: 71.19\n"
          ],
          "name": "stdout"
        },
        {
          "output_type": "stream",
          "text": [
            "Train Epoch: [39/100] Loss: 4.8803: 100%|██████████| 195/195 [02:50<00:00,  1.15it/s]\n",
            "Feature extracting: 100%|██████████| 196/196 [00:27<00:00,  7.19it/s]\n",
            "Test Epoch: [39/100] Acc@1:70.95% Acc@5:98.20%: 100%|██████████| 40/40 [00:07<00:00,  5.71it/s]\n",
            "  0%|          | 0/195 [00:00<?, ?it/s]"
          ],
          "name": "stderr"
        },
        {
          "output_type": "stream",
          "text": [
            "Best accuracy: 71.19\n"
          ],
          "name": "stdout"
        },
        {
          "output_type": "stream",
          "text": [
            "Train Epoch: [40/100] Loss: 4.8777: 100%|██████████| 195/195 [02:49<00:00,  1.15it/s]\n",
            "Feature extracting: 100%|██████████| 196/196 [00:27<00:00,  7.18it/s]\n",
            "Test Epoch: [40/100] Acc@1:70.99% Acc@5:98.33%: 100%|██████████| 40/40 [00:07<00:00,  5.63it/s]\n",
            "  0%|          | 0/195 [00:00<?, ?it/s]"
          ],
          "name": "stderr"
        },
        {
          "output_type": "stream",
          "text": [
            "Best accuracy: 71.19\n"
          ],
          "name": "stdout"
        },
        {
          "output_type": "stream",
          "text": [
            "Train Epoch: [41/100] Loss: 4.8731: 100%|██████████| 195/195 [02:49<00:00,  1.15it/s]\n",
            "Feature extracting: 100%|██████████| 196/196 [00:27<00:00,  7.14it/s]\n",
            "Test Epoch: [41/100] Acc@1:71.81% Acc@5:98.29%: 100%|██████████| 40/40 [00:06<00:00,  5.72it/s]\n",
            "  0%|          | 0/195 [00:00<?, ?it/s]"
          ],
          "name": "stderr"
        },
        {
          "output_type": "stream",
          "text": [
            "Best accuracy: 71.81\n"
          ],
          "name": "stdout"
        },
        {
          "output_type": "stream",
          "text": [
            "Train Epoch: [42/100] Loss: 4.8717: 100%|██████████| 195/195 [02:49<00:00,  1.15it/s]\n",
            "Feature extracting: 100%|██████████| 196/196 [00:27<00:00,  7.24it/s]\n",
            "Test Epoch: [42/100] Acc@1:71.61% Acc@5:98.37%: 100%|██████████| 40/40 [00:07<00:00,  5.71it/s]\n",
            "  0%|          | 0/195 [00:00<?, ?it/s]"
          ],
          "name": "stderr"
        },
        {
          "output_type": "stream",
          "text": [
            "Best accuracy: 71.81\n"
          ],
          "name": "stdout"
        },
        {
          "output_type": "stream",
          "text": [
            "Train Epoch: [43/100] Loss: 4.8705: 100%|██████████| 195/195 [02:49<00:00,  1.15it/s]\n",
            "Feature extracting: 100%|██████████| 196/196 [00:27<00:00,  7.19it/s]\n",
            "Test Epoch: [43/100] Acc@1:71.52% Acc@5:98.45%: 100%|██████████| 40/40 [00:07<00:00,  5.63it/s]\n",
            "  0%|          | 0/195 [00:00<?, ?it/s]"
          ],
          "name": "stderr"
        },
        {
          "output_type": "stream",
          "text": [
            "Best accuracy: 71.81\n"
          ],
          "name": "stdout"
        },
        {
          "output_type": "stream",
          "text": [
            "Train Epoch: [44/100] Loss: 4.8664: 100%|██████████| 195/195 [02:49<00:00,  1.15it/s]\n",
            "Feature extracting: 100%|██████████| 196/196 [00:27<00:00,  7.17it/s]\n",
            "Test Epoch: [44/100] Acc@1:72.14% Acc@5:98.30%: 100%|██████████| 40/40 [00:06<00:00,  5.75it/s]\n",
            "  0%|          | 0/195 [00:00<?, ?it/s]"
          ],
          "name": "stderr"
        },
        {
          "output_type": "stream",
          "text": [
            "Best accuracy: 72.14\n"
          ],
          "name": "stdout"
        },
        {
          "output_type": "stream",
          "text": [
            "Train Epoch: [45/100] Loss: 4.8667: 100%|██████████| 195/195 [02:50<00:00,  1.15it/s]\n",
            "Feature extracting: 100%|██████████| 196/196 [00:27<00:00,  7.25it/s]\n",
            "Test Epoch: [45/100] Acc@1:72.76% Acc@5:98.52%: 100%|██████████| 40/40 [00:07<00:00,  5.65it/s]\n",
            "  0%|          | 0/195 [00:00<?, ?it/s]"
          ],
          "name": "stderr"
        },
        {
          "output_type": "stream",
          "text": [
            "Best accuracy: 72.76\n"
          ],
          "name": "stdout"
        },
        {
          "output_type": "stream",
          "text": [
            "Train Epoch: [46/100] Loss: 4.8595: 100%|██████████| 195/195 [02:49<00:00,  1.15it/s]\n",
            "Feature extracting: 100%|██████████| 196/196 [00:27<00:00,  7.17it/s]\n",
            "Test Epoch: [46/100] Acc@1:72.87% Acc@5:98.39%: 100%|██████████| 40/40 [00:07<00:00,  5.65it/s]\n",
            "  0%|          | 0/195 [00:00<?, ?it/s]"
          ],
          "name": "stderr"
        },
        {
          "output_type": "stream",
          "text": [
            "Best accuracy: 72.87\n"
          ],
          "name": "stdout"
        },
        {
          "output_type": "stream",
          "text": [
            "Train Epoch: [47/100] Loss: 4.8570: 100%|██████████| 195/195 [02:49<00:00,  1.15it/s]\n",
            "Feature extracting: 100%|██████████| 196/196 [00:27<00:00,  7.25it/s]\n",
            "Test Epoch: [47/100] Acc@1:73.02% Acc@5:98.42%: 100%|██████████| 40/40 [00:06<00:00,  5.76it/s]\n",
            "  0%|          | 0/195 [00:00<?, ?it/s]"
          ],
          "name": "stderr"
        },
        {
          "output_type": "stream",
          "text": [
            "Best accuracy: 73.02\n"
          ],
          "name": "stdout"
        },
        {
          "output_type": "stream",
          "text": [
            "Train Epoch: [48/100] Loss: 4.8611: 100%|██████████| 195/195 [02:49<00:00,  1.15it/s]\n",
            "Feature extracting: 100%|██████████| 196/196 [00:27<00:00,  7.20it/s]\n",
            "Test Epoch: [48/100] Acc@1:72.54% Acc@5:98.37%: 100%|██████████| 40/40 [00:06<00:00,  5.79it/s]\n",
            "  0%|          | 0/195 [00:00<?, ?it/s]"
          ],
          "name": "stderr"
        },
        {
          "output_type": "stream",
          "text": [
            "Best accuracy: 73.02\n"
          ],
          "name": "stdout"
        },
        {
          "output_type": "stream",
          "text": [
            "Train Epoch: [49/100] Loss: 4.8575: 100%|██████████| 195/195 [02:49<00:00,  1.15it/s]\n",
            "Feature extracting: 100%|██████████| 196/196 [00:27<00:00,  7.24it/s]\n",
            "Test Epoch: [49/100] Acc@1:73.25% Acc@5:98.38%: 100%|██████████| 40/40 [00:06<00:00,  5.81it/s]\n",
            "  0%|          | 0/195 [00:00<?, ?it/s]"
          ],
          "name": "stderr"
        },
        {
          "output_type": "stream",
          "text": [
            "Best accuracy: 73.25\n"
          ],
          "name": "stdout"
        },
        {
          "output_type": "stream",
          "text": [
            "Train Epoch: [50/100] Loss: 4.8574: 100%|██████████| 195/195 [02:49<00:00,  1.15it/s]\n",
            "Feature extracting: 100%|██████████| 196/196 [00:27<00:00,  7.20it/s]\n",
            "Test Epoch: [50/100] Acc@1:72.69% Acc@5:98.37%: 100%|██████████| 40/40 [00:06<00:00,  5.76it/s]\n",
            "  0%|          | 0/195 [00:00<?, ?it/s]"
          ],
          "name": "stderr"
        },
        {
          "output_type": "stream",
          "text": [
            "Best accuracy: 73.25\n"
          ],
          "name": "stdout"
        },
        {
          "output_type": "stream",
          "text": [
            "Train Epoch: [51/100] Loss: 4.8516: 100%|██████████| 195/195 [02:49<00:00,  1.15it/s]\n",
            "Feature extracting: 100%|██████████| 196/196 [00:27<00:00,  7.22it/s]\n",
            "Test Epoch: [51/100] Acc@1:73.02% Acc@5:98.39%: 100%|██████████| 40/40 [00:06<00:00,  5.85it/s]\n",
            "  0%|          | 0/195 [00:00<?, ?it/s]"
          ],
          "name": "stderr"
        },
        {
          "output_type": "stream",
          "text": [
            "Best accuracy: 73.25\n"
          ],
          "name": "stdout"
        },
        {
          "output_type": "stream",
          "text": [
            "Train Epoch: [52/100] Loss: 4.8461: 100%|██████████| 195/195 [02:49<00:00,  1.15it/s]\n",
            "Feature extracting: 100%|██████████| 196/196 [00:27<00:00,  7.20it/s]\n",
            "Test Epoch: [52/100] Acc@1:73.08% Acc@5:98.51%: 100%|██████████| 40/40 [00:06<00:00,  5.77it/s]\n",
            "  0%|          | 0/195 [00:00<?, ?it/s]"
          ],
          "name": "stderr"
        },
        {
          "output_type": "stream",
          "text": [
            "Best accuracy: 73.25\n"
          ],
          "name": "stdout"
        },
        {
          "output_type": "stream",
          "text": [
            "Train Epoch: [53/100] Loss: 4.8443: 100%|██████████| 195/195 [02:49<00:00,  1.15it/s]\n",
            "Feature extracting: 100%|██████████| 196/196 [00:27<00:00,  7.17it/s]\n",
            "Test Epoch: [53/100] Acc@1:73.17% Acc@5:98.54%: 100%|██████████| 40/40 [00:06<00:00,  5.77it/s]\n",
            "  0%|          | 0/195 [00:00<?, ?it/s]"
          ],
          "name": "stderr"
        },
        {
          "output_type": "stream",
          "text": [
            "Best accuracy: 73.25\n"
          ],
          "name": "stdout"
        },
        {
          "output_type": "stream",
          "text": [
            "Train Epoch: [54/100] Loss: 4.8448: 100%|██████████| 195/195 [02:49<00:00,  1.15it/s]\n",
            "Feature extracting: 100%|██████████| 196/196 [00:26<00:00,  7.26it/s]\n",
            "Test Epoch: [54/100] Acc@1:73.60% Acc@5:98.58%: 100%|██████████| 40/40 [00:07<00:00,  5.71it/s]\n",
            "  0%|          | 0/195 [00:00<?, ?it/s]"
          ],
          "name": "stderr"
        },
        {
          "output_type": "stream",
          "text": [
            "Best accuracy: 73.6\n"
          ],
          "name": "stdout"
        },
        {
          "output_type": "stream",
          "text": [
            "Train Epoch: [55/100] Loss: 4.8435: 100%|██████████| 195/195 [02:49<00:00,  1.15it/s]\n",
            "Feature extracting: 100%|██████████| 196/196 [00:27<00:00,  7.23it/s]\n",
            "Test Epoch: [55/100] Acc@1:73.93% Acc@5:98.48%: 100%|██████████| 40/40 [00:07<00:00,  5.66it/s]\n",
            "  0%|          | 0/195 [00:00<?, ?it/s]"
          ],
          "name": "stderr"
        },
        {
          "output_type": "stream",
          "text": [
            "Best accuracy: 73.92999999999999\n"
          ],
          "name": "stdout"
        },
        {
          "output_type": "stream",
          "text": [
            "Train Epoch: [56/100] Loss: 4.8402: 100%|██████████| 195/195 [02:49<00:00,  1.15it/s]\n",
            "Feature extracting: 100%|██████████| 196/196 [00:27<00:00,  7.20it/s]\n",
            "Test Epoch: [56/100] Acc@1:73.29% Acc@5:98.45%: 100%|██████████| 40/40 [00:06<00:00,  5.81it/s]\n",
            "  0%|          | 0/195 [00:00<?, ?it/s]"
          ],
          "name": "stderr"
        },
        {
          "output_type": "stream",
          "text": [
            "Best accuracy: 73.92999999999999\n"
          ],
          "name": "stdout"
        },
        {
          "output_type": "stream",
          "text": [
            "Train Epoch: [57/100] Loss: 4.8428: 100%|██████████| 195/195 [02:49<00:00,  1.15it/s]\n",
            "Feature extracting: 100%|██████████| 196/196 [00:27<00:00,  7.25it/s]\n",
            "Test Epoch: [57/100] Acc@1:73.46% Acc@5:98.52%: 100%|██████████| 40/40 [00:07<00:00,  5.66it/s]\n",
            "  0%|          | 0/195 [00:00<?, ?it/s]"
          ],
          "name": "stderr"
        },
        {
          "output_type": "stream",
          "text": [
            "Best accuracy: 73.92999999999999\n"
          ],
          "name": "stdout"
        },
        {
          "output_type": "stream",
          "text": [
            "Train Epoch: [58/100] Loss: 4.8370: 100%|██████████| 195/195 [02:49<00:00,  1.15it/s]\n",
            "Feature extracting: 100%|██████████| 196/196 [00:27<00:00,  7.22it/s]\n",
            "Test Epoch: [58/100] Acc@1:74.05% Acc@5:98.64%: 100%|██████████| 40/40 [00:06<00:00,  5.90it/s]\n",
            "  0%|          | 0/195 [00:00<?, ?it/s]"
          ],
          "name": "stderr"
        },
        {
          "output_type": "stream",
          "text": [
            "Best accuracy: 74.05000000000001\n"
          ],
          "name": "stdout"
        },
        {
          "output_type": "stream",
          "text": [
            "Train Epoch: [59/100] Loss: 4.8395: 100%|██████████| 195/195 [02:49<00:00,  1.15it/s]\n",
            "Feature extracting: 100%|██████████| 196/196 [00:27<00:00,  7.22it/s]\n",
            "Test Epoch: [59/100] Acc@1:74.70% Acc@5:98.66%: 100%|██████████| 40/40 [00:06<00:00,  5.77it/s]\n",
            "  0%|          | 0/195 [00:00<?, ?it/s]"
          ],
          "name": "stderr"
        },
        {
          "output_type": "stream",
          "text": [
            "Best accuracy: 74.7\n"
          ],
          "name": "stdout"
        },
        {
          "output_type": "stream",
          "text": [
            "Train Epoch: [60/100] Loss: 4.8354: 100%|██████████| 195/195 [02:49<00:00,  1.15it/s]\n",
            "Feature extracting: 100%|██████████| 196/196 [00:26<00:00,  7.26it/s]\n",
            "Test Epoch: [60/100] Acc@1:74.19% Acc@5:98.55%: 100%|██████████| 40/40 [00:06<00:00,  5.85it/s]\n",
            "  0%|          | 0/195 [00:00<?, ?it/s]"
          ],
          "name": "stderr"
        },
        {
          "output_type": "stream",
          "text": [
            "Best accuracy: 74.7\n"
          ],
          "name": "stdout"
        },
        {
          "output_type": "stream",
          "text": [
            "Train Epoch: [61/100] Loss: 4.8377: 100%|██████████| 195/195 [02:49<00:00,  1.15it/s]\n",
            "Feature extracting: 100%|██████████| 196/196 [00:27<00:00,  7.21it/s]\n",
            "Test Epoch: [61/100] Acc@1:74.83% Acc@5:98.61%: 100%|██████████| 40/40 [00:07<00:00,  5.69it/s]\n",
            "  0%|          | 0/195 [00:00<?, ?it/s]"
          ],
          "name": "stderr"
        },
        {
          "output_type": "stream",
          "text": [
            "Best accuracy: 74.83\n"
          ],
          "name": "stdout"
        },
        {
          "output_type": "stream",
          "text": [
            "Train Epoch: [62/100] Loss: 4.8307: 100%|██████████| 195/195 [02:49<00:00,  1.15it/s]\n",
            "Feature extracting: 100%|██████████| 196/196 [00:26<00:00,  7.29it/s]\n",
            "Test Epoch: [62/100] Acc@1:74.30% Acc@5:98.57%: 100%|██████████| 40/40 [00:06<00:00,  5.80it/s]\n",
            "  0%|          | 0/195 [00:00<?, ?it/s]"
          ],
          "name": "stderr"
        },
        {
          "output_type": "stream",
          "text": [
            "Best accuracy: 74.83\n"
          ],
          "name": "stdout"
        },
        {
          "output_type": "stream",
          "text": [
            "Train Epoch: [63/100] Loss: 4.8308: 100%|██████████| 195/195 [02:49<00:00,  1.15it/s]\n",
            "Feature extracting: 100%|██████████| 196/196 [00:27<00:00,  7.23it/s]\n",
            "Test Epoch: [63/100] Acc@1:74.76% Acc@5:98.53%: 100%|██████████| 40/40 [00:06<00:00,  5.83it/s]\n",
            "  0%|          | 0/195 [00:00<?, ?it/s]"
          ],
          "name": "stderr"
        },
        {
          "output_type": "stream",
          "text": [
            "Best accuracy: 74.83\n"
          ],
          "name": "stdout"
        },
        {
          "output_type": "stream",
          "text": [
            "Train Epoch: [64/100] Loss: 4.8320: 100%|██████████| 195/195 [02:49<00:00,  1.15it/s]\n",
            "Feature extracting: 100%|██████████| 196/196 [00:27<00:00,  7.24it/s]\n",
            "Test Epoch: [64/100] Acc@1:74.89% Acc@5:98.69%: 100%|██████████| 40/40 [00:06<00:00,  5.81it/s]\n",
            "  0%|          | 0/195 [00:00<?, ?it/s]"
          ],
          "name": "stderr"
        },
        {
          "output_type": "stream",
          "text": [
            "Best accuracy: 74.89\n"
          ],
          "name": "stdout"
        },
        {
          "output_type": "stream",
          "text": [
            "Train Epoch: [65/100] Loss: 4.8298: 100%|██████████| 195/195 [02:49<00:00,  1.15it/s]\n",
            "Feature extracting: 100%|██████████| 196/196 [00:27<00:00,  7.23it/s]\n",
            "Test Epoch: [65/100] Acc@1:74.98% Acc@5:98.52%: 100%|██████████| 40/40 [00:06<00:00,  5.90it/s]\n",
            "  0%|          | 0/195 [00:00<?, ?it/s]"
          ],
          "name": "stderr"
        },
        {
          "output_type": "stream",
          "text": [
            "Best accuracy: 74.98\n"
          ],
          "name": "stdout"
        },
        {
          "output_type": "stream",
          "text": [
            "Train Epoch: [66/100] Loss: 4.8247: 100%|██████████| 195/195 [02:49<00:00,  1.15it/s]\n",
            "Feature extracting: 100%|██████████| 196/196 [00:27<00:00,  7.25it/s]\n",
            "Test Epoch: [66/100] Acc@1:75.20% Acc@5:98.72%: 100%|██████████| 40/40 [00:07<00:00,  5.67it/s]\n",
            "  0%|          | 0/195 [00:00<?, ?it/s]"
          ],
          "name": "stderr"
        },
        {
          "output_type": "stream",
          "text": [
            "Best accuracy: 75.2\n"
          ],
          "name": "stdout"
        },
        {
          "output_type": "stream",
          "text": [
            "Train Epoch: [67/100] Loss: 4.8276: 100%|██████████| 195/195 [02:49<00:00,  1.15it/s]\n",
            "Feature extracting: 100%|██████████| 196/196 [00:27<00:00,  7.25it/s]\n",
            "Test Epoch: [67/100] Acc@1:75.20% Acc@5:98.72%: 100%|██████████| 40/40 [00:06<00:00,  5.76it/s]\n",
            "  0%|          | 0/195 [00:00<?, ?it/s]"
          ],
          "name": "stderr"
        },
        {
          "output_type": "stream",
          "text": [
            "Best accuracy: 75.2\n"
          ],
          "name": "stdout"
        },
        {
          "output_type": "stream",
          "text": [
            "Train Epoch: [68/100] Loss: 4.8219: 100%|██████████| 195/195 [02:49<00:00,  1.15it/s]\n",
            "Feature extracting: 100%|██████████| 196/196 [00:26<00:00,  7.27it/s]\n",
            "Test Epoch: [68/100] Acc@1:75.20% Acc@5:98.74%: 100%|██████████| 40/40 [00:06<00:00,  5.85it/s]\n",
            "  0%|          | 0/195 [00:00<?, ?it/s]"
          ],
          "name": "stderr"
        },
        {
          "output_type": "stream",
          "text": [
            "Best accuracy: 75.2\n"
          ],
          "name": "stdout"
        },
        {
          "output_type": "stream",
          "text": [
            "Train Epoch: [69/100] Loss: 4.8164: 100%|██████████| 195/195 [02:49<00:00,  1.15it/s]\n",
            "Feature extracting: 100%|██████████| 196/196 [00:26<00:00,  7.28it/s]\n",
            "Test Epoch: [69/100] Acc@1:75.60% Acc@5:98.81%: 100%|██████████| 40/40 [00:07<00:00,  5.67it/s]\n",
            "  0%|          | 0/195 [00:00<?, ?it/s]"
          ],
          "name": "stderr"
        },
        {
          "output_type": "stream",
          "text": [
            "Best accuracy: 75.6\n"
          ],
          "name": "stdout"
        },
        {
          "output_type": "stream",
          "text": [
            "Train Epoch: [70/100] Loss: 4.8241: 100%|██████████| 195/195 [02:49<00:00,  1.15it/s]\n",
            "Feature extracting: 100%|██████████| 196/196 [00:27<00:00,  7.20it/s]\n",
            "Test Epoch: [70/100] Acc@1:75.66% Acc@5:98.75%: 100%|██████████| 40/40 [00:06<00:00,  5.86it/s]\n",
            "  0%|          | 0/195 [00:00<?, ?it/s]"
          ],
          "name": "stderr"
        },
        {
          "output_type": "stream",
          "text": [
            "Best accuracy: 75.66000000000001\n"
          ],
          "name": "stdout"
        },
        {
          "output_type": "stream",
          "text": [
            "Train Epoch: [71/100] Loss: 4.8228: 100%|██████████| 195/195 [02:49<00:00,  1.15it/s]\n",
            "Feature extracting: 100%|██████████| 196/196 [00:26<00:00,  7.27it/s]\n",
            "Test Epoch: [71/100] Acc@1:75.71% Acc@5:98.82%: 100%|██████████| 40/40 [00:06<00:00,  5.79it/s]\n",
            "  0%|          | 0/195 [00:00<?, ?it/s]"
          ],
          "name": "stderr"
        },
        {
          "output_type": "stream",
          "text": [
            "Best accuracy: 75.71\n"
          ],
          "name": "stdout"
        },
        {
          "output_type": "stream",
          "text": [
            "Train Epoch: [72/100] Loss: 4.8187: 100%|██████████| 195/195 [02:49<00:00,  1.15it/s]\n",
            "Feature extracting: 100%|██████████| 196/196 [00:27<00:00,  7.25it/s]\n",
            "Test Epoch: [72/100] Acc@1:75.52% Acc@5:98.59%: 100%|██████████| 40/40 [00:07<00:00,  5.67it/s]\n",
            "  0%|          | 0/195 [00:00<?, ?it/s]"
          ],
          "name": "stderr"
        },
        {
          "output_type": "stream",
          "text": [
            "Best accuracy: 75.71\n"
          ],
          "name": "stdout"
        },
        {
          "output_type": "stream",
          "text": [
            "Train Epoch: [73/100] Loss: 4.8199: 100%|██████████| 195/195 [02:49<00:00,  1.15it/s]\n",
            "Feature extracting: 100%|██████████| 196/196 [00:27<00:00,  7.22it/s]\n",
            "Test Epoch: [73/100] Acc@1:75.69% Acc@5:98.78%: 100%|██████████| 40/40 [00:07<00:00,  5.69it/s]\n",
            "  0%|          | 0/195 [00:00<?, ?it/s]"
          ],
          "name": "stderr"
        },
        {
          "output_type": "stream",
          "text": [
            "Best accuracy: 75.71\n"
          ],
          "name": "stdout"
        },
        {
          "output_type": "stream",
          "text": [
            "Train Epoch: [74/100] Loss: 4.8222: 100%|██████████| 195/195 [02:49<00:00,  1.15it/s]\n",
            "Feature extracting: 100%|██████████| 196/196 [00:27<00:00,  7.25it/s]\n",
            "Test Epoch: [74/100] Acc@1:75.63% Acc@5:98.71%: 100%|██████████| 40/40 [00:07<00:00,  5.63it/s]\n",
            "  0%|          | 0/195 [00:00<?, ?it/s]"
          ],
          "name": "stderr"
        },
        {
          "output_type": "stream",
          "text": [
            "Best accuracy: 75.71\n"
          ],
          "name": "stdout"
        },
        {
          "output_type": "stream",
          "text": [
            "Train Epoch: [75/100] Loss: 4.8166: 100%|██████████| 195/195 [02:49<00:00,  1.15it/s]\n",
            "Feature extracting: 100%|██████████| 196/196 [00:27<00:00,  7.21it/s]\n",
            "Test Epoch: [75/100] Acc@1:75.63% Acc@5:98.62%: 100%|██████████| 40/40 [00:07<00:00,  5.62it/s]\n",
            "  0%|          | 0/195 [00:00<?, ?it/s]"
          ],
          "name": "stderr"
        },
        {
          "output_type": "stream",
          "text": [
            "Best accuracy: 75.71\n"
          ],
          "name": "stdout"
        },
        {
          "output_type": "stream",
          "text": [
            "Train Epoch: [76/100] Loss: 4.8133: 100%|██████████| 195/195 [02:49<00:00,  1.15it/s]\n",
            "Feature extracting: 100%|██████████| 196/196 [00:27<00:00,  7.16it/s]\n",
            "Test Epoch: [76/100] Acc@1:76.68% Acc@5:98.78%: 100%|██████████| 40/40 [00:06<00:00,  5.82it/s]\n",
            "  0%|          | 0/195 [00:00<?, ?it/s]"
          ],
          "name": "stderr"
        },
        {
          "output_type": "stream",
          "text": [
            "Best accuracy: 76.68\n"
          ],
          "name": "stdout"
        },
        {
          "output_type": "stream",
          "text": [
            "Train Epoch: [77/100] Loss: 4.8122: 100%|██████████| 195/195 [02:49<00:00,  1.15it/s]\n",
            "Feature extracting: 100%|██████████| 196/196 [00:27<00:00,  7.24it/s]\n",
            "Test Epoch: [77/100] Acc@1:75.81% Acc@5:98.72%: 100%|██████████| 40/40 [00:06<00:00,  5.72it/s]\n",
            "  0%|          | 0/195 [00:00<?, ?it/s]"
          ],
          "name": "stderr"
        },
        {
          "output_type": "stream",
          "text": [
            "Best accuracy: 76.68\n"
          ],
          "name": "stdout"
        },
        {
          "output_type": "stream",
          "text": [
            "Train Epoch: [78/100] Loss: 4.8112: 100%|██████████| 195/195 [02:50<00:00,  1.15it/s]\n",
            "Feature extracting: 100%|██████████| 196/196 [00:27<00:00,  7.14it/s]\n",
            "Test Epoch: [78/100] Acc@1:76.30% Acc@5:98.76%: 100%|██████████| 40/40 [00:07<00:00,  5.68it/s]\n",
            "  0%|          | 0/195 [00:00<?, ?it/s]"
          ],
          "name": "stderr"
        },
        {
          "output_type": "stream",
          "text": [
            "Best accuracy: 76.68\n"
          ],
          "name": "stdout"
        },
        {
          "output_type": "stream",
          "text": [
            "Train Epoch: [79/100] Loss: 4.8130: 100%|██████████| 195/195 [02:49<00:00,  1.15it/s]\n",
            "Feature extracting: 100%|██████████| 196/196 [00:27<00:00,  7.16it/s]\n",
            "Test Epoch: [79/100] Acc@1:76.58% Acc@5:98.74%: 100%|██████████| 40/40 [00:06<00:00,  5.77it/s]\n",
            "  0%|          | 0/195 [00:00<?, ?it/s]"
          ],
          "name": "stderr"
        },
        {
          "output_type": "stream",
          "text": [
            "Best accuracy: 76.68\n"
          ],
          "name": "stdout"
        },
        {
          "output_type": "stream",
          "text": [
            "Train Epoch: [80/100] Loss: 4.8126: 100%|██████████| 195/195 [02:49<00:00,  1.15it/s]\n",
            "Feature extracting: 100%|██████████| 196/196 [00:27<00:00,  7.18it/s]\n",
            "Test Epoch: [80/100] Acc@1:76.57% Acc@5:98.78%: 100%|██████████| 40/40 [00:07<00:00,  5.56it/s]\n",
            "  0%|          | 0/195 [00:00<?, ?it/s]"
          ],
          "name": "stderr"
        },
        {
          "output_type": "stream",
          "text": [
            "Best accuracy: 76.68\n"
          ],
          "name": "stdout"
        },
        {
          "output_type": "stream",
          "text": [
            "Train Epoch: [81/100] Loss: 4.8098: 100%|██████████| 195/195 [02:49<00:00,  1.15it/s]\n",
            "Feature extracting: 100%|██████████| 196/196 [00:27<00:00,  7.22it/s]\n",
            "Test Epoch: [81/100] Acc@1:76.68% Acc@5:98.79%: 100%|██████████| 40/40 [00:06<00:00,  5.74it/s]\n",
            "  0%|          | 0/195 [00:00<?, ?it/s]"
          ],
          "name": "stderr"
        },
        {
          "output_type": "stream",
          "text": [
            "Best accuracy: 76.68\n"
          ],
          "name": "stdout"
        },
        {
          "output_type": "stream",
          "text": [
            "Train Epoch: [82/100] Loss: 4.8068: 100%|██████████| 195/195 [02:50<00:00,  1.15it/s]\n",
            "Feature extracting: 100%|██████████| 196/196 [00:27<00:00,  7.21it/s]\n",
            "Test Epoch: [82/100] Acc@1:76.53% Acc@5:98.74%: 100%|██████████| 40/40 [00:06<00:00,  5.74it/s]\n",
            "  0%|          | 0/195 [00:00<?, ?it/s]"
          ],
          "name": "stderr"
        },
        {
          "output_type": "stream",
          "text": [
            "Best accuracy: 76.68\n"
          ],
          "name": "stdout"
        },
        {
          "output_type": "stream",
          "text": [
            "Train Epoch: [83/100] Loss: 4.8063: 100%|██████████| 195/195 [02:49<00:00,  1.15it/s]\n",
            "Feature extracting: 100%|██████████| 196/196 [00:27<00:00,  7.20it/s]\n",
            "Test Epoch: [83/100] Acc@1:76.85% Acc@5:98.90%: 100%|██████████| 40/40 [00:06<00:00,  5.80it/s]\n",
            "  0%|          | 0/195 [00:00<?, ?it/s]"
          ],
          "name": "stderr"
        },
        {
          "output_type": "stream",
          "text": [
            "Best accuracy: 76.85\n"
          ],
          "name": "stdout"
        },
        {
          "output_type": "stream",
          "text": [
            "Train Epoch: [84/100] Loss: 4.8049: 100%|██████████| 195/195 [02:49<00:00,  1.15it/s]\n",
            "Feature extracting: 100%|██████████| 196/196 [00:26<00:00,  7.27it/s]\n",
            "Test Epoch: [84/100] Acc@1:76.94% Acc@5:98.78%: 100%|██████████| 40/40 [00:06<00:00,  5.86it/s]\n",
            "  0%|          | 0/195 [00:00<?, ?it/s]"
          ],
          "name": "stderr"
        },
        {
          "output_type": "stream",
          "text": [
            "Best accuracy: 76.94\n"
          ],
          "name": "stdout"
        },
        {
          "output_type": "stream",
          "text": [
            "Train Epoch: [85/100] Loss: 4.8016: 100%|██████████| 195/195 [02:49<00:00,  1.15it/s]\n",
            "Feature extracting: 100%|██████████| 196/196 [00:26<00:00,  7.26it/s]\n",
            "Test Epoch: [85/100] Acc@1:77.46% Acc@5:98.95%: 100%|██████████| 40/40 [00:06<00:00,  5.85it/s]\n",
            "  0%|          | 0/195 [00:00<?, ?it/s]"
          ],
          "name": "stderr"
        },
        {
          "output_type": "stream",
          "text": [
            "Best accuracy: 77.46\n"
          ],
          "name": "stdout"
        },
        {
          "output_type": "stream",
          "text": [
            "Train Epoch: [86/100] Loss: 4.8001: 100%|██████████| 195/195 [02:49<00:00,  1.15it/s]\n",
            "Feature extracting: 100%|██████████| 196/196 [00:27<00:00,  7.24it/s]\n",
            "Test Epoch: [86/100] Acc@1:77.13% Acc@5:98.93%: 100%|██████████| 40/40 [00:06<00:00,  5.77it/s]\n",
            "  0%|          | 0/195 [00:00<?, ?it/s]"
          ],
          "name": "stderr"
        },
        {
          "output_type": "stream",
          "text": [
            "Best accuracy: 77.46\n"
          ],
          "name": "stdout"
        },
        {
          "output_type": "stream",
          "text": [
            "Train Epoch: [87/100] Loss: 4.8018: 100%|██████████| 195/195 [02:49<00:00,  1.15it/s]\n",
            "Feature extracting: 100%|██████████| 196/196 [00:27<00:00,  7.22it/s]\n",
            "Test Epoch: [87/100] Acc@1:76.98% Acc@5:98.81%: 100%|██████████| 40/40 [00:06<00:00,  5.78it/s]\n",
            "  0%|          | 0/195 [00:00<?, ?it/s]"
          ],
          "name": "stderr"
        },
        {
          "output_type": "stream",
          "text": [
            "Best accuracy: 77.46\n"
          ],
          "name": "stdout"
        },
        {
          "output_type": "stream",
          "text": [
            "Train Epoch: [88/100] Loss: 4.8006: 100%|██████████| 195/195 [02:49<00:00,  1.15it/s]\n",
            "Feature extracting: 100%|██████████| 196/196 [00:27<00:00,  7.23it/s]\n",
            "Test Epoch: [88/100] Acc@1:77.16% Acc@5:98.84%: 100%|██████████| 40/40 [00:06<00:00,  5.96it/s]\n",
            "  0%|          | 0/195 [00:00<?, ?it/s]"
          ],
          "name": "stderr"
        },
        {
          "output_type": "stream",
          "text": [
            "Best accuracy: 77.46\n"
          ],
          "name": "stdout"
        },
        {
          "output_type": "stream",
          "text": [
            "Train Epoch: [89/100] Loss: 4.8041: 100%|██████████| 195/195 [02:49<00:00,  1.15it/s]\n",
            "Feature extracting: 100%|██████████| 196/196 [00:27<00:00,  7.24it/s]\n",
            "Test Epoch: [89/100] Acc@1:76.94% Acc@5:98.94%: 100%|██████████| 40/40 [00:06<00:00,  5.89it/s]\n",
            "  0%|          | 0/195 [00:00<?, ?it/s]"
          ],
          "name": "stderr"
        },
        {
          "output_type": "stream",
          "text": [
            "Best accuracy: 77.46\n"
          ],
          "name": "stdout"
        },
        {
          "output_type": "stream",
          "text": [
            "Train Epoch: [90/100] Loss: 4.7988: 100%|██████████| 195/195 [02:49<00:00,  1.15it/s]\n",
            "Feature extracting: 100%|██████████| 196/196 [00:27<00:00,  7.25it/s]\n",
            "Test Epoch: [90/100] Acc@1:77.02% Acc@5:98.93%: 100%|██████████| 40/40 [00:06<00:00,  5.90it/s]\n",
            "  0%|          | 0/195 [00:00<?, ?it/s]"
          ],
          "name": "stderr"
        },
        {
          "output_type": "stream",
          "text": [
            "Best accuracy: 77.46\n"
          ],
          "name": "stdout"
        },
        {
          "output_type": "stream",
          "text": [
            "Train Epoch: [91/100] Loss: 4.8014: 100%|██████████| 195/195 [02:49<00:00,  1.15it/s]\n",
            "Feature extracting: 100%|██████████| 196/196 [00:27<00:00,  7.19it/s]\n",
            "Test Epoch: [91/100] Acc@1:77.41% Acc@5:98.96%: 100%|██████████| 40/40 [00:06<00:00,  5.76it/s]\n",
            "  0%|          | 0/195 [00:00<?, ?it/s]"
          ],
          "name": "stderr"
        },
        {
          "output_type": "stream",
          "text": [
            "Best accuracy: 77.46\n"
          ],
          "name": "stdout"
        },
        {
          "output_type": "stream",
          "text": [
            "Train Epoch: [92/100] Loss: 4.7981: 100%|██████████| 195/195 [02:49<00:00,  1.15it/s]\n",
            "Feature extracting: 100%|██████████| 196/196 [00:27<00:00,  7.20it/s]\n",
            "Test Epoch: [92/100] Acc@1:77.41% Acc@5:98.79%: 100%|██████████| 40/40 [00:06<00:00,  5.86it/s]\n",
            "  0%|          | 0/195 [00:00<?, ?it/s]"
          ],
          "name": "stderr"
        },
        {
          "output_type": "stream",
          "text": [
            "Best accuracy: 77.46\n"
          ],
          "name": "stdout"
        },
        {
          "output_type": "stream",
          "text": [
            "Train Epoch: [93/100] Loss: 4.7954: 100%|██████████| 195/195 [02:49<00:00,  1.15it/s]\n",
            "Feature extracting: 100%|██████████| 196/196 [00:27<00:00,  7.18it/s]\n",
            "Test Epoch: [93/100] Acc@1:77.41% Acc@5:98.86%: 100%|██████████| 40/40 [00:06<00:00,  5.76it/s]\n",
            "  0%|          | 0/195 [00:00<?, ?it/s]"
          ],
          "name": "stderr"
        },
        {
          "output_type": "stream",
          "text": [
            "Best accuracy: 77.46\n"
          ],
          "name": "stdout"
        },
        {
          "output_type": "stream",
          "text": [
            "Train Epoch: [94/100] Loss: 4.7922: 100%|██████████| 195/195 [02:49<00:00,  1.15it/s]\n",
            "Feature extracting: 100%|██████████| 196/196 [00:27<00:00,  7.25it/s]\n",
            "Test Epoch: [94/100] Acc@1:77.62% Acc@5:98.92%: 100%|██████████| 40/40 [00:06<00:00,  5.76it/s]\n",
            "  0%|          | 0/195 [00:00<?, ?it/s]"
          ],
          "name": "stderr"
        },
        {
          "output_type": "stream",
          "text": [
            "Best accuracy: 77.62\n"
          ],
          "name": "stdout"
        },
        {
          "output_type": "stream",
          "text": [
            "Train Epoch: [95/100] Loss: 4.7928: 100%|██████████| 195/195 [02:49<00:00,  1.15it/s]\n",
            "Feature extracting: 100%|██████████| 196/196 [00:27<00:00,  7.18it/s]\n",
            "Test Epoch: [95/100] Acc@1:77.69% Acc@5:98.91%: 100%|██████████| 40/40 [00:06<00:00,  5.92it/s]\n",
            "  0%|          | 0/195 [00:00<?, ?it/s]"
          ],
          "name": "stderr"
        },
        {
          "output_type": "stream",
          "text": [
            "Best accuracy: 77.69\n"
          ],
          "name": "stdout"
        },
        {
          "output_type": "stream",
          "text": [
            "Train Epoch: [96/100] Loss: 4.7924: 100%|██████████| 195/195 [02:49<00:00,  1.15it/s]\n",
            "Feature extracting: 100%|██████████| 196/196 [00:27<00:00,  7.23it/s]\n",
            "Train Epoch: [97/100] Loss: 4.7883: 100%|██████████| 195/195 [02:49<00:00,  1.15it/s]\n",
            "Feature extracting: 100%|██████████| 196/196 [00:27<00:00,  7.20it/s]\n",
            "Test Epoch: [97/100] Acc@1:77.39% Acc@5:98.82%: 100%|██████████| 40/40 [00:06<00:00,  5.83it/s]\n",
            "  0%|          | 0/195 [00:00<?, ?it/s]"
          ],
          "name": "stderr"
        },
        {
          "output_type": "stream",
          "text": [
            "Best accuracy: 77.7\n"
          ],
          "name": "stdout"
        },
        {
          "output_type": "stream",
          "text": [
            "Train Epoch: [98/100] Loss: 4.7939: 100%|██████████| 195/195 [02:49<00:00,  1.15it/s]\n",
            "Feature extracting: 100%|██████████| 196/196 [00:27<00:00,  7.23it/s]\n",
            "Test Epoch: [98/100] Acc@1:78.02% Acc@5:98.82%: 100%|██████████| 40/40 [00:06<00:00,  5.79it/s]\n",
            "  0%|          | 0/195 [00:00<?, ?it/s]"
          ],
          "name": "stderr"
        },
        {
          "output_type": "stream",
          "text": [
            "Best accuracy: 78.02\n"
          ],
          "name": "stdout"
        },
        {
          "output_type": "stream",
          "text": [
            "Train Epoch: [99/100] Loss: 4.7904: 100%|██████████| 195/195 [02:49<00:00,  1.15it/s]\n",
            "Feature extracting: 100%|██████████| 196/196 [00:27<00:00,  7.19it/s]\n",
            "Test Epoch: [99/100] Acc@1:77.89% Acc@5:98.95%: 100%|██████████| 40/40 [00:06<00:00,  5.90it/s]\n",
            "  0%|          | 0/195 [00:00<?, ?it/s]"
          ],
          "name": "stderr"
        },
        {
          "output_type": "stream",
          "text": [
            "Best accuracy: 78.02\n"
          ],
          "name": "stdout"
        },
        {
          "output_type": "stream",
          "text": [
            "Train Epoch: [100/100] Loss: 4.7923: 100%|██████████| 195/195 [02:49<00:00,  1.15it/s]\n",
            "Feature extracting: 100%|██████████| 196/196 [00:27<00:00,  7.23it/s]\n",
            "Test Epoch: [100/100] Acc@1:77.85% Acc@5:98.96%: 100%|██████████| 40/40 [00:06<00:00,  5.81it/s]"
          ],
          "name": "stderr"
        },
        {
          "output_type": "stream",
          "text": [
            "Best accuracy: 78.02\n"
          ],
          "name": "stdout"
        },
        {
          "output_type": "stream",
          "text": [
            "\n"
          ],
          "name": "stderr"
        }
      ]
    },
    {
      "cell_type": "code",
      "metadata": {
        "id": "n2_QpYAK5y_-"
      },
      "source": [
        "# while True:\n",
        "#   pass"
      ],
      "execution_count": 6,
      "outputs": []
    },
    {
      "cell_type": "code",
      "metadata": {
        "id": "SdRJKl6coRes"
      },
      "source": [
        ""
      ],
      "execution_count": 6,
      "outputs": []
    }
  ]
}